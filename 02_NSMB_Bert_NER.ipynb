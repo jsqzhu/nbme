{
  "nbformat": 4,
  "nbformat_minor": 0,
  "metadata": {
    "colab": {
      "provenance": [],
      "toc_visible": true,
      "authorship_tag": "ABX9TyNuVpKmuAqtjcM2LOjJqSOs",
      "include_colab_link": true
    },
    "kernelspec": {
      "name": "python3",
      "display_name": "Python 3"
    },
    "language_info": {
      "name": "python"
    },
    "gpuClass": "standard",
    "accelerator": "GPU",
    "widgets": {
      "application/vnd.jupyter.widget-state+json": {
        "809501a67ee04b5ea688e6380e8a5039": {
          "model_module": "@jupyter-widgets/controls",
          "model_name": "HBoxModel",
          "model_module_version": "1.5.0",
          "state": {
            "_dom_classes": [],
            "_model_module": "@jupyter-widgets/controls",
            "_model_module_version": "1.5.0",
            "_model_name": "HBoxModel",
            "_view_count": null,
            "_view_module": "@jupyter-widgets/controls",
            "_view_module_version": "1.5.0",
            "_view_name": "HBoxView",
            "box_style": "",
            "children": [
              "IPY_MODEL_d02d180562d5450caecec775c27aff72",
              "IPY_MODEL_ee4cdf82c0384dc68da130aac86c00ea",
              "IPY_MODEL_e08d7758c3eb4097941b901e36d9d66c"
            ],
            "layout": "IPY_MODEL_0ebe4962cab842888bd1f7ca7cbbc306"
          }
        },
        "d02d180562d5450caecec775c27aff72": {
          "model_module": "@jupyter-widgets/controls",
          "model_name": "HTMLModel",
          "model_module_version": "1.5.0",
          "state": {
            "_dom_classes": [],
            "_model_module": "@jupyter-widgets/controls",
            "_model_module_version": "1.5.0",
            "_model_name": "HTMLModel",
            "_view_count": null,
            "_view_module": "@jupyter-widgets/controls",
            "_view_module_version": "1.5.0",
            "_view_name": "HTMLView",
            "description": "",
            "description_tooltip": null,
            "layout": "IPY_MODEL_94b596f100104a91abbdcf980773b8ae",
            "placeholder": "​",
            "style": "IPY_MODEL_df4a1e9946164e97b6ca8c655c62c769",
            "value": "Downloading tf_model.h5: 100%"
          }
        },
        "ee4cdf82c0384dc68da130aac86c00ea": {
          "model_module": "@jupyter-widgets/controls",
          "model_name": "FloatProgressModel",
          "model_module_version": "1.5.0",
          "state": {
            "_dom_classes": [],
            "_model_module": "@jupyter-widgets/controls",
            "_model_module_version": "1.5.0",
            "_model_name": "FloatProgressModel",
            "_view_count": null,
            "_view_module": "@jupyter-widgets/controls",
            "_view_module_version": "1.5.0",
            "_view_name": "ProgressView",
            "bar_style": "success",
            "description": "",
            "description_tooltip": null,
            "layout": "IPY_MODEL_38cafe7b28bb4f7fb901e1bb5978d1e3",
            "max": 657434796,
            "min": 0,
            "orientation": "horizontal",
            "style": "IPY_MODEL_92fe4e3d771645a7a8475f5a8e3f06ce",
            "value": 657434796
          }
        },
        "e08d7758c3eb4097941b901e36d9d66c": {
          "model_module": "@jupyter-widgets/controls",
          "model_name": "HTMLModel",
          "model_module_version": "1.5.0",
          "state": {
            "_dom_classes": [],
            "_model_module": "@jupyter-widgets/controls",
            "_model_module_version": "1.5.0",
            "_model_name": "HTMLModel",
            "_view_count": null,
            "_view_module": "@jupyter-widgets/controls",
            "_view_module_version": "1.5.0",
            "_view_name": "HTMLView",
            "description": "",
            "description_tooltip": null,
            "layout": "IPY_MODEL_92d6bf00381a4808ad93ec6258fb65cc",
            "placeholder": "​",
            "style": "IPY_MODEL_0f9667d8fa7e4920a5e5613d72950cb4",
            "value": " 657M/657M [00:06&lt;00:00, 101MB/s]"
          }
        },
        "0ebe4962cab842888bd1f7ca7cbbc306": {
          "model_module": "@jupyter-widgets/base",
          "model_name": "LayoutModel",
          "model_module_version": "1.2.0",
          "state": {
            "_model_module": "@jupyter-widgets/base",
            "_model_module_version": "1.2.0",
            "_model_name": "LayoutModel",
            "_view_count": null,
            "_view_module": "@jupyter-widgets/base",
            "_view_module_version": "1.2.0",
            "_view_name": "LayoutView",
            "align_content": null,
            "align_items": null,
            "align_self": null,
            "border": null,
            "bottom": null,
            "display": null,
            "flex": null,
            "flex_flow": null,
            "grid_area": null,
            "grid_auto_columns": null,
            "grid_auto_flow": null,
            "grid_auto_rows": null,
            "grid_column": null,
            "grid_gap": null,
            "grid_row": null,
            "grid_template_areas": null,
            "grid_template_columns": null,
            "grid_template_rows": null,
            "height": null,
            "justify_content": null,
            "justify_items": null,
            "left": null,
            "margin": null,
            "max_height": null,
            "max_width": null,
            "min_height": null,
            "min_width": null,
            "object_fit": null,
            "object_position": null,
            "order": null,
            "overflow": null,
            "overflow_x": null,
            "overflow_y": null,
            "padding": null,
            "right": null,
            "top": null,
            "visibility": null,
            "width": null
          }
        },
        "94b596f100104a91abbdcf980773b8ae": {
          "model_module": "@jupyter-widgets/base",
          "model_name": "LayoutModel",
          "model_module_version": "1.2.0",
          "state": {
            "_model_module": "@jupyter-widgets/base",
            "_model_module_version": "1.2.0",
            "_model_name": "LayoutModel",
            "_view_count": null,
            "_view_module": "@jupyter-widgets/base",
            "_view_module_version": "1.2.0",
            "_view_name": "LayoutView",
            "align_content": null,
            "align_items": null,
            "align_self": null,
            "border": null,
            "bottom": null,
            "display": null,
            "flex": null,
            "flex_flow": null,
            "grid_area": null,
            "grid_auto_columns": null,
            "grid_auto_flow": null,
            "grid_auto_rows": null,
            "grid_column": null,
            "grid_gap": null,
            "grid_row": null,
            "grid_template_areas": null,
            "grid_template_columns": null,
            "grid_template_rows": null,
            "height": null,
            "justify_content": null,
            "justify_items": null,
            "left": null,
            "margin": null,
            "max_height": null,
            "max_width": null,
            "min_height": null,
            "min_width": null,
            "object_fit": null,
            "object_position": null,
            "order": null,
            "overflow": null,
            "overflow_x": null,
            "overflow_y": null,
            "padding": null,
            "right": null,
            "top": null,
            "visibility": null,
            "width": null
          }
        },
        "df4a1e9946164e97b6ca8c655c62c769": {
          "model_module": "@jupyter-widgets/controls",
          "model_name": "DescriptionStyleModel",
          "model_module_version": "1.5.0",
          "state": {
            "_model_module": "@jupyter-widgets/controls",
            "_model_module_version": "1.5.0",
            "_model_name": "DescriptionStyleModel",
            "_view_count": null,
            "_view_module": "@jupyter-widgets/base",
            "_view_module_version": "1.2.0",
            "_view_name": "StyleView",
            "description_width": ""
          }
        },
        "38cafe7b28bb4f7fb901e1bb5978d1e3": {
          "model_module": "@jupyter-widgets/base",
          "model_name": "LayoutModel",
          "model_module_version": "1.2.0",
          "state": {
            "_model_module": "@jupyter-widgets/base",
            "_model_module_version": "1.2.0",
            "_model_name": "LayoutModel",
            "_view_count": null,
            "_view_module": "@jupyter-widgets/base",
            "_view_module_version": "1.2.0",
            "_view_name": "LayoutView",
            "align_content": null,
            "align_items": null,
            "align_self": null,
            "border": null,
            "bottom": null,
            "display": null,
            "flex": null,
            "flex_flow": null,
            "grid_area": null,
            "grid_auto_columns": null,
            "grid_auto_flow": null,
            "grid_auto_rows": null,
            "grid_column": null,
            "grid_gap": null,
            "grid_row": null,
            "grid_template_areas": null,
            "grid_template_columns": null,
            "grid_template_rows": null,
            "height": null,
            "justify_content": null,
            "justify_items": null,
            "left": null,
            "margin": null,
            "max_height": null,
            "max_width": null,
            "min_height": null,
            "min_width": null,
            "object_fit": null,
            "object_position": null,
            "order": null,
            "overflow": null,
            "overflow_x": null,
            "overflow_y": null,
            "padding": null,
            "right": null,
            "top": null,
            "visibility": null,
            "width": null
          }
        },
        "92fe4e3d771645a7a8475f5a8e3f06ce": {
          "model_module": "@jupyter-widgets/controls",
          "model_name": "ProgressStyleModel",
          "model_module_version": "1.5.0",
          "state": {
            "_model_module": "@jupyter-widgets/controls",
            "_model_module_version": "1.5.0",
            "_model_name": "ProgressStyleModel",
            "_view_count": null,
            "_view_module": "@jupyter-widgets/base",
            "_view_module_version": "1.2.0",
            "_view_name": "StyleView",
            "bar_color": null,
            "description_width": ""
          }
        },
        "92d6bf00381a4808ad93ec6258fb65cc": {
          "model_module": "@jupyter-widgets/base",
          "model_name": "LayoutModel",
          "model_module_version": "1.2.0",
          "state": {
            "_model_module": "@jupyter-widgets/base",
            "_model_module_version": "1.2.0",
            "_model_name": "LayoutModel",
            "_view_count": null,
            "_view_module": "@jupyter-widgets/base",
            "_view_module_version": "1.2.0",
            "_view_name": "LayoutView",
            "align_content": null,
            "align_items": null,
            "align_self": null,
            "border": null,
            "bottom": null,
            "display": null,
            "flex": null,
            "flex_flow": null,
            "grid_area": null,
            "grid_auto_columns": null,
            "grid_auto_flow": null,
            "grid_auto_rows": null,
            "grid_column": null,
            "grid_gap": null,
            "grid_row": null,
            "grid_template_areas": null,
            "grid_template_columns": null,
            "grid_template_rows": null,
            "height": null,
            "justify_content": null,
            "justify_items": null,
            "left": null,
            "margin": null,
            "max_height": null,
            "max_width": null,
            "min_height": null,
            "min_width": null,
            "object_fit": null,
            "object_position": null,
            "order": null,
            "overflow": null,
            "overflow_x": null,
            "overflow_y": null,
            "padding": null,
            "right": null,
            "top": null,
            "visibility": null,
            "width": null
          }
        },
        "0f9667d8fa7e4920a5e5613d72950cb4": {
          "model_module": "@jupyter-widgets/controls",
          "model_name": "DescriptionStyleModel",
          "model_module_version": "1.5.0",
          "state": {
            "_model_module": "@jupyter-widgets/controls",
            "_model_module_version": "1.5.0",
            "_model_name": "DescriptionStyleModel",
            "_view_count": null,
            "_view_module": "@jupyter-widgets/base",
            "_view_module_version": "1.2.0",
            "_view_name": "StyleView",
            "description_width": ""
          }
        }
      }
    }
  },
  "cells": [
    {
      "cell_type": "markdown",
      "metadata": {
        "id": "view-in-github",
        "colab_type": "text"
      },
      "source": [
        "<a href=\"https://colab.research.google.com/github/jsqzhu/nbme/blob/main/02_NSMB_Bert_NER.ipynb\" target=\"_parent\"><img src=\"https://colab.research.google.com/assets/colab-badge.svg\" alt=\"Open In Colab\"/></a>"
      ]
    },
    {
      "cell_type": "markdown",
      "source": [
        "# Import libraries"
      ],
      "metadata": {
        "id": "mhmTg3z0fZvR"
      }
    },
    {
      "cell_type": "code",
      "source": [
        "!pip install transformers"
      ],
      "metadata": {
        "colab": {
          "base_uri": "https://localhost:8080/"
        },
        "id": "l1wvPnn1lPiL",
        "outputId": "cdb489b3-d581-4cab-88b1-2ce50122f951"
      },
      "execution_count": 1,
      "outputs": [
        {
          "output_type": "stream",
          "name": "stdout",
          "text": [
            "Looking in indexes: https://pypi.org/simple, https://us-python.pkg.dev/colab-wheels/public/simple/\n",
            "Collecting transformers\n",
            "  Downloading transformers-4.27.4-py3-none-any.whl (6.8 MB)\n",
            "\u001b[2K     \u001b[90m━━━━━━━━━━━━━━━━━━━━━━━━━━━━━━━━━━━━━━━━\u001b[0m \u001b[32m6.8/6.8 MB\u001b[0m \u001b[31m93.6 MB/s\u001b[0m eta \u001b[36m0:00:00\u001b[0m\n",
            "\u001b[?25hRequirement already satisfied: pyyaml>=5.1 in /usr/local/lib/python3.9/dist-packages (from transformers) (6.0)\n",
            "Collecting tokenizers!=0.11.3,<0.14,>=0.11.1\n",
            "  Downloading tokenizers-0.13.2-cp39-cp39-manylinux_2_17_x86_64.manylinux2014_x86_64.whl (7.6 MB)\n",
            "\u001b[2K     \u001b[90m━━━━━━━━━━━━━━━━━━━━━━━━━━━━━━━━━━━━━━━━\u001b[0m \u001b[32m7.6/7.6 MB\u001b[0m \u001b[31m111.3 MB/s\u001b[0m eta \u001b[36m0:00:00\u001b[0m\n",
            "\u001b[?25hRequirement already satisfied: regex!=2019.12.17 in /usr/local/lib/python3.9/dist-packages (from transformers) (2022.10.31)\n",
            "Requirement already satisfied: requests in /usr/local/lib/python3.9/dist-packages (from transformers) (2.27.1)\n",
            "Requirement already satisfied: tqdm>=4.27 in /usr/local/lib/python3.9/dist-packages (from transformers) (4.65.0)\n",
            "Collecting huggingface-hub<1.0,>=0.11.0\n",
            "  Downloading huggingface_hub-0.13.3-py3-none-any.whl (199 kB)\n",
            "\u001b[2K     \u001b[90m━━━━━━━━━━━━━━━━━━━━━━━━━━━━━━━━━━━━━━\u001b[0m \u001b[32m199.8/199.8 KB\u001b[0m \u001b[31m28.3 MB/s\u001b[0m eta \u001b[36m0:00:00\u001b[0m\n",
            "\u001b[?25hRequirement already satisfied: filelock in /usr/local/lib/python3.9/dist-packages (from transformers) (3.10.7)\n",
            "Requirement already satisfied: packaging>=20.0 in /usr/local/lib/python3.9/dist-packages (from transformers) (23.0)\n",
            "Requirement already satisfied: numpy>=1.17 in /usr/local/lib/python3.9/dist-packages (from transformers) (1.22.4)\n",
            "Requirement already satisfied: typing-extensions>=3.7.4.3 in /usr/local/lib/python3.9/dist-packages (from huggingface-hub<1.0,>=0.11.0->transformers) (4.5.0)\n",
            "Requirement already satisfied: certifi>=2017.4.17 in /usr/local/lib/python3.9/dist-packages (from requests->transformers) (2022.12.7)\n",
            "Requirement already satisfied: charset-normalizer~=2.0.0 in /usr/local/lib/python3.9/dist-packages (from requests->transformers) (2.0.12)\n",
            "Requirement already satisfied: idna<4,>=2.5 in /usr/local/lib/python3.9/dist-packages (from requests->transformers) (3.4)\n",
            "Requirement already satisfied: urllib3<1.27,>=1.21.1 in /usr/local/lib/python3.9/dist-packages (from requests->transformers) (1.26.15)\n",
            "Installing collected packages: tokenizers, huggingface-hub, transformers\n",
            "Successfully installed huggingface-hub-0.13.3 tokenizers-0.13.2 transformers-4.27.4\n"
          ]
        }
      ]
    },
    {
      "cell_type": "code",
      "execution_count": 2,
      "metadata": {
        "id": "znRqC0glj5tc"
      },
      "outputs": [],
      "source": [
        "import os\n",
        "import numpy as np\n",
        "import pandas as pd\n",
        "import random\n",
        "from sklearn.preprocessing import LabelEncoder\n",
        "from tqdm.auto import tqdm\n",
        "import tensorflow as tf\n",
        "import tensorflow.keras as keras\n",
        "import tensorflow.keras.layers as layers\n",
        "import tensorflow.keras.backend as K\n",
        "from tensorflow.keras import mixed_precision\n",
        "#import tensorflow_addons as tfa\n",
        "#import dill\n",
        "import matplotlib.pyplot as plt\n",
        "import transformers\n",
        "from transformers import AutoTokenizer, AutoConfig,TFAutoModel\n",
        "import json\n",
        "import matplotlib.pyplot as plt\n",
        "from ast import literal_eval "
      ]
    },
    {
      "cell_type": "code",
      "source": [
        "train = pd.read_csv('https://raw.githubusercontent.com/jsqzhu/nbme/main/data.csv')\n",
        "train.head()"
      ],
      "metadata": {
        "colab": {
          "base_uri": "https://localhost:8080/",
          "height": 0
        },
        "id": "mE8PRn7zkZEt",
        "outputId": "a1d66b5c-fd41-4057-dd6e-83f2dc1d4c70"
      },
      "execution_count": 3,
      "outputs": [
        {
          "output_type": "execute_result",
          "data": {
            "text/plain": [
              "          id  case_num  pn_num  feature_num  \\\n",
              "0  00016_000         0      16            0   \n",
              "1  00016_001         0      16            1   \n",
              "2  00016_002         0      16            2   \n",
              "3  00016_003         0      16            3   \n",
              "4  00016_004         0      16            4   \n",
              "\n",
              "                                 annotation              location  \\\n",
              "0          ['dad with recent heart attcak']           ['696 724']   \n",
              "1             ['mom with \"thyroid disease']           ['668 693']   \n",
              "2                        ['chest pressure']           ['203 217']   \n",
              "3      ['intermittent episodes', 'episode']  ['70 91', '176 183']   \n",
              "4  ['felt as if he were going to pass out']           ['222 258']   \n",
              "\n",
              "                                          pn_history  \\\n",
              "0  HPI: 17yo M presents with palpitations. Patien...   \n",
              "1  HPI: 17yo M presents with palpitations. Patien...   \n",
              "2  HPI: 17yo M presents with palpitations. Patien...   \n",
              "3  HPI: 17yo M presents with palpitations. Patien...   \n",
              "4  HPI: 17yo M presents with palpitations. Patien...   \n",
              "\n",
              "                                        feature_text  annot_count  loc_count  \n",
              "0  Family-history-of-MI-OR-Family-history-of-myoc...            1          1  \n",
              "1                 Family-history-of-thyroid-disorder            1          1  \n",
              "2                                     Chest-pressure            1          1  \n",
              "3                              Intermittent-symptoms            2          2  \n",
              "4                                        Lightheaded            1          1  "
            ],
            "text/html": [
              "\n",
              "  <div id=\"df-d5fd7066-ac0e-40d4-ac53-58cb31793d89\">\n",
              "    <div class=\"colab-df-container\">\n",
              "      <div>\n",
              "<style scoped>\n",
              "    .dataframe tbody tr th:only-of-type {\n",
              "        vertical-align: middle;\n",
              "    }\n",
              "\n",
              "    .dataframe tbody tr th {\n",
              "        vertical-align: top;\n",
              "    }\n",
              "\n",
              "    .dataframe thead th {\n",
              "        text-align: right;\n",
              "    }\n",
              "</style>\n",
              "<table border=\"1\" class=\"dataframe\">\n",
              "  <thead>\n",
              "    <tr style=\"text-align: right;\">\n",
              "      <th></th>\n",
              "      <th>id</th>\n",
              "      <th>case_num</th>\n",
              "      <th>pn_num</th>\n",
              "      <th>feature_num</th>\n",
              "      <th>annotation</th>\n",
              "      <th>location</th>\n",
              "      <th>pn_history</th>\n",
              "      <th>feature_text</th>\n",
              "      <th>annot_count</th>\n",
              "      <th>loc_count</th>\n",
              "    </tr>\n",
              "  </thead>\n",
              "  <tbody>\n",
              "    <tr>\n",
              "      <th>0</th>\n",
              "      <td>00016_000</td>\n",
              "      <td>0</td>\n",
              "      <td>16</td>\n",
              "      <td>0</td>\n",
              "      <td>['dad with recent heart attcak']</td>\n",
              "      <td>['696 724']</td>\n",
              "      <td>HPI: 17yo M presents with palpitations. Patien...</td>\n",
              "      <td>Family-history-of-MI-OR-Family-history-of-myoc...</td>\n",
              "      <td>1</td>\n",
              "      <td>1</td>\n",
              "    </tr>\n",
              "    <tr>\n",
              "      <th>1</th>\n",
              "      <td>00016_001</td>\n",
              "      <td>0</td>\n",
              "      <td>16</td>\n",
              "      <td>1</td>\n",
              "      <td>['mom with \"thyroid disease']</td>\n",
              "      <td>['668 693']</td>\n",
              "      <td>HPI: 17yo M presents with palpitations. Patien...</td>\n",
              "      <td>Family-history-of-thyroid-disorder</td>\n",
              "      <td>1</td>\n",
              "      <td>1</td>\n",
              "    </tr>\n",
              "    <tr>\n",
              "      <th>2</th>\n",
              "      <td>00016_002</td>\n",
              "      <td>0</td>\n",
              "      <td>16</td>\n",
              "      <td>2</td>\n",
              "      <td>['chest pressure']</td>\n",
              "      <td>['203 217']</td>\n",
              "      <td>HPI: 17yo M presents with palpitations. Patien...</td>\n",
              "      <td>Chest-pressure</td>\n",
              "      <td>1</td>\n",
              "      <td>1</td>\n",
              "    </tr>\n",
              "    <tr>\n",
              "      <th>3</th>\n",
              "      <td>00016_003</td>\n",
              "      <td>0</td>\n",
              "      <td>16</td>\n",
              "      <td>3</td>\n",
              "      <td>['intermittent episodes', 'episode']</td>\n",
              "      <td>['70 91', '176 183']</td>\n",
              "      <td>HPI: 17yo M presents with palpitations. Patien...</td>\n",
              "      <td>Intermittent-symptoms</td>\n",
              "      <td>2</td>\n",
              "      <td>2</td>\n",
              "    </tr>\n",
              "    <tr>\n",
              "      <th>4</th>\n",
              "      <td>00016_004</td>\n",
              "      <td>0</td>\n",
              "      <td>16</td>\n",
              "      <td>4</td>\n",
              "      <td>['felt as if he were going to pass out']</td>\n",
              "      <td>['222 258']</td>\n",
              "      <td>HPI: 17yo M presents with palpitations. Patien...</td>\n",
              "      <td>Lightheaded</td>\n",
              "      <td>1</td>\n",
              "      <td>1</td>\n",
              "    </tr>\n",
              "  </tbody>\n",
              "</table>\n",
              "</div>\n",
              "      <button class=\"colab-df-convert\" onclick=\"convertToInteractive('df-d5fd7066-ac0e-40d4-ac53-58cb31793d89')\"\n",
              "              title=\"Convert this dataframe to an interactive table.\"\n",
              "              style=\"display:none;\">\n",
              "        \n",
              "  <svg xmlns=\"http://www.w3.org/2000/svg\" height=\"24px\"viewBox=\"0 0 24 24\"\n",
              "       width=\"24px\">\n",
              "    <path d=\"M0 0h24v24H0V0z\" fill=\"none\"/>\n",
              "    <path d=\"M18.56 5.44l.94 2.06.94-2.06 2.06-.94-2.06-.94-.94-2.06-.94 2.06-2.06.94zm-11 1L8.5 8.5l.94-2.06 2.06-.94-2.06-.94L8.5 2.5l-.94 2.06-2.06.94zm10 10l.94 2.06.94-2.06 2.06-.94-2.06-.94-.94-2.06-.94 2.06-2.06.94z\"/><path d=\"M17.41 7.96l-1.37-1.37c-.4-.4-.92-.59-1.43-.59-.52 0-1.04.2-1.43.59L10.3 9.45l-7.72 7.72c-.78.78-.78 2.05 0 2.83L4 21.41c.39.39.9.59 1.41.59.51 0 1.02-.2 1.41-.59l7.78-7.78 2.81-2.81c.8-.78.8-2.07 0-2.86zM5.41 20L4 18.59l7.72-7.72 1.47 1.35L5.41 20z\"/>\n",
              "  </svg>\n",
              "      </button>\n",
              "      \n",
              "  <style>\n",
              "    .colab-df-container {\n",
              "      display:flex;\n",
              "      flex-wrap:wrap;\n",
              "      gap: 12px;\n",
              "    }\n",
              "\n",
              "    .colab-df-convert {\n",
              "      background-color: #E8F0FE;\n",
              "      border: none;\n",
              "      border-radius: 50%;\n",
              "      cursor: pointer;\n",
              "      display: none;\n",
              "      fill: #1967D2;\n",
              "      height: 32px;\n",
              "      padding: 0 0 0 0;\n",
              "      width: 32px;\n",
              "    }\n",
              "\n",
              "    .colab-df-convert:hover {\n",
              "      background-color: #E2EBFA;\n",
              "      box-shadow: 0px 1px 2px rgba(60, 64, 67, 0.3), 0px 1px 3px 1px rgba(60, 64, 67, 0.15);\n",
              "      fill: #174EA6;\n",
              "    }\n",
              "\n",
              "    [theme=dark] .colab-df-convert {\n",
              "      background-color: #3B4455;\n",
              "      fill: #D2E3FC;\n",
              "    }\n",
              "\n",
              "    [theme=dark] .colab-df-convert:hover {\n",
              "      background-color: #434B5C;\n",
              "      box-shadow: 0px 1px 3px 1px rgba(0, 0, 0, 0.15);\n",
              "      filter: drop-shadow(0px 1px 2px rgba(0, 0, 0, 0.3));\n",
              "      fill: #FFFFFF;\n",
              "    }\n",
              "  </style>\n",
              "\n",
              "      <script>\n",
              "        const buttonEl =\n",
              "          document.querySelector('#df-d5fd7066-ac0e-40d4-ac53-58cb31793d89 button.colab-df-convert');\n",
              "        buttonEl.style.display =\n",
              "          google.colab.kernel.accessAllowed ? 'block' : 'none';\n",
              "\n",
              "        async function convertToInteractive(key) {\n",
              "          const element = document.querySelector('#df-d5fd7066-ac0e-40d4-ac53-58cb31793d89');\n",
              "          const dataTable =\n",
              "            await google.colab.kernel.invokeFunction('convertToInteractive',\n",
              "                                                     [key], {});\n",
              "          if (!dataTable) return;\n",
              "\n",
              "          const docLinkHtml = 'Like what you see? Visit the ' +\n",
              "            '<a target=\"_blank\" href=https://colab.research.google.com/notebooks/data_table.ipynb>data table notebook</a>'\n",
              "            + ' to learn more about interactive tables.';\n",
              "          element.innerHTML = '';\n",
              "          dataTable['output_type'] = 'display_data';\n",
              "          await google.colab.output.renderOutput(dataTable, element);\n",
              "          const docLink = document.createElement('div');\n",
              "          docLink.innerHTML = docLinkHtml;\n",
              "          element.appendChild(docLink);\n",
              "        }\n",
              "      </script>\n",
              "    </div>\n",
              "  </div>\n",
              "  "
            ]
          },
          "metadata": {},
          "execution_count": 3
        }
      ]
    },
    {
      "cell_type": "code",
      "source": [
        "MODEL_NAME = \"roberta-base\""
      ],
      "metadata": {
        "id": "yjQ5un1JWjjE"
      },
      "execution_count": 4,
      "outputs": []
    },
    {
      "cell_type": "markdown",
      "source": [
        "## Resources"
      ],
      "metadata": {
        "id": "urLvawiL9Ffu"
      }
    },
    {
      "cell_type": "markdown",
      "source": [
        "https://huggingface.co/emilyalsentzer/Bio_ClinicalBERT"
      ],
      "metadata": {
        "id": "L9x_kDuqvs94"
      }
    },
    {
      "cell_type": "markdown",
      "source": [
        "# Functions"
      ],
      "metadata": {
        "id": "AxlPSIKwlWVk"
      }
    },
    {
      "cell_type": "code",
      "source": [
        "def extract_location (location):\n",
        "  \"\"\"get start_char, end_char from location column\"\"\"\n",
        "  #annotation = literal_eval(annotation)\n",
        "  location = literal_eval(location)\n",
        "  #annotation_list = []\n",
        "  start_char = []\n",
        "  end_char = []\n",
        "  #if len(location)==0:\n",
        "  #  start_char.append(-1)\n",
        "  #  end_char.append(-1)\n",
        "  #else:\n",
        "  for n in range(len(location)):\n",
        "      loc = location[n].split(' ')\n",
        "      start_char.append(int(loc[0]))\n",
        "      end_char.append(int(loc[1]))\n",
        "  return start_char, end_char"
      ],
      "metadata": {
        "id": "GOTcm8daWiuK"
      },
      "execution_count": 5,
      "outputs": []
    },
    {
      "cell_type": "markdown",
      "source": [
        "# Prepare Data for Modeling"
      ],
      "metadata": {
        "id": "HPYUsf3qlZD2"
      }
    },
    {
      "cell_type": "markdown",
      "source": [
        "## Prepare feature entities"
      ],
      "metadata": {
        "id": "Ujyl0j00l16G"
      }
    },
    {
      "cell_type": "code",
      "source": [
        "print('# unique feature labels: ', train['feature_num'].nunique())"
      ],
      "metadata": {
        "colab": {
          "base_uri": "https://localhost:8080/"
        },
        "id": "QTkrqeKTmFty",
        "outputId": "7f3694e0-e04c-4d5e-d889-3d050814e6e6"
      },
      "execution_count": 25,
      "outputs": [
        {
          "output_type": "stream",
          "name": "stdout",
          "text": [
            "# unique feature labels:  143\n"
          ]
        }
      ]
    },
    {
      "cell_type": "code",
      "source": [
        "train['feature_num'].unique()"
      ],
      "metadata": {
        "colab": {
          "base_uri": "https://localhost:8080/"
        },
        "id": "xSCSMRaFnMwz",
        "outputId": "1884a270-a9a3-4426-fec6-9c5665856510"
      },
      "execution_count": 26,
      "outputs": [
        {
          "output_type": "execute_result",
          "data": {
            "text/plain": [
              "array([  0,   1,   2,   3,   4,   5,   6,   7,   8,   9,  10,  11,  12,\n",
              "       100, 101, 102, 103, 104, 105, 106, 107, 108, 109, 110, 111, 112,\n",
              "       200, 201, 202, 203, 204, 205, 206, 207, 208, 209, 210, 211, 212,\n",
              "       213, 214, 215, 216, 300, 301, 302, 303, 304, 305, 306, 307, 308,\n",
              "       309, 310, 311, 312, 314, 315, 313, 401, 402, 403, 404, 406, 407,\n",
              "       408, 409, 405, 400, 500, 501, 502, 503, 504, 505, 508, 509, 510,\n",
              "       511, 512, 513, 515, 516, 517, 506, 507, 514, 600, 601, 602, 603,\n",
              "       604, 605, 606, 607, 609, 611, 608, 610, 700, 701, 702, 703, 704,\n",
              "       705, 706, 707, 708, 800, 801, 802, 803, 804, 805, 806, 807, 808,\n",
              "       809, 811, 812, 814, 815, 817, 813, 816, 810, 901, 902, 903, 904,\n",
              "       905, 906, 907, 908, 909, 910, 911, 912, 913, 914, 915, 916, 900])"
            ]
          },
          "metadata": {},
          "execution_count": 26
        }
      ]
    },
    {
      "cell_type": "markdown",
      "source": [
        "Recall that 4399 cases have no corresponding text in pn_history for the target feature entity. Thus, we need to create an additional class to account for the texts with no annotations"
      ],
      "metadata": {
        "id": "7js4TK6wok2d"
      }
    },
    {
      "cell_type": "code",
      "source": [
        "Label = [\"O\"] + train['feature_num'].unique().tolist() \n",
        "le = LabelEncoder()\n",
        "le.fit(Label)"
      ],
      "metadata": {
        "colab": {
          "base_uri": "https://localhost:8080/",
          "height": 0
        },
        "id": "ACnMRWI9hAQP",
        "outputId": "eead1ad3-00cb-424e-c90a-0a0b5dd5fc5f"
      },
      "execution_count": 27,
      "outputs": [
        {
          "output_type": "execute_result",
          "data": {
            "text/plain": [
              "LabelEncoder()"
            ],
            "text/html": [
              "<style>#sk-container-id-2 {color: black;background-color: white;}#sk-container-id-2 pre{padding: 0;}#sk-container-id-2 div.sk-toggleable {background-color: white;}#sk-container-id-2 label.sk-toggleable__label {cursor: pointer;display: block;width: 100%;margin-bottom: 0;padding: 0.3em;box-sizing: border-box;text-align: center;}#sk-container-id-2 label.sk-toggleable__label-arrow:before {content: \"▸\";float: left;margin-right: 0.25em;color: #696969;}#sk-container-id-2 label.sk-toggleable__label-arrow:hover:before {color: black;}#sk-container-id-2 div.sk-estimator:hover label.sk-toggleable__label-arrow:before {color: black;}#sk-container-id-2 div.sk-toggleable__content {max-height: 0;max-width: 0;overflow: hidden;text-align: left;background-color: #f0f8ff;}#sk-container-id-2 div.sk-toggleable__content pre {margin: 0.2em;color: black;border-radius: 0.25em;background-color: #f0f8ff;}#sk-container-id-2 input.sk-toggleable__control:checked~div.sk-toggleable__content {max-height: 200px;max-width: 100%;overflow: auto;}#sk-container-id-2 input.sk-toggleable__control:checked~label.sk-toggleable__label-arrow:before {content: \"▾\";}#sk-container-id-2 div.sk-estimator input.sk-toggleable__control:checked~label.sk-toggleable__label {background-color: #d4ebff;}#sk-container-id-2 div.sk-label input.sk-toggleable__control:checked~label.sk-toggleable__label {background-color: #d4ebff;}#sk-container-id-2 input.sk-hidden--visually {border: 0;clip: rect(1px 1px 1px 1px);clip: rect(1px, 1px, 1px, 1px);height: 1px;margin: -1px;overflow: hidden;padding: 0;position: absolute;width: 1px;}#sk-container-id-2 div.sk-estimator {font-family: monospace;background-color: #f0f8ff;border: 1px dotted black;border-radius: 0.25em;box-sizing: border-box;margin-bottom: 0.5em;}#sk-container-id-2 div.sk-estimator:hover {background-color: #d4ebff;}#sk-container-id-2 div.sk-parallel-item::after {content: \"\";width: 100%;border-bottom: 1px solid gray;flex-grow: 1;}#sk-container-id-2 div.sk-label:hover label.sk-toggleable__label {background-color: #d4ebff;}#sk-container-id-2 div.sk-serial::before {content: \"\";position: absolute;border-left: 1px solid gray;box-sizing: border-box;top: 0;bottom: 0;left: 50%;z-index: 0;}#sk-container-id-2 div.sk-serial {display: flex;flex-direction: column;align-items: center;background-color: white;padding-right: 0.2em;padding-left: 0.2em;position: relative;}#sk-container-id-2 div.sk-item {position: relative;z-index: 1;}#sk-container-id-2 div.sk-parallel {display: flex;align-items: stretch;justify-content: center;background-color: white;position: relative;}#sk-container-id-2 div.sk-item::before, #sk-container-id-2 div.sk-parallel-item::before {content: \"\";position: absolute;border-left: 1px solid gray;box-sizing: border-box;top: 0;bottom: 0;left: 50%;z-index: -1;}#sk-container-id-2 div.sk-parallel-item {display: flex;flex-direction: column;z-index: 1;position: relative;background-color: white;}#sk-container-id-2 div.sk-parallel-item:first-child::after {align-self: flex-end;width: 50%;}#sk-container-id-2 div.sk-parallel-item:last-child::after {align-self: flex-start;width: 50%;}#sk-container-id-2 div.sk-parallel-item:only-child::after {width: 0;}#sk-container-id-2 div.sk-dashed-wrapped {border: 1px dashed gray;margin: 0 0.4em 0.5em 0.4em;box-sizing: border-box;padding-bottom: 0.4em;background-color: white;}#sk-container-id-2 div.sk-label label {font-family: monospace;font-weight: bold;display: inline-block;line-height: 1.2em;}#sk-container-id-2 div.sk-label-container {text-align: center;}#sk-container-id-2 div.sk-container {/* jupyter's `normalize.less` sets `[hidden] { display: none; }` but bootstrap.min.css set `[hidden] { display: none !important; }` so we also need the `!important` here to be able to override the default hidden behavior on the sphinx rendered scikit-learn.org. See: https://github.com/scikit-learn/scikit-learn/issues/21755 */display: inline-block !important;position: relative;}#sk-container-id-2 div.sk-text-repr-fallback {display: none;}</style><div id=\"sk-container-id-2\" class=\"sk-top-container\"><div class=\"sk-text-repr-fallback\"><pre>LabelEncoder()</pre><b>In a Jupyter environment, please rerun this cell to show the HTML representation or trust the notebook. <br />On GitHub, the HTML representation is unable to render, please try loading this page with nbviewer.org.</b></div><div class=\"sk-container\" hidden><div class=\"sk-item\"><div class=\"sk-estimator sk-toggleable\"><input class=\"sk-toggleable__control sk-hidden--visually\" id=\"sk-estimator-id-2\" type=\"checkbox\" checked><label for=\"sk-estimator-id-2\" class=\"sk-toggleable__label sk-toggleable__label-arrow\">LabelEncoder</label><div class=\"sk-toggleable__content\"><pre>LabelEncoder()</pre></div></div></div></div></div>"
            ]
          },
          "metadata": {},
          "execution_count": 27
        }
      ]
    },
    {
      "cell_type": "code",
      "source": [
        "len(Label)"
      ],
      "metadata": {
        "colab": {
          "base_uri": "https://localhost:8080/"
        },
        "id": "Qy-iZDXkRr7f",
        "outputId": "189a506c-c7c4-4839-d63e-96d4bb0804f4"
      },
      "execution_count": 28,
      "outputs": [
        {
          "output_type": "execute_result",
          "data": {
            "text/plain": [
              "144"
            ]
          },
          "metadata": {},
          "execution_count": 28
        }
      ]
    },
    {
      "cell_type": "code",
      "source": [
        "train['Target'] = le.transform(train['feature_num'])"
      ],
      "metadata": {
        "id": "AeCGpfk-Mpuo"
      },
      "execution_count": 29,
      "outputs": []
    },
    {
      "cell_type": "code",
      "source": [
        "EMPTY_idx = le.transform([\"O\"])[0]"
      ],
      "metadata": {
        "id": "mA3y40dgn7AU"
      },
      "execution_count": 30,
      "outputs": []
    },
    {
      "cell_type": "code",
      "source": [
        "EMPTY_idx"
      ],
      "metadata": {
        "colab": {
          "base_uri": "https://localhost:8080/"
        },
        "id": "MmrGGxLGPcXF",
        "outputId": "baade75d-fdef-4389-db49-f09302c3becc"
      },
      "execution_count": 31,
      "outputs": [
        {
          "output_type": "execute_result",
          "data": {
            "text/plain": [
              "143"
            ]
          },
          "metadata": {},
          "execution_count": 31
        }
      ]
    },
    {
      "cell_type": "markdown",
      "source": [
        "## Prepare dataset"
      ],
      "metadata": {
        "id": "998F5yV0tMuQ"
      }
    },
    {
      "cell_type": "markdown",
      "source": [
        "Use transformer with TF2.0: https://www.kdnuggets.com/2021/02/hugging-face-transformer-basics.html#:~:text=NLP%2Dfocused%20startup%20Hugging%20Face,for%20training%20and%20evaluation%20purposes."
      ],
      "metadata": {
        "id": "Y_ObEGXZygDF"
      }
    },
    {
      "cell_type": "code",
      "source": [
        "# load model\n",
        "from transformers import AutoTokenizer, AutoModel\n",
        "tokenizer = AutoTokenizer.from_pretrained(MODEL_NAME)\n",
        "model = AutoModel.from_pretrained(MODEL_NAME)"
      ],
      "metadata": {
        "colab": {
          "base_uri": "https://localhost:8080/"
        },
        "id": "7TyNQ_0fu_1J",
        "outputId": "66446aff-049f-43a0-9621-4526404c2041"
      },
      "execution_count": 32,
      "outputs": [
        {
          "output_type": "stream",
          "name": "stderr",
          "text": [
            "Some weights of the model checkpoint at roberta-base were not used when initializing RobertaModel: ['lm_head.decoder.weight', 'lm_head.layer_norm.weight', 'lm_head.dense.weight', 'lm_head.dense.bias', 'lm_head.layer_norm.bias', 'lm_head.bias']\n",
            "- This IS expected if you are initializing RobertaModel from the checkpoint of a model trained on another task or with another architecture (e.g. initializing a BertForSequenceClassification model from a BertForPreTraining model).\n",
            "- This IS NOT expected if you are initializing RobertaModel from the checkpoint of a model that you expect to be exactly identical (initializing a BertForSequenceClassification model from a BertForSequenceClassification model).\n"
          ]
        }
      ]
    },
    {
      "cell_type": "code",
      "source": [
        "test_text = train['pn_history'][0]"
      ],
      "metadata": {
        "id": "-FBVzvQzweEC"
      },
      "execution_count": 33,
      "outputs": []
    },
    {
      "cell_type": "markdown",
      "source": [
        "https://huggingface.co/docs/transformers/main_classes/tokenizer"
      ],
      "metadata": {
        "id": "WyNHXN7301IK"
      }
    },
    {
      "cell_type": "code",
      "source": [
        "encodings = tokenizer(test_text, \n",
        "                           max_length=512,\n",
        "                           padding='max_length',#sentence max to save on computation\n",
        "                           truncation=True,\n",
        "                           return_offsets_mapping=True)"
      ],
      "metadata": {
        "id": "JNYepAWgw3uq"
      },
      "execution_count": 34,
      "outputs": []
    },
    {
      "cell_type": "code",
      "source": [
        "print(f'text: \\'{test_text}\\'')\n",
        "print(f'input ids: {encodings[\"input_ids\"]}')\n",
        "print(f'attention mask: {encodings[\"attention_mask\"]}')\n",
        "print(f'offset_mapping: {encodings[\"offset_mapping\"]}')"
      ],
      "metadata": {
        "colab": {
          "base_uri": "https://localhost:8080/"
        },
        "id": "TjAbTqwa2K0g",
        "outputId": "1ec21e24-0ca3-4029-c11f-a9ba2536d05c"
      },
      "execution_count": 35,
      "outputs": [
        {
          "output_type": "stream",
          "name": "stdout",
          "text": [
            "text: 'HPI: 17yo M presents with palpitations. Patient reports 3-4 months of intermittent episodes of \"heart beating/pounding out of my chest.\" 2 days ago during a soccer game had an episode, but this time had chest pressure and felt as if he were going to pass out (did not lose conciousness). Of note patient endorses abusing adderall, primarily to study (1-3 times per week). Before recent soccer game, took adderrall night before and morning of game. Denies shortness of breath, diaphoresis, fevers, chills, headache, fatigue, changes in sleep, changes in vision/hearing, abdominal paun, changes in bowel or urinary habits. \r\n",
            "PMHx: none\r\n",
            "Rx: uses friends adderrall\r\n",
            "FHx: mom with \"thyroid disease,\" dad with recent heart attcak\r\n",
            "All: none\r\n",
            "Immunizations: up to date\r\n",
            "SHx: Freshmen in college. Endorses 3-4 drinks 3 nights / week (on weekends), denies tabacco, endorses trying marijuana. Sexually active with girlfriend x 1 year, uses condoms'\n",
            "input ids: [0, 725, 11337, 35, 601, 9839, 256, 6822, 19, 8750, 17291, 1635, 4, 27690, 690, 155, 12, 306, 377, 9, 33073, 7585, 9, 22, 12690, 4108, 73, 642, 10773, 66, 9, 127, 7050, 72, 132, 360, 536, 148, 10, 4191, 177, 56, 41, 3238, 6, 53, 42, 86, 56, 7050, 1164, 8, 1299, 25, 114, 37, 58, 164, 7, 1323, 66, 36, 24001, 45, 2217, 10146, 6514, 1825, 322, 1525, 1591, 3186, 253, 34225, 16754, 1606, 254, 1250, 6, 4212, 7, 892, 36, 134, 12, 246, 498, 228, 186, 322, 3224, 485, 4191, 177, 6, 362, 1606, 14385, 1250, 363, 137, 8, 662, 9, 177, 4, 6743, 918, 765, 1825, 9, 8016, 6, 2269, 8258, 4765, 354, 6, 10668, 3697, 6, 1855, 5622, 6, 19344, 6, 16069, 6, 1022, 11, 3581, 6, 1022, 11, 3360, 73, 700, 5867, 6, 28670, 181, 7381, 6, 1022, 11, 29928, 50, 38653, 10095, 4, 1437, 50121, 50118, 5683, 725, 1178, 35, 4146, 50121, 50118, 500, 1178, 35, 2939, 964, 1606, 14385, 1250, 50121, 50118, 43316, 1178, 35, 3795, 19, 22, 23875, 36866, 2199, 60, 4252, 19, 485, 1144, 15095, 438, 677, 50121, 50118, 3684, 35, 4146, 50121, 50118, 37380, 879, 18391, 35, 62, 7, 1248, 50121, 50118, 10237, 1178, 35, 9602, 2262, 11, 1564, 4, 4680, 34225, 155, 12, 306, 6696, 155, 7011, 1589, 186, 36, 261, 12729, 238, 9118, 12207, 20469, 6, 253, 34225, 667, 3140, 4, 15516, 13851, 2171, 19, 6096, 3023, 112, 76, 6, 2939, 32528, 2, 1, 1, 1, 1, 1, 1, 1, 1, 1, 1, 1, 1, 1, 1, 1, 1, 1, 1, 1, 1, 1, 1, 1, 1, 1, 1, 1, 1, 1, 1, 1, 1, 1, 1, 1, 1, 1, 1, 1, 1, 1, 1, 1, 1, 1, 1, 1, 1, 1, 1, 1, 1, 1, 1, 1, 1, 1, 1, 1, 1, 1, 1, 1, 1, 1, 1, 1, 1, 1, 1, 1, 1, 1, 1, 1, 1, 1, 1, 1, 1, 1, 1, 1, 1, 1, 1, 1, 1, 1, 1, 1, 1, 1, 1, 1, 1, 1, 1, 1, 1, 1, 1, 1, 1, 1, 1, 1, 1, 1, 1, 1, 1, 1, 1, 1, 1, 1, 1, 1, 1, 1, 1, 1, 1, 1, 1, 1, 1, 1, 1, 1, 1, 1, 1, 1, 1, 1, 1, 1, 1, 1, 1, 1, 1, 1, 1, 1, 1, 1, 1, 1, 1, 1, 1, 1, 1, 1, 1, 1, 1, 1, 1, 1, 1, 1, 1, 1, 1, 1, 1, 1, 1, 1, 1, 1, 1, 1, 1, 1, 1, 1, 1, 1, 1, 1, 1, 1, 1, 1, 1, 1, 1, 1, 1, 1, 1, 1, 1, 1, 1, 1, 1, 1, 1, 1, 1, 1, 1, 1, 1, 1, 1, 1, 1, 1, 1, 1, 1, 1, 1, 1, 1, 1, 1, 1, 1, 1, 1, 1, 1, 1, 1, 1, 1, 1, 1, 1, 1, 1, 1, 1, 1, 1, 1, 1, 1, 1, 1, 1, 1, 1, 1, 1, 1, 1, 1, 1, 1, 1, 1, 1, 1, 1, 1, 1, 1]\n",
            "attention mask: [1, 1, 1, 1, 1, 1, 1, 1, 1, 1, 1, 1, 1, 1, 1, 1, 1, 1, 1, 1, 1, 1, 1, 1, 1, 1, 1, 1, 1, 1, 1, 1, 1, 1, 1, 1, 1, 1, 1, 1, 1, 1, 1, 1, 1, 1, 1, 1, 1, 1, 1, 1, 1, 1, 1, 1, 1, 1, 1, 1, 1, 1, 1, 1, 1, 1, 1, 1, 1, 1, 1, 1, 1, 1, 1, 1, 1, 1, 1, 1, 1, 1, 1, 1, 1, 1, 1, 1, 1, 1, 1, 1, 1, 1, 1, 1, 1, 1, 1, 1, 1, 1, 1, 1, 1, 1, 1, 1, 1, 1, 1, 1, 1, 1, 1, 1, 1, 1, 1, 1, 1, 1, 1, 1, 1, 1, 1, 1, 1, 1, 1, 1, 1, 1, 1, 1, 1, 1, 1, 1, 1, 1, 1, 1, 1, 1, 1, 1, 1, 1, 1, 1, 1, 1, 1, 1, 1, 1, 1, 1, 1, 1, 1, 1, 1, 1, 1, 1, 1, 1, 1, 1, 1, 1, 1, 1, 1, 1, 1, 1, 1, 1, 1, 1, 1, 1, 1, 1, 1, 1, 1, 1, 1, 1, 1, 1, 1, 1, 1, 1, 1, 1, 1, 1, 1, 1, 1, 1, 1, 1, 1, 1, 1, 1, 1, 1, 1, 1, 1, 1, 1, 1, 1, 1, 1, 1, 1, 1, 1, 1, 1, 1, 1, 1, 1, 1, 1, 1, 1, 1, 1, 1, 1, 1, 1, 1, 0, 0, 0, 0, 0, 0, 0, 0, 0, 0, 0, 0, 0, 0, 0, 0, 0, 0, 0, 0, 0, 0, 0, 0, 0, 0, 0, 0, 0, 0, 0, 0, 0, 0, 0, 0, 0, 0, 0, 0, 0, 0, 0, 0, 0, 0, 0, 0, 0, 0, 0, 0, 0, 0, 0, 0, 0, 0, 0, 0, 0, 0, 0, 0, 0, 0, 0, 0, 0, 0, 0, 0, 0, 0, 0, 0, 0, 0, 0, 0, 0, 0, 0, 0, 0, 0, 0, 0, 0, 0, 0, 0, 0, 0, 0, 0, 0, 0, 0, 0, 0, 0, 0, 0, 0, 0, 0, 0, 0, 0, 0, 0, 0, 0, 0, 0, 0, 0, 0, 0, 0, 0, 0, 0, 0, 0, 0, 0, 0, 0, 0, 0, 0, 0, 0, 0, 0, 0, 0, 0, 0, 0, 0, 0, 0, 0, 0, 0, 0, 0, 0, 0, 0, 0, 0, 0, 0, 0, 0, 0, 0, 0, 0, 0, 0, 0, 0, 0, 0, 0, 0, 0, 0, 0, 0, 0, 0, 0, 0, 0, 0, 0, 0, 0, 0, 0, 0, 0, 0, 0, 0, 0, 0, 0, 0, 0, 0, 0, 0, 0, 0, 0, 0, 0, 0, 0, 0, 0, 0, 0, 0, 0, 0, 0, 0, 0, 0, 0, 0, 0, 0, 0, 0, 0, 0, 0, 0, 0, 0, 0, 0, 0, 0, 0, 0, 0, 0, 0, 0, 0, 0, 0, 0, 0, 0, 0, 0, 0, 0, 0, 0, 0, 0, 0, 0, 0, 0, 0, 0, 0, 0, 0, 0, 0, 0, 0]\n",
            "offset_mapping: [(0, 0), (0, 1), (1, 3), (3, 4), (5, 7), (7, 9), (10, 11), (12, 20), (21, 25), (26, 29), (29, 32), (32, 38), (38, 39), (40, 47), (48, 55), (56, 57), (57, 58), (58, 59), (60, 66), (67, 69), (70, 82), (83, 91), (92, 94), (95, 96), (96, 101), (102, 109), (109, 110), (110, 111), (111, 118), (119, 122), (123, 125), (126, 128), (129, 134), (134, 136), (137, 138), (139, 143), (144, 147), (148, 154), (155, 156), (157, 163), (164, 168), (169, 172), (173, 175), (176, 183), (183, 184), (185, 188), (189, 193), (194, 198), (199, 202), (203, 208), (209, 217), (218, 221), (222, 226), (227, 229), (230, 232), (233, 235), (236, 240), (241, 246), (247, 249), (250, 254), (255, 258), (259, 260), (260, 263), (264, 267), (268, 272), (273, 277), (277, 281), (281, 285), (285, 287), (288, 290), (291, 295), (296, 303), (304, 307), (307, 312), (313, 320), (321, 324), (324, 326), (326, 329), (329, 330), (331, 340), (341, 343), (344, 349), (350, 351), (351, 352), (352, 353), (353, 354), (355, 360), (361, 364), (365, 369), (369, 371), (372, 378), (379, 385), (386, 392), (393, 397), (397, 398), (399, 403), (404, 407), (407, 410), (410, 413), (414, 419), (420, 426), (427, 430), (431, 438), (439, 441), (442, 446), (446, 447), (448, 451), (451, 454), (455, 460), (460, 464), (465, 467), (468, 474), (474, 475), (476, 478), (478, 481), (481, 485), (485, 487), (487, 488), (489, 491), (491, 495), (495, 496), (497, 499), (499, 503), (503, 504), (505, 513), (513, 514), (515, 522), (522, 523), (524, 531), (532, 534), (535, 540), (540, 541), (542, 549), (550, 552), (553, 559), (559, 560), (560, 562), (562, 567), (567, 568), (569, 578), (579, 580), (580, 583), (583, 584), (585, 592), (593, 595), (596, 601), (602, 604), (605, 612), (613, 619), (619, 620), (621, 621), (621, 622), (622, 623), (623, 625), (625, 626), (626, 627), (627, 628), (629, 633), (633, 634), (634, 635), (635, 636), (636, 637), (637, 638), (639, 643), (644, 651), (652, 655), (655, 658), (658, 661), (661, 662), (662, 663), (663, 665), (665, 666), (666, 667), (668, 671), (672, 676), (677, 678), (678, 681), (681, 685), (686, 693), (693, 695), (696, 699), (700, 704), (705, 711), (712, 717), (718, 721), (721, 722), (722, 724), (724, 725), (725, 726), (726, 729), (729, 730), (731, 735), (735, 736), (736, 737), (737, 740), (740, 742), (742, 750), (750, 751), (752, 754), (755, 757), (758, 762), (762, 763), (763, 764), (764, 766), (766, 767), (767, 768), (769, 774), (774, 777), (778, 780), (781, 788), (788, 789), (790, 793), (793, 798), (799, 800), (800, 801), (801, 802), (803, 809), (810, 811), (812, 818), (819, 820), (821, 825), (826, 827), (827, 829), (830, 838), (838, 840), (841, 847), (848, 851), (851, 855), (855, 856), (857, 860), (860, 865), (866, 872), (873, 882), (882, 883), (884, 887), (887, 892), (893, 899), (900, 904), (905, 915), (916, 917), (918, 919), (920, 924), (924, 925), (926, 930), (931, 938), (0, 0), (0, 0), (0, 0), (0, 0), (0, 0), (0, 0), (0, 0), (0, 0), (0, 0), (0, 0), (0, 0), (0, 0), (0, 0), (0, 0), (0, 0), (0, 0), (0, 0), (0, 0), (0, 0), (0, 0), (0, 0), (0, 0), (0, 0), (0, 0), (0, 0), (0, 0), (0, 0), (0, 0), (0, 0), (0, 0), (0, 0), (0, 0), (0, 0), (0, 0), (0, 0), (0, 0), (0, 0), (0, 0), (0, 0), (0, 0), (0, 0), (0, 0), (0, 0), (0, 0), (0, 0), (0, 0), (0, 0), (0, 0), (0, 0), (0, 0), (0, 0), (0, 0), (0, 0), (0, 0), (0, 0), (0, 0), (0, 0), (0, 0), (0, 0), (0, 0), (0, 0), (0, 0), (0, 0), (0, 0), (0, 0), (0, 0), (0, 0), (0, 0), (0, 0), (0, 0), (0, 0), (0, 0), (0, 0), (0, 0), (0, 0), (0, 0), (0, 0), (0, 0), (0, 0), (0, 0), (0, 0), (0, 0), (0, 0), (0, 0), (0, 0), (0, 0), (0, 0), (0, 0), (0, 0), (0, 0), (0, 0), (0, 0), (0, 0), (0, 0), (0, 0), (0, 0), (0, 0), (0, 0), (0, 0), (0, 0), (0, 0), (0, 0), (0, 0), (0, 0), (0, 0), (0, 0), (0, 0), (0, 0), (0, 0), (0, 0), (0, 0), (0, 0), (0, 0), (0, 0), (0, 0), (0, 0), (0, 0), (0, 0), (0, 0), (0, 0), (0, 0), (0, 0), (0, 0), (0, 0), (0, 0), (0, 0), (0, 0), (0, 0), (0, 0), (0, 0), (0, 0), (0, 0), (0, 0), (0, 0), (0, 0), (0, 0), (0, 0), (0, 0), (0, 0), (0, 0), (0, 0), (0, 0), (0, 0), (0, 0), (0, 0), (0, 0), (0, 0), (0, 0), (0, 0), (0, 0), (0, 0), (0, 0), (0, 0), (0, 0), (0, 0), (0, 0), (0, 0), (0, 0), (0, 0), (0, 0), (0, 0), (0, 0), (0, 0), (0, 0), (0, 0), (0, 0), (0, 0), (0, 0), (0, 0), (0, 0), (0, 0), (0, 0), (0, 0), (0, 0), (0, 0), (0, 0), (0, 0), (0, 0), (0, 0), (0, 0), (0, 0), (0, 0), (0, 0), (0, 0), (0, 0), (0, 0), (0, 0), (0, 0), (0, 0), (0, 0), (0, 0), (0, 0), (0, 0), (0, 0), (0, 0), (0, 0), (0, 0), (0, 0), (0, 0), (0, 0), (0, 0), (0, 0), (0, 0), (0, 0), (0, 0), (0, 0), (0, 0), (0, 0), (0, 0), (0, 0), (0, 0), (0, 0), (0, 0), (0, 0), (0, 0), (0, 0), (0, 0), (0, 0), (0, 0), (0, 0), (0, 0), (0, 0), (0, 0), (0, 0), (0, 0), (0, 0), (0, 0), (0, 0), (0, 0), (0, 0), (0, 0), (0, 0), (0, 0), (0, 0), (0, 0), (0, 0), (0, 0), (0, 0), (0, 0), (0, 0), (0, 0), (0, 0), (0, 0), (0, 0), (0, 0), (0, 0), (0, 0), (0, 0), (0, 0), (0, 0), (0, 0), (0, 0), (0, 0), (0, 0), (0, 0), (0, 0), (0, 0), (0, 0), (0, 0), (0, 0), (0, 0), (0, 0), (0, 0), (0, 0), (0, 0), (0, 0), (0, 0)]\n"
          ]
        }
      ]
    },
    {
      "cell_type": "code",
      "source": [
        "for token_id, pos in zip(encodings['input_ids'], encodings['offset_mapping']):\n",
        "    print(token_id, pos, test_text[pos[0]:pos[1]])"
      ],
      "metadata": {
        "colab": {
          "base_uri": "https://localhost:8080/"
        },
        "id": "-3Jeuw3RkvnI",
        "outputId": "53a312df-53a9-453c-cc2d-c11e8df7b699"
      },
      "execution_count": 36,
      "outputs": [
        {
          "output_type": "stream",
          "name": "stdout",
          "text": [
            "0 (0, 0) \n",
            "725 (0, 1) H\n",
            "11337 (1, 3) PI\n",
            "35 (3, 4) :\n",
            "601 (5, 7) 17\n",
            "9839 (7, 9) yo\n",
            "256 (10, 11) M\n",
            "6822 (12, 20) presents\n",
            "19 (21, 25) with\n",
            "8750 (26, 29) pal\n",
            "17291 (29, 32) pit\n",
            "1635 (32, 38) ations\n",
            "4 (38, 39) .\n",
            "27690 (40, 47) Patient\n",
            "690 (48, 55) reports\n",
            "155 (56, 57) 3\n",
            "12 (57, 58) -\n",
            "306 (58, 59) 4\n",
            "377 (60, 66) months\n",
            "9 (67, 69) of\n",
            "33073 (70, 82) intermittent\n",
            "7585 (83, 91) episodes\n",
            "9 (92, 94) of\n",
            "22 (95, 96) \"\n",
            "12690 (96, 101) heart\n",
            "4108 (102, 109) beating\n",
            "73 (109, 110) /\n",
            "642 (110, 111) p\n",
            "10773 (111, 118) ounding\n",
            "66 (119, 122) out\n",
            "9 (123, 125) of\n",
            "127 (126, 128) my\n",
            "7050 (129, 134) chest\n",
            "72 (134, 136) .\"\n",
            "132 (137, 138) 2\n",
            "360 (139, 143) days\n",
            "536 (144, 147) ago\n",
            "148 (148, 154) during\n",
            "10 (155, 156) a\n",
            "4191 (157, 163) soccer\n",
            "177 (164, 168) game\n",
            "56 (169, 172) had\n",
            "41 (173, 175) an\n",
            "3238 (176, 183) episode\n",
            "6 (183, 184) ,\n",
            "53 (185, 188) but\n",
            "42 (189, 193) this\n",
            "86 (194, 198) time\n",
            "56 (199, 202) had\n",
            "7050 (203, 208) chest\n",
            "1164 (209, 217) pressure\n",
            "8 (218, 221) and\n",
            "1299 (222, 226) felt\n",
            "25 (227, 229) as\n",
            "114 (230, 232) if\n",
            "37 (233, 235) he\n",
            "58 (236, 240) were\n",
            "164 (241, 246) going\n",
            "7 (247, 249) to\n",
            "1323 (250, 254) pass\n",
            "66 (255, 258) out\n",
            "36 (259, 260) (\n",
            "24001 (260, 263) did\n",
            "45 (264, 267) not\n",
            "2217 (268, 272) lose\n",
            "10146 (273, 277) conc\n",
            "6514 (277, 281) ious\n",
            "1825 (281, 285) ness\n",
            "322 (285, 287) ).\n",
            "1525 (288, 290) Of\n",
            "1591 (291, 295) note\n",
            "3186 (296, 303) patient\n",
            "253 (304, 307) end\n",
            "34225 (307, 312) orses\n",
            "16754 (313, 320) abusing\n",
            "1606 (321, 324) add\n",
            "254 (324, 326) er\n",
            "1250 (326, 329) all\n",
            "6 (329, 330) ,\n",
            "4212 (331, 340) primarily\n",
            "7 (341, 343) to\n",
            "892 (344, 349) study\n",
            "36 (350, 351) (\n",
            "134 (351, 352) 1\n",
            "12 (352, 353) -\n",
            "246 (353, 354) 3\n",
            "498 (355, 360) times\n",
            "228 (361, 364) per\n",
            "186 (365, 369) week\n",
            "322 (369, 371) ).\n",
            "3224 (372, 378) Before\n",
            "485 (379, 385) recent\n",
            "4191 (386, 392) soccer\n",
            "177 (393, 397) game\n",
            "6 (397, 398) ,\n",
            "362 (399, 403) took\n",
            "1606 (404, 407) add\n",
            "14385 (407, 410) err\n",
            "1250 (410, 413) all\n",
            "363 (414, 419) night\n",
            "137 (420, 426) before\n",
            "8 (427, 430) and\n",
            "662 (431, 438) morning\n",
            "9 (439, 441) of\n",
            "177 (442, 446) game\n",
            "4 (446, 447) .\n",
            "6743 (448, 451) Den\n",
            "918 (451, 454) ies\n",
            "765 (455, 460) short\n",
            "1825 (460, 464) ness\n",
            "9 (465, 467) of\n",
            "8016 (468, 474) breath\n",
            "6 (474, 475) ,\n",
            "2269 (476, 478) di\n",
            "8258 (478, 481) aph\n",
            "4765 (481, 485) ores\n",
            "354 (485, 487) is\n",
            "6 (487, 488) ,\n",
            "10668 (489, 491) fe\n",
            "3697 (491, 495) vers\n",
            "6 (495, 496) ,\n",
            "1855 (497, 499) ch\n",
            "5622 (499, 503) ills\n",
            "6 (503, 504) ,\n",
            "19344 (505, 513) headache\n",
            "6 (513, 514) ,\n",
            "16069 (515, 522) fatigue\n",
            "6 (522, 523) ,\n",
            "1022 (524, 531) changes\n",
            "11 (532, 534) in\n",
            "3581 (535, 540) sleep\n",
            "6 (540, 541) ,\n",
            "1022 (542, 549) changes\n",
            "11 (550, 552) in\n",
            "3360 (553, 559) vision\n",
            "73 (559, 560) /\n",
            "700 (560, 562) he\n",
            "5867 (562, 567) aring\n",
            "6 (567, 568) ,\n",
            "28670 (569, 578) abdominal\n",
            "181 (579, 580) p\n",
            "7381 (580, 583) aun\n",
            "6 (583, 584) ,\n",
            "1022 (585, 592) changes\n",
            "11 (593, 595) in\n",
            "29928 (596, 601) bowel\n",
            "50 (602, 604) or\n",
            "38653 (605, 612) urinary\n",
            "10095 (613, 619) habits\n",
            "4 (619, 620) .\n",
            "1437 (621, 621) \n",
            "50121 (621, 622) \r\n",
            "50118 (622, 623) \n",
            "\n",
            "5683 (623, 625) PM\n",
            "725 (625, 626) H\n",
            "1178 (626, 627) x\n",
            "35 (627, 628) :\n",
            "4146 (629, 633) none\n",
            "50121 (633, 634) \r\n",
            "50118 (634, 635) \n",
            "\n",
            "500 (635, 636) R\n",
            "1178 (636, 637) x\n",
            "35 (637, 638) :\n",
            "2939 (639, 643) uses\n",
            "964 (644, 651) friends\n",
            "1606 (652, 655) add\n",
            "14385 (655, 658) err\n",
            "1250 (658, 661) all\n",
            "50121 (661, 662) \r\n",
            "50118 (662, 663) \n",
            "\n",
            "43316 (663, 665) FH\n",
            "1178 (665, 666) x\n",
            "35 (666, 667) :\n",
            "3795 (668, 671) mom\n",
            "19 (672, 676) with\n",
            "22 (677, 678) \"\n",
            "23875 (678, 681) thy\n",
            "36866 (681, 685) roid\n",
            "2199 (686, 693) disease\n",
            "60 (693, 695) ,\"\n",
            "4252 (696, 699) dad\n",
            "19 (700, 704) with\n",
            "485 (705, 711) recent\n",
            "1144 (712, 717) heart\n",
            "15095 (718, 721) att\n",
            "438 (721, 722) c\n",
            "677 (722, 724) ak\n",
            "50121 (724, 725) \r\n",
            "50118 (725, 726) \n",
            "\n",
            "3684 (726, 729) All\n",
            "35 (729, 730) :\n",
            "4146 (731, 735) none\n",
            "50121 (735, 736) \r\n",
            "50118 (736, 737) \n",
            "\n",
            "37380 (737, 740) Imm\n",
            "879 (740, 742) un\n",
            "18391 (742, 750) izations\n",
            "35 (750, 751) :\n",
            "62 (752, 754) up\n",
            "7 (755, 757) to\n",
            "1248 (758, 762) date\n",
            "50121 (762, 763) \r\n",
            "50118 (763, 764) \n",
            "\n",
            "10237 (764, 766) SH\n",
            "1178 (766, 767) x\n",
            "35 (767, 768) :\n",
            "9602 (769, 774) Fresh\n",
            "2262 (774, 777) men\n",
            "11 (778, 780) in\n",
            "1564 (781, 788) college\n",
            "4 (788, 789) .\n",
            "4680 (790, 793) End\n",
            "34225 (793, 798) orses\n",
            "155 (799, 800) 3\n",
            "12 (800, 801) -\n",
            "306 (801, 802) 4\n",
            "6696 (803, 809) drinks\n",
            "155 (810, 811) 3\n",
            "7011 (812, 818) nights\n",
            "1589 (819, 820) /\n",
            "186 (821, 825) week\n",
            "36 (826, 827) (\n",
            "261 (827, 829) on\n",
            "12729 (830, 838) weekends\n",
            "238 (838, 840) ),\n",
            "9118 (841, 847) denies\n",
            "12207 (848, 851) tab\n",
            "20469 (851, 855) acco\n",
            "6 (855, 856) ,\n",
            "253 (857, 860) end\n",
            "34225 (860, 865) orses\n",
            "667 (866, 872) trying\n",
            "3140 (873, 882) marijuana\n",
            "4 (882, 883) .\n",
            "15516 (884, 887) Sex\n",
            "13851 (887, 892) ually\n",
            "2171 (893, 899) active\n",
            "19 (900, 904) with\n",
            "6096 (905, 915) girlfriend\n",
            "3023 (916, 917) x\n",
            "112 (918, 919) 1\n",
            "76 (920, 924) year\n",
            "6 (924, 925) ,\n",
            "2939 (926, 930) uses\n",
            "32528 (931, 938) condoms\n",
            "2 (0, 0) \n",
            "1 (0, 0) \n",
            "1 (0, 0) \n",
            "1 (0, 0) \n",
            "1 (0, 0) \n",
            "1 (0, 0) \n",
            "1 (0, 0) \n",
            "1 (0, 0) \n",
            "1 (0, 0) \n",
            "1 (0, 0) \n",
            "1 (0, 0) \n",
            "1 (0, 0) \n",
            "1 (0, 0) \n",
            "1 (0, 0) \n",
            "1 (0, 0) \n",
            "1 (0, 0) \n",
            "1 (0, 0) \n",
            "1 (0, 0) \n",
            "1 (0, 0) \n",
            "1 (0, 0) \n",
            "1 (0, 0) \n",
            "1 (0, 0) \n",
            "1 (0, 0) \n",
            "1 (0, 0) \n",
            "1 (0, 0) \n",
            "1 (0, 0) \n",
            "1 (0, 0) \n",
            "1 (0, 0) \n",
            "1 (0, 0) \n",
            "1 (0, 0) \n",
            "1 (0, 0) \n",
            "1 (0, 0) \n",
            "1 (0, 0) \n",
            "1 (0, 0) \n",
            "1 (0, 0) \n",
            "1 (0, 0) \n",
            "1 (0, 0) \n",
            "1 (0, 0) \n",
            "1 (0, 0) \n",
            "1 (0, 0) \n",
            "1 (0, 0) \n",
            "1 (0, 0) \n",
            "1 (0, 0) \n",
            "1 (0, 0) \n",
            "1 (0, 0) \n",
            "1 (0, 0) \n",
            "1 (0, 0) \n",
            "1 (0, 0) \n",
            "1 (0, 0) \n",
            "1 (0, 0) \n",
            "1 (0, 0) \n",
            "1 (0, 0) \n",
            "1 (0, 0) \n",
            "1 (0, 0) \n",
            "1 (0, 0) \n",
            "1 (0, 0) \n",
            "1 (0, 0) \n",
            "1 (0, 0) \n",
            "1 (0, 0) \n",
            "1 (0, 0) \n",
            "1 (0, 0) \n",
            "1 (0, 0) \n",
            "1 (0, 0) \n",
            "1 (0, 0) \n",
            "1 (0, 0) \n",
            "1 (0, 0) \n",
            "1 (0, 0) \n",
            "1 (0, 0) \n",
            "1 (0, 0) \n",
            "1 (0, 0) \n",
            "1 (0, 0) \n",
            "1 (0, 0) \n",
            "1 (0, 0) \n",
            "1 (0, 0) \n",
            "1 (0, 0) \n",
            "1 (0, 0) \n",
            "1 (0, 0) \n",
            "1 (0, 0) \n",
            "1 (0, 0) \n",
            "1 (0, 0) \n",
            "1 (0, 0) \n",
            "1 (0, 0) \n",
            "1 (0, 0) \n",
            "1 (0, 0) \n",
            "1 (0, 0) \n",
            "1 (0, 0) \n",
            "1 (0, 0) \n",
            "1 (0, 0) \n",
            "1 (0, 0) \n",
            "1 (0, 0) \n",
            "1 (0, 0) \n",
            "1 (0, 0) \n",
            "1 (0, 0) \n",
            "1 (0, 0) \n",
            "1 (0, 0) \n",
            "1 (0, 0) \n",
            "1 (0, 0) \n",
            "1 (0, 0) \n",
            "1 (0, 0) \n",
            "1 (0, 0) \n",
            "1 (0, 0) \n",
            "1 (0, 0) \n",
            "1 (0, 0) \n",
            "1 (0, 0) \n",
            "1 (0, 0) \n",
            "1 (0, 0) \n",
            "1 (0, 0) \n",
            "1 (0, 0) \n",
            "1 (0, 0) \n",
            "1 (0, 0) \n",
            "1 (0, 0) \n",
            "1 (0, 0) \n",
            "1 (0, 0) \n",
            "1 (0, 0) \n",
            "1 (0, 0) \n",
            "1 (0, 0) \n",
            "1 (0, 0) \n",
            "1 (0, 0) \n",
            "1 (0, 0) \n",
            "1 (0, 0) \n",
            "1 (0, 0) \n",
            "1 (0, 0) \n",
            "1 (0, 0) \n",
            "1 (0, 0) \n",
            "1 (0, 0) \n",
            "1 (0, 0) \n",
            "1 (0, 0) \n",
            "1 (0, 0) \n",
            "1 (0, 0) \n",
            "1 (0, 0) \n",
            "1 (0, 0) \n",
            "1 (0, 0) \n",
            "1 (0, 0) \n",
            "1 (0, 0) \n",
            "1 (0, 0) \n",
            "1 (0, 0) \n",
            "1 (0, 0) \n",
            "1 (0, 0) \n",
            "1 (0, 0) \n",
            "1 (0, 0) \n",
            "1 (0, 0) \n",
            "1 (0, 0) \n",
            "1 (0, 0) \n",
            "1 (0, 0) \n",
            "1 (0, 0) \n",
            "1 (0, 0) \n",
            "1 (0, 0) \n",
            "1 (0, 0) \n",
            "1 (0, 0) \n",
            "1 (0, 0) \n",
            "1 (0, 0) \n",
            "1 (0, 0) \n",
            "1 (0, 0) \n",
            "1 (0, 0) \n",
            "1 (0, 0) \n",
            "1 (0, 0) \n",
            "1 (0, 0) \n",
            "1 (0, 0) \n",
            "1 (0, 0) \n",
            "1 (0, 0) \n",
            "1 (0, 0) \n",
            "1 (0, 0) \n",
            "1 (0, 0) \n",
            "1 (0, 0) \n",
            "1 (0, 0) \n",
            "1 (0, 0) \n",
            "1 (0, 0) \n",
            "1 (0, 0) \n",
            "1 (0, 0) \n",
            "1 (0, 0) \n",
            "1 (0, 0) \n",
            "1 (0, 0) \n",
            "1 (0, 0) \n",
            "1 (0, 0) \n",
            "1 (0, 0) \n",
            "1 (0, 0) \n",
            "1 (0, 0) \n",
            "1 (0, 0) \n",
            "1 (0, 0) \n",
            "1 (0, 0) \n",
            "1 (0, 0) \n",
            "1 (0, 0) \n",
            "1 (0, 0) \n",
            "1 (0, 0) \n",
            "1 (0, 0) \n",
            "1 (0, 0) \n",
            "1 (0, 0) \n",
            "1 (0, 0) \n",
            "1 (0, 0) \n",
            "1 (0, 0) \n",
            "1 (0, 0) \n",
            "1 (0, 0) \n",
            "1 (0, 0) \n",
            "1 (0, 0) \n",
            "1 (0, 0) \n",
            "1 (0, 0) \n",
            "1 (0, 0) \n",
            "1 (0, 0) \n",
            "1 (0, 0) \n",
            "1 (0, 0) \n",
            "1 (0, 0) \n",
            "1 (0, 0) \n",
            "1 (0, 0) \n",
            "1 (0, 0) \n",
            "1 (0, 0) \n",
            "1 (0, 0) \n",
            "1 (0, 0) \n",
            "1 (0, 0) \n",
            "1 (0, 0) \n",
            "1 (0, 0) \n",
            "1 (0, 0) \n",
            "1 (0, 0) \n",
            "1 (0, 0) \n",
            "1 (0, 0) \n",
            "1 (0, 0) \n",
            "1 (0, 0) \n",
            "1 (0, 0) \n",
            "1 (0, 0) \n",
            "1 (0, 0) \n",
            "1 (0, 0) \n",
            "1 (0, 0) \n",
            "1 (0, 0) \n",
            "1 (0, 0) \n",
            "1 (0, 0) \n",
            "1 (0, 0) \n",
            "1 (0, 0) \n",
            "1 (0, 0) \n",
            "1 (0, 0) \n",
            "1 (0, 0) \n",
            "1 (0, 0) \n",
            "1 (0, 0) \n",
            "1 (0, 0) \n",
            "1 (0, 0) \n",
            "1 (0, 0) \n",
            "1 (0, 0) \n",
            "1 (0, 0) \n",
            "1 (0, 0) \n",
            "1 (0, 0) \n",
            "1 (0, 0) \n",
            "1 (0, 0) \n",
            "1 (0, 0) \n",
            "1 (0, 0) \n",
            "1 (0, 0) \n",
            "1 (0, 0) \n",
            "1 (0, 0) \n",
            "1 (0, 0) \n",
            "1 (0, 0) \n",
            "1 (0, 0) \n",
            "1 (0, 0) \n",
            "1 (0, 0) \n",
            "1 (0, 0) \n",
            "1 (0, 0) \n",
            "1 (0, 0) \n",
            "1 (0, 0) \n",
            "1 (0, 0) \n",
            "1 (0, 0) \n",
            "1 (0, 0) \n",
            "1 (0, 0) \n",
            "1 (0, 0) \n",
            "1 (0, 0) \n",
            "1 (0, 0) \n",
            "1 (0, 0) \n",
            "1 (0, 0) \n",
            "1 (0, 0) \n",
            "1 (0, 0) \n",
            "1 (0, 0) \n",
            "1 (0, 0) \n"
          ]
        }
      ]
    },
    {
      "cell_type": "code",
      "source": [
        "# need to check the max length\n",
        "# check if len(subtoken) longer than max_length from the model?\n",
        "#https://ai.stackexchange.com/questions/37624/why-do-transformers-have-a-fixed-input-length\n",
        "# how to handle longer tokens\n",
        "#https://stackoverflow.com/questions/74290497/how-to-handle-sequences-longer-than-512-tokens-in-layoutlmv3\n",
        "# for offset_mapping\n",
        "# https://huggingface.co/transformers/v4.2.2/custom_datasets.html"
      ],
      "metadata": {
        "id": "f9X-PoXT3QzZ"
      },
      "execution_count": 37,
      "outputs": []
    },
    {
      "cell_type": "markdown",
      "source": [
        "use model tokenizer to prepare input text; \n",
        "convert pn_history to word embedding as input features "
      ],
      "metadata": {
        "id": "FWelY-r_4WPN"
      }
    },
    {
      "cell_type": "code",
      "source": [
        "train_copy = train.copy()"
      ],
      "metadata": {
        "id": "fm3ILfHOlrCN"
      },
      "execution_count": 38,
      "outputs": []
    },
    {
      "cell_type": "code",
      "source": [
        "train_copy[train_copy['location'].str.contains(';')].head()"
      ],
      "metadata": {
        "colab": {
          "base_uri": "https://localhost:8080/",
          "height": 0
        },
        "id": "YI334OhCl6Ee",
        "outputId": "b114a103-8836-4539-fc22-2960552dfaf9"
      },
      "execution_count": 39,
      "outputs": [
        {
          "output_type": "execute_result",
          "data": {
            "text/plain": [
              "Empty DataFrame\n",
              "Columns: [id, case_num, pn_num, feature_num, annotation, location, pn_history, feature_text, annot_count, loc_count, Target, start_char, end_char]\n",
              "Index: []"
            ],
            "text/html": [
              "\n",
              "  <div id=\"df-5c02c99b-19bb-4726-99d2-546b5f2be113\">\n",
              "    <div class=\"colab-df-container\">\n",
              "      <div>\n",
              "<style scoped>\n",
              "    .dataframe tbody tr th:only-of-type {\n",
              "        vertical-align: middle;\n",
              "    }\n",
              "\n",
              "    .dataframe tbody tr th {\n",
              "        vertical-align: top;\n",
              "    }\n",
              "\n",
              "    .dataframe thead th {\n",
              "        text-align: right;\n",
              "    }\n",
              "</style>\n",
              "<table border=\"1\" class=\"dataframe\">\n",
              "  <thead>\n",
              "    <tr style=\"text-align: right;\">\n",
              "      <th></th>\n",
              "      <th>id</th>\n",
              "      <th>case_num</th>\n",
              "      <th>pn_num</th>\n",
              "      <th>feature_num</th>\n",
              "      <th>annotation</th>\n",
              "      <th>location</th>\n",
              "      <th>pn_history</th>\n",
              "      <th>feature_text</th>\n",
              "      <th>annot_count</th>\n",
              "      <th>loc_count</th>\n",
              "      <th>Target</th>\n",
              "      <th>start_char</th>\n",
              "      <th>end_char</th>\n",
              "    </tr>\n",
              "  </thead>\n",
              "  <tbody>\n",
              "  </tbody>\n",
              "</table>\n",
              "</div>\n",
              "      <button class=\"colab-df-convert\" onclick=\"convertToInteractive('df-5c02c99b-19bb-4726-99d2-546b5f2be113')\"\n",
              "              title=\"Convert this dataframe to an interactive table.\"\n",
              "              style=\"display:none;\">\n",
              "        \n",
              "  <svg xmlns=\"http://www.w3.org/2000/svg\" height=\"24px\"viewBox=\"0 0 24 24\"\n",
              "       width=\"24px\">\n",
              "    <path d=\"M0 0h24v24H0V0z\" fill=\"none\"/>\n",
              "    <path d=\"M18.56 5.44l.94 2.06.94-2.06 2.06-.94-2.06-.94-.94-2.06-.94 2.06-2.06.94zm-11 1L8.5 8.5l.94-2.06 2.06-.94-2.06-.94L8.5 2.5l-.94 2.06-2.06.94zm10 10l.94 2.06.94-2.06 2.06-.94-2.06-.94-.94-2.06-.94 2.06-2.06.94z\"/><path d=\"M17.41 7.96l-1.37-1.37c-.4-.4-.92-.59-1.43-.59-.52 0-1.04.2-1.43.59L10.3 9.45l-7.72 7.72c-.78.78-.78 2.05 0 2.83L4 21.41c.39.39.9.59 1.41.59.51 0 1.02-.2 1.41-.59l7.78-7.78 2.81-2.81c.8-.78.8-2.07 0-2.86zM5.41 20L4 18.59l7.72-7.72 1.47 1.35L5.41 20z\"/>\n",
              "  </svg>\n",
              "      </button>\n",
              "      \n",
              "  <style>\n",
              "    .colab-df-container {\n",
              "      display:flex;\n",
              "      flex-wrap:wrap;\n",
              "      gap: 12px;\n",
              "    }\n",
              "\n",
              "    .colab-df-convert {\n",
              "      background-color: #E8F0FE;\n",
              "      border: none;\n",
              "      border-radius: 50%;\n",
              "      cursor: pointer;\n",
              "      display: none;\n",
              "      fill: #1967D2;\n",
              "      height: 32px;\n",
              "      padding: 0 0 0 0;\n",
              "      width: 32px;\n",
              "    }\n",
              "\n",
              "    .colab-df-convert:hover {\n",
              "      background-color: #E2EBFA;\n",
              "      box-shadow: 0px 1px 2px rgba(60, 64, 67, 0.3), 0px 1px 3px 1px rgba(60, 64, 67, 0.15);\n",
              "      fill: #174EA6;\n",
              "    }\n",
              "\n",
              "    [theme=dark] .colab-df-convert {\n",
              "      background-color: #3B4455;\n",
              "      fill: #D2E3FC;\n",
              "    }\n",
              "\n",
              "    [theme=dark] .colab-df-convert:hover {\n",
              "      background-color: #434B5C;\n",
              "      box-shadow: 0px 1px 3px 1px rgba(0, 0, 0, 0.15);\n",
              "      filter: drop-shadow(0px 1px 2px rgba(0, 0, 0, 0.3));\n",
              "      fill: #FFFFFF;\n",
              "    }\n",
              "  </style>\n",
              "\n",
              "      <script>\n",
              "        const buttonEl =\n",
              "          document.querySelector('#df-5c02c99b-19bb-4726-99d2-546b5f2be113 button.colab-df-convert');\n",
              "        buttonEl.style.display =\n",
              "          google.colab.kernel.accessAllowed ? 'block' : 'none';\n",
              "\n",
              "        async function convertToInteractive(key) {\n",
              "          const element = document.querySelector('#df-5c02c99b-19bb-4726-99d2-546b5f2be113');\n",
              "          const dataTable =\n",
              "            await google.colab.kernel.invokeFunction('convertToInteractive',\n",
              "                                                     [key], {});\n",
              "          if (!dataTable) return;\n",
              "\n",
              "          const docLinkHtml = 'Like what you see? Visit the ' +\n",
              "            '<a target=\"_blank\" href=https://colab.research.google.com/notebooks/data_table.ipynb>data table notebook</a>'\n",
              "            + ' to learn more about interactive tables.';\n",
              "          element.innerHTML = '';\n",
              "          dataTable['output_type'] = 'display_data';\n",
              "          await google.colab.output.renderOutput(dataTable, element);\n",
              "          const docLink = document.createElement('div');\n",
              "          docLink.innerHTML = docLinkHtml;\n",
              "          element.appendChild(docLink);\n",
              "        }\n",
              "      </script>\n",
              "    </div>\n",
              "  </div>\n",
              "  "
            ]
          },
          "metadata": {},
          "execution_count": 39
        }
      ]
    },
    {
      "cell_type": "code",
      "source": [
        "# remove records with error in annotation/location; will investigate later\n",
        "train = train[~train['location'].str.contains(';')]"
      ],
      "metadata": {
        "id": "VqFQKtX6tHBk"
      },
      "execution_count": 40,
      "outputs": []
    },
    {
      "cell_type": "code",
      "source": [
        "train['start_char'], train['end_char'] = zip(*train['location'].apply(lambda x: extract_location(x)))"
      ],
      "metadata": {
        "id": "fNm7O2TrrgIF"
      },
      "execution_count": 41,
      "outputs": []
    },
    {
      "cell_type": "code",
      "source": [
        "train = train.explode(['start_char','end_char'])"
      ],
      "metadata": {
        "id": "eMw6rMDSEDeo"
      },
      "execution_count": 42,
      "outputs": []
    },
    {
      "cell_type": "code",
      "source": [
        "train.head()"
      ],
      "metadata": {
        "colab": {
          "base_uri": "https://localhost:8080/",
          "height": 0
        },
        "id": "bERBQWlylwLO",
        "outputId": "32bb7923-2b03-4f85-e803-3422c1bfd6d1"
      },
      "execution_count": 43,
      "outputs": [
        {
          "output_type": "execute_result",
          "data": {
            "text/plain": [
              "          id  case_num  pn_num  feature_num  \\\n",
              "0  00016_000         0      16            0   \n",
              "1  00016_001         0      16            1   \n",
              "2  00016_002         0      16            2   \n",
              "3  00016_003         0      16            3   \n",
              "3  00016_003         0      16            3   \n",
              "\n",
              "                             annotation              location  \\\n",
              "0      ['dad with recent heart attcak']           ['696 724']   \n",
              "1         ['mom with \"thyroid disease']           ['668 693']   \n",
              "2                    ['chest pressure']           ['203 217']   \n",
              "3  ['intermittent episodes', 'episode']  ['70 91', '176 183']   \n",
              "3  ['intermittent episodes', 'episode']  ['70 91', '176 183']   \n",
              "\n",
              "                                          pn_history  \\\n",
              "0  HPI: 17yo M presents with palpitations. Patien...   \n",
              "1  HPI: 17yo M presents with palpitations. Patien...   \n",
              "2  HPI: 17yo M presents with palpitations. Patien...   \n",
              "3  HPI: 17yo M presents with palpitations. Patien...   \n",
              "3  HPI: 17yo M presents with palpitations. Patien...   \n",
              "\n",
              "                                        feature_text  annot_count  loc_count  \\\n",
              "0  Family-history-of-MI-OR-Family-history-of-myoc...            1          1   \n",
              "1                 Family-history-of-thyroid-disorder            1          1   \n",
              "2                                     Chest-pressure            1          1   \n",
              "3                              Intermittent-symptoms            2          2   \n",
              "3                              Intermittent-symptoms            2          2   \n",
              "\n",
              "   Target start_char end_char  \n",
              "0       0        696      724  \n",
              "1       1        668      693  \n",
              "2      18        203      217  \n",
              "3      36         70       91  \n",
              "3      36        176      183  "
            ],
            "text/html": [
              "\n",
              "  <div id=\"df-8a18b5ad-1280-4cb7-bd0d-0dc601d854db\">\n",
              "    <div class=\"colab-df-container\">\n",
              "      <div>\n",
              "<style scoped>\n",
              "    .dataframe tbody tr th:only-of-type {\n",
              "        vertical-align: middle;\n",
              "    }\n",
              "\n",
              "    .dataframe tbody tr th {\n",
              "        vertical-align: top;\n",
              "    }\n",
              "\n",
              "    .dataframe thead th {\n",
              "        text-align: right;\n",
              "    }\n",
              "</style>\n",
              "<table border=\"1\" class=\"dataframe\">\n",
              "  <thead>\n",
              "    <tr style=\"text-align: right;\">\n",
              "      <th></th>\n",
              "      <th>id</th>\n",
              "      <th>case_num</th>\n",
              "      <th>pn_num</th>\n",
              "      <th>feature_num</th>\n",
              "      <th>annotation</th>\n",
              "      <th>location</th>\n",
              "      <th>pn_history</th>\n",
              "      <th>feature_text</th>\n",
              "      <th>annot_count</th>\n",
              "      <th>loc_count</th>\n",
              "      <th>Target</th>\n",
              "      <th>start_char</th>\n",
              "      <th>end_char</th>\n",
              "    </tr>\n",
              "  </thead>\n",
              "  <tbody>\n",
              "    <tr>\n",
              "      <th>0</th>\n",
              "      <td>00016_000</td>\n",
              "      <td>0</td>\n",
              "      <td>16</td>\n",
              "      <td>0</td>\n",
              "      <td>['dad with recent heart attcak']</td>\n",
              "      <td>['696 724']</td>\n",
              "      <td>HPI: 17yo M presents with palpitations. Patien...</td>\n",
              "      <td>Family-history-of-MI-OR-Family-history-of-myoc...</td>\n",
              "      <td>1</td>\n",
              "      <td>1</td>\n",
              "      <td>0</td>\n",
              "      <td>696</td>\n",
              "      <td>724</td>\n",
              "    </tr>\n",
              "    <tr>\n",
              "      <th>1</th>\n",
              "      <td>00016_001</td>\n",
              "      <td>0</td>\n",
              "      <td>16</td>\n",
              "      <td>1</td>\n",
              "      <td>['mom with \"thyroid disease']</td>\n",
              "      <td>['668 693']</td>\n",
              "      <td>HPI: 17yo M presents with palpitations. Patien...</td>\n",
              "      <td>Family-history-of-thyroid-disorder</td>\n",
              "      <td>1</td>\n",
              "      <td>1</td>\n",
              "      <td>1</td>\n",
              "      <td>668</td>\n",
              "      <td>693</td>\n",
              "    </tr>\n",
              "    <tr>\n",
              "      <th>2</th>\n",
              "      <td>00016_002</td>\n",
              "      <td>0</td>\n",
              "      <td>16</td>\n",
              "      <td>2</td>\n",
              "      <td>['chest pressure']</td>\n",
              "      <td>['203 217']</td>\n",
              "      <td>HPI: 17yo M presents with palpitations. Patien...</td>\n",
              "      <td>Chest-pressure</td>\n",
              "      <td>1</td>\n",
              "      <td>1</td>\n",
              "      <td>18</td>\n",
              "      <td>203</td>\n",
              "      <td>217</td>\n",
              "    </tr>\n",
              "    <tr>\n",
              "      <th>3</th>\n",
              "      <td>00016_003</td>\n",
              "      <td>0</td>\n",
              "      <td>16</td>\n",
              "      <td>3</td>\n",
              "      <td>['intermittent episodes', 'episode']</td>\n",
              "      <td>['70 91', '176 183']</td>\n",
              "      <td>HPI: 17yo M presents with palpitations. Patien...</td>\n",
              "      <td>Intermittent-symptoms</td>\n",
              "      <td>2</td>\n",
              "      <td>2</td>\n",
              "      <td>36</td>\n",
              "      <td>70</td>\n",
              "      <td>91</td>\n",
              "    </tr>\n",
              "    <tr>\n",
              "      <th>3</th>\n",
              "      <td>00016_003</td>\n",
              "      <td>0</td>\n",
              "      <td>16</td>\n",
              "      <td>3</td>\n",
              "      <td>['intermittent episodes', 'episode']</td>\n",
              "      <td>['70 91', '176 183']</td>\n",
              "      <td>HPI: 17yo M presents with palpitations. Patien...</td>\n",
              "      <td>Intermittent-symptoms</td>\n",
              "      <td>2</td>\n",
              "      <td>2</td>\n",
              "      <td>36</td>\n",
              "      <td>176</td>\n",
              "      <td>183</td>\n",
              "    </tr>\n",
              "  </tbody>\n",
              "</table>\n",
              "</div>\n",
              "      <button class=\"colab-df-convert\" onclick=\"convertToInteractive('df-8a18b5ad-1280-4cb7-bd0d-0dc601d854db')\"\n",
              "              title=\"Convert this dataframe to an interactive table.\"\n",
              "              style=\"display:none;\">\n",
              "        \n",
              "  <svg xmlns=\"http://www.w3.org/2000/svg\" height=\"24px\"viewBox=\"0 0 24 24\"\n",
              "       width=\"24px\">\n",
              "    <path d=\"M0 0h24v24H0V0z\" fill=\"none\"/>\n",
              "    <path d=\"M18.56 5.44l.94 2.06.94-2.06 2.06-.94-2.06-.94-.94-2.06-.94 2.06-2.06.94zm-11 1L8.5 8.5l.94-2.06 2.06-.94-2.06-.94L8.5 2.5l-.94 2.06-2.06.94zm10 10l.94 2.06.94-2.06 2.06-.94-2.06-.94-.94-2.06-.94 2.06-2.06.94z\"/><path d=\"M17.41 7.96l-1.37-1.37c-.4-.4-.92-.59-1.43-.59-.52 0-1.04.2-1.43.59L10.3 9.45l-7.72 7.72c-.78.78-.78 2.05 0 2.83L4 21.41c.39.39.9.59 1.41.59.51 0 1.02-.2 1.41-.59l7.78-7.78 2.81-2.81c.8-.78.8-2.07 0-2.86zM5.41 20L4 18.59l7.72-7.72 1.47 1.35L5.41 20z\"/>\n",
              "  </svg>\n",
              "      </button>\n",
              "      \n",
              "  <style>\n",
              "    .colab-df-container {\n",
              "      display:flex;\n",
              "      flex-wrap:wrap;\n",
              "      gap: 12px;\n",
              "    }\n",
              "\n",
              "    .colab-df-convert {\n",
              "      background-color: #E8F0FE;\n",
              "      border: none;\n",
              "      border-radius: 50%;\n",
              "      cursor: pointer;\n",
              "      display: none;\n",
              "      fill: #1967D2;\n",
              "      height: 32px;\n",
              "      padding: 0 0 0 0;\n",
              "      width: 32px;\n",
              "    }\n",
              "\n",
              "    .colab-df-convert:hover {\n",
              "      background-color: #E2EBFA;\n",
              "      box-shadow: 0px 1px 2px rgba(60, 64, 67, 0.3), 0px 1px 3px 1px rgba(60, 64, 67, 0.15);\n",
              "      fill: #174EA6;\n",
              "    }\n",
              "\n",
              "    [theme=dark] .colab-df-convert {\n",
              "      background-color: #3B4455;\n",
              "      fill: #D2E3FC;\n",
              "    }\n",
              "\n",
              "    [theme=dark] .colab-df-convert:hover {\n",
              "      background-color: #434B5C;\n",
              "      box-shadow: 0px 1px 3px 1px rgba(0, 0, 0, 0.15);\n",
              "      filter: drop-shadow(0px 1px 2px rgba(0, 0, 0, 0.3));\n",
              "      fill: #FFFFFF;\n",
              "    }\n",
              "  </style>\n",
              "\n",
              "      <script>\n",
              "        const buttonEl =\n",
              "          document.querySelector('#df-8a18b5ad-1280-4cb7-bd0d-0dc601d854db button.colab-df-convert');\n",
              "        buttonEl.style.display =\n",
              "          google.colab.kernel.accessAllowed ? 'block' : 'none';\n",
              "\n",
              "        async function convertToInteractive(key) {\n",
              "          const element = document.querySelector('#df-8a18b5ad-1280-4cb7-bd0d-0dc601d854db');\n",
              "          const dataTable =\n",
              "            await google.colab.kernel.invokeFunction('convertToInteractive',\n",
              "                                                     [key], {});\n",
              "          if (!dataTable) return;\n",
              "\n",
              "          const docLinkHtml = 'Like what you see? Visit the ' +\n",
              "            '<a target=\"_blank\" href=https://colab.research.google.com/notebooks/data_table.ipynb>data table notebook</a>'\n",
              "            + ' to learn more about interactive tables.';\n",
              "          element.innerHTML = '';\n",
              "          dataTable['output_type'] = 'display_data';\n",
              "          await google.colab.output.renderOutput(dataTable, element);\n",
              "          const docLink = document.createElement('div');\n",
              "          docLink.innerHTML = docLinkHtml;\n",
              "          element.appendChild(docLink);\n",
              "        }\n",
              "      </script>\n",
              "    </div>\n",
              "  </div>\n",
              "  "
            ]
          },
          "metadata": {},
          "execution_count": 43
        }
      ]
    },
    {
      "cell_type": "markdown",
      "source": [
        "## SEQUENCE Length"
      ],
      "metadata": {
        "id": "17wFy8KLI_AV"
      }
    },
    {
      "cell_type": "code",
      "source": [
        "pn_history=[]\n",
        "input_id_sequence = []\n",
        "attn_sequence = []\n",
        "Target_labels = []\n",
        "max_sequence_length = 0\n",
        "for pn in train.groupby('pn_num'):\n",
        "  # for loop to get encoding for each unique clinical note\n",
        "  # output is a tuple (pn_num, df)\n",
        "  df = pn[1] \n",
        "  #clinical note to be annotated\n",
        "  pn_history = df.iloc[0].pn_history\n",
        "  \n",
        "  # get encoding\n",
        "  encoding = tokenizer(pn_history, \n",
        "                       #max_length=512,\n",
        "                       padding='longest', #'max_length',#sentence max to save on computation\n",
        "                       truncation=False,\n",
        "                       return_offsets_mapping=True)\n",
        "  input_id = encoding['input_ids']\n",
        "  attn = encoding['attention_mask']\n",
        "  offset = encoding['offset_mapping']\n",
        "\n",
        "  sequence_length = len(input_id)\n",
        "  if sequence_length > max_sequence_length:\n",
        "    max_sequence_length = sequence_length\n",
        "  else:\n",
        "    pass\n",
        "\n",
        "print('max_sequence_length: ', max_sequence_length)"
      ],
      "metadata": {
        "colab": {
          "base_uri": "https://localhost:8080/"
        },
        "id": "10_j06d1I-n9",
        "outputId": "9f51d998-b1d1-4c05-c7ee-e4b10b02eeb6"
      },
      "execution_count": 44,
      "outputs": [
        {
          "output_type": "stream",
          "name": "stdout",
          "text": [
            "max_sequence_length:  392\n"
          ]
        }
      ]
    },
    {
      "cell_type": "markdown",
      "source": [
        "## Testing target labeling"
      ],
      "metadata": {
        "id": "Vj7P0avftQuG"
      }
    },
    {
      "cell_type": "code",
      "source": [
        "test = train[train.pn_num==16]"
      ],
      "metadata": {
        "id": "Q8WbQG36oydI"
      },
      "execution_count": 45,
      "outputs": []
    },
    {
      "cell_type": "code",
      "source": [
        "test"
      ],
      "metadata": {
        "colab": {
          "base_uri": "https://localhost:8080/",
          "height": 1000
        },
        "id": "YQC6ffwso6ly",
        "outputId": "2ee87076-e78f-4fa3-8a56-ab164f0b005d"
      },
      "execution_count": 46,
      "outputs": [
        {
          "output_type": "execute_result",
          "data": {
            "text/plain": [
              "           id  case_num  pn_num  feature_num  \\\n",
              "0   00016_000         0      16            0   \n",
              "1   00016_001         0      16            1   \n",
              "2   00016_002         0      16            2   \n",
              "3   00016_003         0      16            3   \n",
              "3   00016_003         0      16            3   \n",
              "3   00016_003         0      16            3   \n",
              "3   00016_003         0      16            3   \n",
              "4   00016_004         0      16            4   \n",
              "5   00016_005         0      16            5   \n",
              "6   00016_006         0      16            6   \n",
              "6   00016_006         0      16            6   \n",
              "6   00016_006         0      16            6   \n",
              "6   00016_006         0      16            6   \n",
              "6   00016_006         0      16            6   \n",
              "6   00016_006         0      16            6   \n",
              "6   00016_006         0      16            6   \n",
              "6   00016_006         0      16            6   \n",
              "6   00016_006         0      16            6   \n",
              "7   00016_007         0      16            7   \n",
              "8   00016_008         0      16            8   \n",
              "9   00016_009         0      16            9   \n",
              "9   00016_009         0      16            9   \n",
              "9   00016_009         0      16            9   \n",
              "9   00016_009         0      16            9   \n",
              "10  00016_010         0      16           10   \n",
              "11  00016_011         0      16           11   \n",
              "12  00016_012         0      16           12   \n",
              "\n",
              "                                    annotation  \\\n",
              "0             ['dad with recent heart attcak']   \n",
              "1                ['mom with \"thyroid disease']   \n",
              "2                           ['chest pressure']   \n",
              "3         ['intermittent episodes', 'episode']   \n",
              "3         ['intermittent episodes', 'episode']   \n",
              "3         ['intermittent episodes', 'episode']   \n",
              "3         ['intermittent episodes', 'episode']   \n",
              "4     ['felt as if he were going to pass out']   \n",
              "5                                           []   \n",
              "6       ['adderall', 'adderrall', 'adderrall']   \n",
              "6       ['adderall', 'adderrall', 'adderrall']   \n",
              "6       ['adderall', 'adderrall', 'adderrall']   \n",
              "6       ['adderall', 'adderrall', 'adderrall']   \n",
              "6       ['adderall', 'adderrall', 'adderrall']   \n",
              "6       ['adderall', 'adderrall', 'adderrall']   \n",
              "6       ['adderall', 'adderrall', 'adderrall']   \n",
              "6       ['adderall', 'adderrall', 'adderrall']   \n",
              "6       ['adderall', 'adderrall', 'adderrall']   \n",
              "7                                           []   \n",
              "8                                           []   \n",
              "9   ['palpitations', 'heart beating/pounding']   \n",
              "9   ['palpitations', 'heart beating/pounding']   \n",
              "9   ['palpitations', 'heart beating/pounding']   \n",
              "9   ['palpitations', 'heart beating/pounding']   \n",
              "10                           ['3-4 months of']   \n",
              "11                                    ['17yo']   \n",
              "12                                       ['M']   \n",
              "\n",
              "                             location  \\\n",
              "0                         ['696 724']   \n",
              "1                         ['668 693']   \n",
              "2                         ['203 217']   \n",
              "3                ['70 91', '176 183']   \n",
              "3                ['70 91', '176 183']   \n",
              "3                ['70 91', '176 183']   \n",
              "3                ['70 91', '176 183']   \n",
              "4                         ['222 258']   \n",
              "5                                  []   \n",
              "6   ['321 329', '404 413', '652 661']   \n",
              "6   ['321 329', '404 413', '652 661']   \n",
              "6   ['321 329', '404 413', '652 661']   \n",
              "6   ['321 329', '404 413', '652 661']   \n",
              "6   ['321 329', '404 413', '652 661']   \n",
              "6   ['321 329', '404 413', '652 661']   \n",
              "6   ['321 329', '404 413', '652 661']   \n",
              "6   ['321 329', '404 413', '652 661']   \n",
              "6   ['321 329', '404 413', '652 661']   \n",
              "7                                  []   \n",
              "8                                  []   \n",
              "9                 ['26 38', '96 118']   \n",
              "9                 ['26 38', '96 118']   \n",
              "9                 ['26 38', '96 118']   \n",
              "9                 ['26 38', '96 118']   \n",
              "10                          ['56 69']   \n",
              "11                            ['5 9']   \n",
              "12                          ['10 11']   \n",
              "\n",
              "                                           pn_history  \\\n",
              "0   HPI: 17yo M presents with palpitations. Patien...   \n",
              "1   HPI: 17yo M presents with palpitations. Patien...   \n",
              "2   HPI: 17yo M presents with palpitations. Patien...   \n",
              "3   HPI: 17yo M presents with palpitations. Patien...   \n",
              "3   HPI: 17yo M presents with palpitations. Patien...   \n",
              "3   HPI: 17yo M presents with palpitations. Patien...   \n",
              "3   HPI: 17yo M presents with palpitations. Patien...   \n",
              "4   HPI: 17yo M presents with palpitations. Patien...   \n",
              "5   HPI: 17yo M presents with palpitations. Patien...   \n",
              "6   HPI: 17yo M presents with palpitations. Patien...   \n",
              "6   HPI: 17yo M presents with palpitations. Patien...   \n",
              "6   HPI: 17yo M presents with palpitations. Patien...   \n",
              "6   HPI: 17yo M presents with palpitations. Patien...   \n",
              "6   HPI: 17yo M presents with palpitations. Patien...   \n",
              "6   HPI: 17yo M presents with palpitations. Patien...   \n",
              "6   HPI: 17yo M presents with palpitations. Patien...   \n",
              "6   HPI: 17yo M presents with palpitations. Patien...   \n",
              "6   HPI: 17yo M presents with palpitations. Patien...   \n",
              "7   HPI: 17yo M presents with palpitations. Patien...   \n",
              "8   HPI: 17yo M presents with palpitations. Patien...   \n",
              "9   HPI: 17yo M presents with palpitations. Patien...   \n",
              "9   HPI: 17yo M presents with palpitations. Patien...   \n",
              "9   HPI: 17yo M presents with palpitations. Patien...   \n",
              "9   HPI: 17yo M presents with palpitations. Patien...   \n",
              "10  HPI: 17yo M presents with palpitations. Patien...   \n",
              "11  HPI: 17yo M presents with palpitations. Patien...   \n",
              "12  HPI: 17yo M presents with palpitations. Patien...   \n",
              "\n",
              "                                         feature_text  annot_count  loc_count  \\\n",
              "0   Family-history-of-MI-OR-Family-history-of-myoc...            1          1   \n",
              "1                  Family-history-of-thyroid-disorder            1          1   \n",
              "2                                      Chest-pressure            1          1   \n",
              "3                               Intermittent-symptoms            2          2   \n",
              "3                               Intermittent-symptoms            2          2   \n",
              "3                               Intermittent-symptoms            2          2   \n",
              "3                               Intermittent-symptoms            2          2   \n",
              "4                                         Lightheaded            1          1   \n",
              "5   No-hair-changes-OR-no-nail-changes-OR-no-tempe...            0          0   \n",
              "6                                        Adderall-use            3          3   \n",
              "6                                        Adderall-use            3          3   \n",
              "6                                        Adderall-use            3          3   \n",
              "6                                        Adderall-use            3          3   \n",
              "6                                        Adderall-use            3          3   \n",
              "6                                        Adderall-use            3          3   \n",
              "6                                        Adderall-use            3          3   \n",
              "6                                        Adderall-use            3          3   \n",
              "6                                        Adderall-use            3          3   \n",
              "7                                 Shortness-of-breath            0          0   \n",
              "8                                        Caffeine-use            0          0   \n",
              "9                      heart-pounding-OR-heart-racing            2          2   \n",
              "9                      heart-pounding-OR-heart-racing            2          2   \n",
              "9                      heart-pounding-OR-heart-racing            2          2   \n",
              "9                      heart-pounding-OR-heart-racing            2          2   \n",
              "10                                Few-months-duration            1          1   \n",
              "11                                            17-year            1          1   \n",
              "12                                               Male            1          1   \n",
              "\n",
              "    Target start_char end_char  \n",
              "0        0        696      724  \n",
              "1        1        668      693  \n",
              "2       18        203      217  \n",
              "3       36         70       91  \n",
              "3       36        176      183  \n",
              "3       36         70       91  \n",
              "3       36        176      183  \n",
              "4       53        222      258  \n",
              "5       64        NaN      NaN  \n",
              "6       83        321      329  \n",
              "6       83        404      413  \n",
              "6       83        652      661  \n",
              "6       83        321      329  \n",
              "6       83        404      413  \n",
              "6       83        652      661  \n",
              "6       83        321      329  \n",
              "6       83        404      413  \n",
              "6       83        652      661  \n",
              "7       96        NaN      NaN  \n",
              "8      106        NaN      NaN  \n",
              "9      125         26       38  \n",
              "9      125         96      118  \n",
              "9      125         26       38  \n",
              "9      125         96      118  \n",
              "10       2         56       69  \n",
              "11      13          5        9  \n",
              "12      17         10       11  "
            ],
            "text/html": [
              "\n",
              "  <div id=\"df-b411d7ed-d712-4b88-95ba-39ce8140cb85\">\n",
              "    <div class=\"colab-df-container\">\n",
              "      <div>\n",
              "<style scoped>\n",
              "    .dataframe tbody tr th:only-of-type {\n",
              "        vertical-align: middle;\n",
              "    }\n",
              "\n",
              "    .dataframe tbody tr th {\n",
              "        vertical-align: top;\n",
              "    }\n",
              "\n",
              "    .dataframe thead th {\n",
              "        text-align: right;\n",
              "    }\n",
              "</style>\n",
              "<table border=\"1\" class=\"dataframe\">\n",
              "  <thead>\n",
              "    <tr style=\"text-align: right;\">\n",
              "      <th></th>\n",
              "      <th>id</th>\n",
              "      <th>case_num</th>\n",
              "      <th>pn_num</th>\n",
              "      <th>feature_num</th>\n",
              "      <th>annotation</th>\n",
              "      <th>location</th>\n",
              "      <th>pn_history</th>\n",
              "      <th>feature_text</th>\n",
              "      <th>annot_count</th>\n",
              "      <th>loc_count</th>\n",
              "      <th>Target</th>\n",
              "      <th>start_char</th>\n",
              "      <th>end_char</th>\n",
              "    </tr>\n",
              "  </thead>\n",
              "  <tbody>\n",
              "    <tr>\n",
              "      <th>0</th>\n",
              "      <td>00016_000</td>\n",
              "      <td>0</td>\n",
              "      <td>16</td>\n",
              "      <td>0</td>\n",
              "      <td>['dad with recent heart attcak']</td>\n",
              "      <td>['696 724']</td>\n",
              "      <td>HPI: 17yo M presents with palpitations. Patien...</td>\n",
              "      <td>Family-history-of-MI-OR-Family-history-of-myoc...</td>\n",
              "      <td>1</td>\n",
              "      <td>1</td>\n",
              "      <td>0</td>\n",
              "      <td>696</td>\n",
              "      <td>724</td>\n",
              "    </tr>\n",
              "    <tr>\n",
              "      <th>1</th>\n",
              "      <td>00016_001</td>\n",
              "      <td>0</td>\n",
              "      <td>16</td>\n",
              "      <td>1</td>\n",
              "      <td>['mom with \"thyroid disease']</td>\n",
              "      <td>['668 693']</td>\n",
              "      <td>HPI: 17yo M presents with palpitations. Patien...</td>\n",
              "      <td>Family-history-of-thyroid-disorder</td>\n",
              "      <td>1</td>\n",
              "      <td>1</td>\n",
              "      <td>1</td>\n",
              "      <td>668</td>\n",
              "      <td>693</td>\n",
              "    </tr>\n",
              "    <tr>\n",
              "      <th>2</th>\n",
              "      <td>00016_002</td>\n",
              "      <td>0</td>\n",
              "      <td>16</td>\n",
              "      <td>2</td>\n",
              "      <td>['chest pressure']</td>\n",
              "      <td>['203 217']</td>\n",
              "      <td>HPI: 17yo M presents with palpitations. Patien...</td>\n",
              "      <td>Chest-pressure</td>\n",
              "      <td>1</td>\n",
              "      <td>1</td>\n",
              "      <td>18</td>\n",
              "      <td>203</td>\n",
              "      <td>217</td>\n",
              "    </tr>\n",
              "    <tr>\n",
              "      <th>3</th>\n",
              "      <td>00016_003</td>\n",
              "      <td>0</td>\n",
              "      <td>16</td>\n",
              "      <td>3</td>\n",
              "      <td>['intermittent episodes', 'episode']</td>\n",
              "      <td>['70 91', '176 183']</td>\n",
              "      <td>HPI: 17yo M presents with palpitations. Patien...</td>\n",
              "      <td>Intermittent-symptoms</td>\n",
              "      <td>2</td>\n",
              "      <td>2</td>\n",
              "      <td>36</td>\n",
              "      <td>70</td>\n",
              "      <td>91</td>\n",
              "    </tr>\n",
              "    <tr>\n",
              "      <th>3</th>\n",
              "      <td>00016_003</td>\n",
              "      <td>0</td>\n",
              "      <td>16</td>\n",
              "      <td>3</td>\n",
              "      <td>['intermittent episodes', 'episode']</td>\n",
              "      <td>['70 91', '176 183']</td>\n",
              "      <td>HPI: 17yo M presents with palpitations. Patien...</td>\n",
              "      <td>Intermittent-symptoms</td>\n",
              "      <td>2</td>\n",
              "      <td>2</td>\n",
              "      <td>36</td>\n",
              "      <td>176</td>\n",
              "      <td>183</td>\n",
              "    </tr>\n",
              "    <tr>\n",
              "      <th>3</th>\n",
              "      <td>00016_003</td>\n",
              "      <td>0</td>\n",
              "      <td>16</td>\n",
              "      <td>3</td>\n",
              "      <td>['intermittent episodes', 'episode']</td>\n",
              "      <td>['70 91', '176 183']</td>\n",
              "      <td>HPI: 17yo M presents with palpitations. Patien...</td>\n",
              "      <td>Intermittent-symptoms</td>\n",
              "      <td>2</td>\n",
              "      <td>2</td>\n",
              "      <td>36</td>\n",
              "      <td>70</td>\n",
              "      <td>91</td>\n",
              "    </tr>\n",
              "    <tr>\n",
              "      <th>3</th>\n",
              "      <td>00016_003</td>\n",
              "      <td>0</td>\n",
              "      <td>16</td>\n",
              "      <td>3</td>\n",
              "      <td>['intermittent episodes', 'episode']</td>\n",
              "      <td>['70 91', '176 183']</td>\n",
              "      <td>HPI: 17yo M presents with palpitations. Patien...</td>\n",
              "      <td>Intermittent-symptoms</td>\n",
              "      <td>2</td>\n",
              "      <td>2</td>\n",
              "      <td>36</td>\n",
              "      <td>176</td>\n",
              "      <td>183</td>\n",
              "    </tr>\n",
              "    <tr>\n",
              "      <th>4</th>\n",
              "      <td>00016_004</td>\n",
              "      <td>0</td>\n",
              "      <td>16</td>\n",
              "      <td>4</td>\n",
              "      <td>['felt as if he were going to pass out']</td>\n",
              "      <td>['222 258']</td>\n",
              "      <td>HPI: 17yo M presents with palpitations. Patien...</td>\n",
              "      <td>Lightheaded</td>\n",
              "      <td>1</td>\n",
              "      <td>1</td>\n",
              "      <td>53</td>\n",
              "      <td>222</td>\n",
              "      <td>258</td>\n",
              "    </tr>\n",
              "    <tr>\n",
              "      <th>5</th>\n",
              "      <td>00016_005</td>\n",
              "      <td>0</td>\n",
              "      <td>16</td>\n",
              "      <td>5</td>\n",
              "      <td>[]</td>\n",
              "      <td>[]</td>\n",
              "      <td>HPI: 17yo M presents with palpitations. Patien...</td>\n",
              "      <td>No-hair-changes-OR-no-nail-changes-OR-no-tempe...</td>\n",
              "      <td>0</td>\n",
              "      <td>0</td>\n",
              "      <td>64</td>\n",
              "      <td>NaN</td>\n",
              "      <td>NaN</td>\n",
              "    </tr>\n",
              "    <tr>\n",
              "      <th>6</th>\n",
              "      <td>00016_006</td>\n",
              "      <td>0</td>\n",
              "      <td>16</td>\n",
              "      <td>6</td>\n",
              "      <td>['adderall', 'adderrall', 'adderrall']</td>\n",
              "      <td>['321 329', '404 413', '652 661']</td>\n",
              "      <td>HPI: 17yo M presents with palpitations. Patien...</td>\n",
              "      <td>Adderall-use</td>\n",
              "      <td>3</td>\n",
              "      <td>3</td>\n",
              "      <td>83</td>\n",
              "      <td>321</td>\n",
              "      <td>329</td>\n",
              "    </tr>\n",
              "    <tr>\n",
              "      <th>6</th>\n",
              "      <td>00016_006</td>\n",
              "      <td>0</td>\n",
              "      <td>16</td>\n",
              "      <td>6</td>\n",
              "      <td>['adderall', 'adderrall', 'adderrall']</td>\n",
              "      <td>['321 329', '404 413', '652 661']</td>\n",
              "      <td>HPI: 17yo M presents with palpitations. Patien...</td>\n",
              "      <td>Adderall-use</td>\n",
              "      <td>3</td>\n",
              "      <td>3</td>\n",
              "      <td>83</td>\n",
              "      <td>404</td>\n",
              "      <td>413</td>\n",
              "    </tr>\n",
              "    <tr>\n",
              "      <th>6</th>\n",
              "      <td>00016_006</td>\n",
              "      <td>0</td>\n",
              "      <td>16</td>\n",
              "      <td>6</td>\n",
              "      <td>['adderall', 'adderrall', 'adderrall']</td>\n",
              "      <td>['321 329', '404 413', '652 661']</td>\n",
              "      <td>HPI: 17yo M presents with palpitations. Patien...</td>\n",
              "      <td>Adderall-use</td>\n",
              "      <td>3</td>\n",
              "      <td>3</td>\n",
              "      <td>83</td>\n",
              "      <td>652</td>\n",
              "      <td>661</td>\n",
              "    </tr>\n",
              "    <tr>\n",
              "      <th>6</th>\n",
              "      <td>00016_006</td>\n",
              "      <td>0</td>\n",
              "      <td>16</td>\n",
              "      <td>6</td>\n",
              "      <td>['adderall', 'adderrall', 'adderrall']</td>\n",
              "      <td>['321 329', '404 413', '652 661']</td>\n",
              "      <td>HPI: 17yo M presents with palpitations. Patien...</td>\n",
              "      <td>Adderall-use</td>\n",
              "      <td>3</td>\n",
              "      <td>3</td>\n",
              "      <td>83</td>\n",
              "      <td>321</td>\n",
              "      <td>329</td>\n",
              "    </tr>\n",
              "    <tr>\n",
              "      <th>6</th>\n",
              "      <td>00016_006</td>\n",
              "      <td>0</td>\n",
              "      <td>16</td>\n",
              "      <td>6</td>\n",
              "      <td>['adderall', 'adderrall', 'adderrall']</td>\n",
              "      <td>['321 329', '404 413', '652 661']</td>\n",
              "      <td>HPI: 17yo M presents with palpitations. Patien...</td>\n",
              "      <td>Adderall-use</td>\n",
              "      <td>3</td>\n",
              "      <td>3</td>\n",
              "      <td>83</td>\n",
              "      <td>404</td>\n",
              "      <td>413</td>\n",
              "    </tr>\n",
              "    <tr>\n",
              "      <th>6</th>\n",
              "      <td>00016_006</td>\n",
              "      <td>0</td>\n",
              "      <td>16</td>\n",
              "      <td>6</td>\n",
              "      <td>['adderall', 'adderrall', 'adderrall']</td>\n",
              "      <td>['321 329', '404 413', '652 661']</td>\n",
              "      <td>HPI: 17yo M presents with palpitations. Patien...</td>\n",
              "      <td>Adderall-use</td>\n",
              "      <td>3</td>\n",
              "      <td>3</td>\n",
              "      <td>83</td>\n",
              "      <td>652</td>\n",
              "      <td>661</td>\n",
              "    </tr>\n",
              "    <tr>\n",
              "      <th>6</th>\n",
              "      <td>00016_006</td>\n",
              "      <td>0</td>\n",
              "      <td>16</td>\n",
              "      <td>6</td>\n",
              "      <td>['adderall', 'adderrall', 'adderrall']</td>\n",
              "      <td>['321 329', '404 413', '652 661']</td>\n",
              "      <td>HPI: 17yo M presents with palpitations. Patien...</td>\n",
              "      <td>Adderall-use</td>\n",
              "      <td>3</td>\n",
              "      <td>3</td>\n",
              "      <td>83</td>\n",
              "      <td>321</td>\n",
              "      <td>329</td>\n",
              "    </tr>\n",
              "    <tr>\n",
              "      <th>6</th>\n",
              "      <td>00016_006</td>\n",
              "      <td>0</td>\n",
              "      <td>16</td>\n",
              "      <td>6</td>\n",
              "      <td>['adderall', 'adderrall', 'adderrall']</td>\n",
              "      <td>['321 329', '404 413', '652 661']</td>\n",
              "      <td>HPI: 17yo M presents with palpitations. Patien...</td>\n",
              "      <td>Adderall-use</td>\n",
              "      <td>3</td>\n",
              "      <td>3</td>\n",
              "      <td>83</td>\n",
              "      <td>404</td>\n",
              "      <td>413</td>\n",
              "    </tr>\n",
              "    <tr>\n",
              "      <th>6</th>\n",
              "      <td>00016_006</td>\n",
              "      <td>0</td>\n",
              "      <td>16</td>\n",
              "      <td>6</td>\n",
              "      <td>['adderall', 'adderrall', 'adderrall']</td>\n",
              "      <td>['321 329', '404 413', '652 661']</td>\n",
              "      <td>HPI: 17yo M presents with palpitations. Patien...</td>\n",
              "      <td>Adderall-use</td>\n",
              "      <td>3</td>\n",
              "      <td>3</td>\n",
              "      <td>83</td>\n",
              "      <td>652</td>\n",
              "      <td>661</td>\n",
              "    </tr>\n",
              "    <tr>\n",
              "      <th>7</th>\n",
              "      <td>00016_007</td>\n",
              "      <td>0</td>\n",
              "      <td>16</td>\n",
              "      <td>7</td>\n",
              "      <td>[]</td>\n",
              "      <td>[]</td>\n",
              "      <td>HPI: 17yo M presents with palpitations. Patien...</td>\n",
              "      <td>Shortness-of-breath</td>\n",
              "      <td>0</td>\n",
              "      <td>0</td>\n",
              "      <td>96</td>\n",
              "      <td>NaN</td>\n",
              "      <td>NaN</td>\n",
              "    </tr>\n",
              "    <tr>\n",
              "      <th>8</th>\n",
              "      <td>00016_008</td>\n",
              "      <td>0</td>\n",
              "      <td>16</td>\n",
              "      <td>8</td>\n",
              "      <td>[]</td>\n",
              "      <td>[]</td>\n",
              "      <td>HPI: 17yo M presents with palpitations. Patien...</td>\n",
              "      <td>Caffeine-use</td>\n",
              "      <td>0</td>\n",
              "      <td>0</td>\n",
              "      <td>106</td>\n",
              "      <td>NaN</td>\n",
              "      <td>NaN</td>\n",
              "    </tr>\n",
              "    <tr>\n",
              "      <th>9</th>\n",
              "      <td>00016_009</td>\n",
              "      <td>0</td>\n",
              "      <td>16</td>\n",
              "      <td>9</td>\n",
              "      <td>['palpitations', 'heart beating/pounding']</td>\n",
              "      <td>['26 38', '96 118']</td>\n",
              "      <td>HPI: 17yo M presents with palpitations. Patien...</td>\n",
              "      <td>heart-pounding-OR-heart-racing</td>\n",
              "      <td>2</td>\n",
              "      <td>2</td>\n",
              "      <td>125</td>\n",
              "      <td>26</td>\n",
              "      <td>38</td>\n",
              "    </tr>\n",
              "    <tr>\n",
              "      <th>9</th>\n",
              "      <td>00016_009</td>\n",
              "      <td>0</td>\n",
              "      <td>16</td>\n",
              "      <td>9</td>\n",
              "      <td>['palpitations', 'heart beating/pounding']</td>\n",
              "      <td>['26 38', '96 118']</td>\n",
              "      <td>HPI: 17yo M presents with palpitations. Patien...</td>\n",
              "      <td>heart-pounding-OR-heart-racing</td>\n",
              "      <td>2</td>\n",
              "      <td>2</td>\n",
              "      <td>125</td>\n",
              "      <td>96</td>\n",
              "      <td>118</td>\n",
              "    </tr>\n",
              "    <tr>\n",
              "      <th>9</th>\n",
              "      <td>00016_009</td>\n",
              "      <td>0</td>\n",
              "      <td>16</td>\n",
              "      <td>9</td>\n",
              "      <td>['palpitations', 'heart beating/pounding']</td>\n",
              "      <td>['26 38', '96 118']</td>\n",
              "      <td>HPI: 17yo M presents with palpitations. Patien...</td>\n",
              "      <td>heart-pounding-OR-heart-racing</td>\n",
              "      <td>2</td>\n",
              "      <td>2</td>\n",
              "      <td>125</td>\n",
              "      <td>26</td>\n",
              "      <td>38</td>\n",
              "    </tr>\n",
              "    <tr>\n",
              "      <th>9</th>\n",
              "      <td>00016_009</td>\n",
              "      <td>0</td>\n",
              "      <td>16</td>\n",
              "      <td>9</td>\n",
              "      <td>['palpitations', 'heart beating/pounding']</td>\n",
              "      <td>['26 38', '96 118']</td>\n",
              "      <td>HPI: 17yo M presents with palpitations. Patien...</td>\n",
              "      <td>heart-pounding-OR-heart-racing</td>\n",
              "      <td>2</td>\n",
              "      <td>2</td>\n",
              "      <td>125</td>\n",
              "      <td>96</td>\n",
              "      <td>118</td>\n",
              "    </tr>\n",
              "    <tr>\n",
              "      <th>10</th>\n",
              "      <td>00016_010</td>\n",
              "      <td>0</td>\n",
              "      <td>16</td>\n",
              "      <td>10</td>\n",
              "      <td>['3-4 months of']</td>\n",
              "      <td>['56 69']</td>\n",
              "      <td>HPI: 17yo M presents with palpitations. Patien...</td>\n",
              "      <td>Few-months-duration</td>\n",
              "      <td>1</td>\n",
              "      <td>1</td>\n",
              "      <td>2</td>\n",
              "      <td>56</td>\n",
              "      <td>69</td>\n",
              "    </tr>\n",
              "    <tr>\n",
              "      <th>11</th>\n",
              "      <td>00016_011</td>\n",
              "      <td>0</td>\n",
              "      <td>16</td>\n",
              "      <td>11</td>\n",
              "      <td>['17yo']</td>\n",
              "      <td>['5 9']</td>\n",
              "      <td>HPI: 17yo M presents with palpitations. Patien...</td>\n",
              "      <td>17-year</td>\n",
              "      <td>1</td>\n",
              "      <td>1</td>\n",
              "      <td>13</td>\n",
              "      <td>5</td>\n",
              "      <td>9</td>\n",
              "    </tr>\n",
              "    <tr>\n",
              "      <th>12</th>\n",
              "      <td>00016_012</td>\n",
              "      <td>0</td>\n",
              "      <td>16</td>\n",
              "      <td>12</td>\n",
              "      <td>['M']</td>\n",
              "      <td>['10 11']</td>\n",
              "      <td>HPI: 17yo M presents with palpitations. Patien...</td>\n",
              "      <td>Male</td>\n",
              "      <td>1</td>\n",
              "      <td>1</td>\n",
              "      <td>17</td>\n",
              "      <td>10</td>\n",
              "      <td>11</td>\n",
              "    </tr>\n",
              "  </tbody>\n",
              "</table>\n",
              "</div>\n",
              "      <button class=\"colab-df-convert\" onclick=\"convertToInteractive('df-b411d7ed-d712-4b88-95ba-39ce8140cb85')\"\n",
              "              title=\"Convert this dataframe to an interactive table.\"\n",
              "              style=\"display:none;\">\n",
              "        \n",
              "  <svg xmlns=\"http://www.w3.org/2000/svg\" height=\"24px\"viewBox=\"0 0 24 24\"\n",
              "       width=\"24px\">\n",
              "    <path d=\"M0 0h24v24H0V0z\" fill=\"none\"/>\n",
              "    <path d=\"M18.56 5.44l.94 2.06.94-2.06 2.06-.94-2.06-.94-.94-2.06-.94 2.06-2.06.94zm-11 1L8.5 8.5l.94-2.06 2.06-.94-2.06-.94L8.5 2.5l-.94 2.06-2.06.94zm10 10l.94 2.06.94-2.06 2.06-.94-2.06-.94-.94-2.06-.94 2.06-2.06.94z\"/><path d=\"M17.41 7.96l-1.37-1.37c-.4-.4-.92-.59-1.43-.59-.52 0-1.04.2-1.43.59L10.3 9.45l-7.72 7.72c-.78.78-.78 2.05 0 2.83L4 21.41c.39.39.9.59 1.41.59.51 0 1.02-.2 1.41-.59l7.78-7.78 2.81-2.81c.8-.78.8-2.07 0-2.86zM5.41 20L4 18.59l7.72-7.72 1.47 1.35L5.41 20z\"/>\n",
              "  </svg>\n",
              "      </button>\n",
              "      \n",
              "  <style>\n",
              "    .colab-df-container {\n",
              "      display:flex;\n",
              "      flex-wrap:wrap;\n",
              "      gap: 12px;\n",
              "    }\n",
              "\n",
              "    .colab-df-convert {\n",
              "      background-color: #E8F0FE;\n",
              "      border: none;\n",
              "      border-radius: 50%;\n",
              "      cursor: pointer;\n",
              "      display: none;\n",
              "      fill: #1967D2;\n",
              "      height: 32px;\n",
              "      padding: 0 0 0 0;\n",
              "      width: 32px;\n",
              "    }\n",
              "\n",
              "    .colab-df-convert:hover {\n",
              "      background-color: #E2EBFA;\n",
              "      box-shadow: 0px 1px 2px rgba(60, 64, 67, 0.3), 0px 1px 3px 1px rgba(60, 64, 67, 0.15);\n",
              "      fill: #174EA6;\n",
              "    }\n",
              "\n",
              "    [theme=dark] .colab-df-convert {\n",
              "      background-color: #3B4455;\n",
              "      fill: #D2E3FC;\n",
              "    }\n",
              "\n",
              "    [theme=dark] .colab-df-convert:hover {\n",
              "      background-color: #434B5C;\n",
              "      box-shadow: 0px 1px 3px 1px rgba(0, 0, 0, 0.15);\n",
              "      filter: drop-shadow(0px 1px 2px rgba(0, 0, 0, 0.3));\n",
              "      fill: #FFFFFF;\n",
              "    }\n",
              "  </style>\n",
              "\n",
              "      <script>\n",
              "        const buttonEl =\n",
              "          document.querySelector('#df-b411d7ed-d712-4b88-95ba-39ce8140cb85 button.colab-df-convert');\n",
              "        buttonEl.style.display =\n",
              "          google.colab.kernel.accessAllowed ? 'block' : 'none';\n",
              "\n",
              "        async function convertToInteractive(key) {\n",
              "          const element = document.querySelector('#df-b411d7ed-d712-4b88-95ba-39ce8140cb85');\n",
              "          const dataTable =\n",
              "            await google.colab.kernel.invokeFunction('convertToInteractive',\n",
              "                                                     [key], {});\n",
              "          if (!dataTable) return;\n",
              "\n",
              "          const docLinkHtml = 'Like what you see? Visit the ' +\n",
              "            '<a target=\"_blank\" href=https://colab.research.google.com/notebooks/data_table.ipynb>data table notebook</a>'\n",
              "            + ' to learn more about interactive tables.';\n",
              "          element.innerHTML = '';\n",
              "          dataTable['output_type'] = 'display_data';\n",
              "          await google.colab.output.renderOutput(dataTable, element);\n",
              "          const docLink = document.createElement('div');\n",
              "          docLink.innerHTML = docLinkHtml;\n",
              "          element.appendChild(docLink);\n",
              "        }\n",
              "      </script>\n",
              "    </div>\n",
              "  </div>\n",
              "  "
            ]
          },
          "metadata": {},
          "execution_count": 46
        }
      ]
    },
    {
      "cell_type": "markdown",
      "source": [
        "https://www.lighttag.io/blog/sequence-labeling-with-transformers/example"
      ],
      "metadata": {
        "id": "5seZ3h71XsUb"
      }
    },
    {
      "cell_type": "code",
      "source": [
        "# create a dictionary of target and start_char, and target and end_char\n",
        "#target_start_dict = {k:[j for i in v for j in i] for k, v in test.groupby('target')['start_char']}\n",
        "#target_end_dict = {k:[j for i in v for j in i] for k, v in test.groupby('target')['end_char']}"
      ],
      "metadata": {
        "id": "NZxohXRupZSB"
      },
      "execution_count": 47,
      "outputs": []
    },
    {
      "cell_type": "code",
      "source": [
        "# tokenize the text \n",
        "encoding = tokenizer(test['pn_history'][0], \n",
        "                       #max_length='512',\n",
        "                       padding='longest',#sentence max to save on computation\n",
        "                      truncation=False,\n",
        "                        return_offsets_mapping=True)\n",
        "input_id = encoding['input_ids']\n",
        "attn = encoding['attention_mask']\n",
        "offset = encoding['offset_mapping']"
      ],
      "metadata": {
        "id": "DjN-pj1k5Ju8"
      },
      "execution_count": 48,
      "outputs": []
    },
    {
      "cell_type": "code",
      "source": [
        "len(offset)"
      ],
      "metadata": {
        "colab": {
          "base_uri": "https://localhost:8080/"
        },
        "id": "8WWIp-Hk6bWM",
        "outputId": "e89ce3f4-ae93-4db7-e62f-7bcd0cde56cb"
      },
      "execution_count": 49,
      "outputs": [
        {
          "output_type": "execute_result",
          "data": {
            "text/plain": [
              "246"
            ]
          },
          "metadata": {},
          "execution_count": 49
        }
      ]
    },
    {
      "cell_type": "code",
      "source": [
        "# create a list same length as tokens to store target labels\n",
        "Target_entity_labels = []\n",
        "Target_entity_labels = [EMPTY_idx]*len(offset)\n",
        "# iterate through rows in dataframe to compare start/end char with the offset mapping position\n",
        "for idx, row in test.iterrows(): \n",
        "  # compare\n",
        "  start = row.start_char\n",
        "  end = row.end_char\n",
        "  target = row.Target\n",
        "  for i, (pos_1, pos_2) in enumerate(offset):\n",
        "    if (pos_1 >= start) and (pos_2 <= end): #\n",
        "      Target_entity_labels[i] = target\n",
        "    else:\n",
        "      pass\n",
        "#print(Target_entity_labels)"
      ],
      "metadata": {
        "id": "7wicLsvPrPJx"
      },
      "execution_count": 50,
      "outputs": []
    },
    {
      "cell_type": "code",
      "source": [
        "Target_entity_labels"
      ],
      "metadata": {
        "colab": {
          "base_uri": "https://localhost:8080/"
        },
        "id": "GMOiOWAHL-Lb",
        "outputId": "90c5731b-c85f-4ed1-9b09-f5adae841d3f"
      },
      "execution_count": 51,
      "outputs": [
        {
          "output_type": "execute_result",
          "data": {
            "text/plain": [
              "[143,\n",
              " 143,\n",
              " 143,\n",
              " 143,\n",
              " 13,\n",
              " 13,\n",
              " 17,\n",
              " 143,\n",
              " 143,\n",
              " 125,\n",
              " 125,\n",
              " 125,\n",
              " 143,\n",
              " 143,\n",
              " 143,\n",
              " 2,\n",
              " 2,\n",
              " 2,\n",
              " 2,\n",
              " 2,\n",
              " 36,\n",
              " 36,\n",
              " 143,\n",
              " 143,\n",
              " 125,\n",
              " 125,\n",
              " 125,\n",
              " 125,\n",
              " 125,\n",
              " 143,\n",
              " 143,\n",
              " 143,\n",
              " 143,\n",
              " 143,\n",
              " 143,\n",
              " 143,\n",
              " 143,\n",
              " 143,\n",
              " 143,\n",
              " 143,\n",
              " 143,\n",
              " 143,\n",
              " 143,\n",
              " 36,\n",
              " 143,\n",
              " 143,\n",
              " 143,\n",
              " 143,\n",
              " 143,\n",
              " 18,\n",
              " 18,\n",
              " 143,\n",
              " 53,\n",
              " 53,\n",
              " 53,\n",
              " 53,\n",
              " 53,\n",
              " 53,\n",
              " 53,\n",
              " 53,\n",
              " 53,\n",
              " 143,\n",
              " 143,\n",
              " 143,\n",
              " 143,\n",
              " 143,\n",
              " 143,\n",
              " 143,\n",
              " 143,\n",
              " 143,\n",
              " 143,\n",
              " 143,\n",
              " 143,\n",
              " 143,\n",
              " 143,\n",
              " 83,\n",
              " 83,\n",
              " 83,\n",
              " 143,\n",
              " 143,\n",
              " 143,\n",
              " 143,\n",
              " 143,\n",
              " 143,\n",
              " 143,\n",
              " 143,\n",
              " 143,\n",
              " 143,\n",
              " 143,\n",
              " 143,\n",
              " 143,\n",
              " 143,\n",
              " 143,\n",
              " 143,\n",
              " 143,\n",
              " 143,\n",
              " 83,\n",
              " 83,\n",
              " 83,\n",
              " 143,\n",
              " 143,\n",
              " 143,\n",
              " 143,\n",
              " 143,\n",
              " 143,\n",
              " 143,\n",
              " 143,\n",
              " 143,\n",
              " 143,\n",
              " 143,\n",
              " 143,\n",
              " 143,\n",
              " 143,\n",
              " 143,\n",
              " 143,\n",
              " 143,\n",
              " 143,\n",
              " 143,\n",
              " 143,\n",
              " 143,\n",
              " 143,\n",
              " 143,\n",
              " 143,\n",
              " 143,\n",
              " 143,\n",
              " 143,\n",
              " 143,\n",
              " 143,\n",
              " 143,\n",
              " 143,\n",
              " 143,\n",
              " 143,\n",
              " 143,\n",
              " 143,\n",
              " 143,\n",
              " 143,\n",
              " 143,\n",
              " 143,\n",
              " 143,\n",
              " 143,\n",
              " 143,\n",
              " 143,\n",
              " 143,\n",
              " 143,\n",
              " 143,\n",
              " 143,\n",
              " 143,\n",
              " 143,\n",
              " 143,\n",
              " 143,\n",
              " 143,\n",
              " 143,\n",
              " 143,\n",
              " 143,\n",
              " 143,\n",
              " 143,\n",
              " 143,\n",
              " 143,\n",
              " 143,\n",
              " 143,\n",
              " 143,\n",
              " 143,\n",
              " 143,\n",
              " 143,\n",
              " 143,\n",
              " 83,\n",
              " 83,\n",
              " 83,\n",
              " 143,\n",
              " 143,\n",
              " 143,\n",
              " 143,\n",
              " 143,\n",
              " 1,\n",
              " 1,\n",
              " 1,\n",
              " 1,\n",
              " 1,\n",
              " 1,\n",
              " 143,\n",
              " 0,\n",
              " 0,\n",
              " 0,\n",
              " 0,\n",
              " 0,\n",
              " 0,\n",
              " 0,\n",
              " 143,\n",
              " 143,\n",
              " 143,\n",
              " 143,\n",
              " 143,\n",
              " 143,\n",
              " 143,\n",
              " 143,\n",
              " 143,\n",
              " 143,\n",
              " 143,\n",
              " 143,\n",
              " 143,\n",
              " 143,\n",
              " 143,\n",
              " 143,\n",
              " 143,\n",
              " 143,\n",
              " 143,\n",
              " 143,\n",
              " 143,\n",
              " 143,\n",
              " 143,\n",
              " 143,\n",
              " 143,\n",
              " 143,\n",
              " 143,\n",
              " 143,\n",
              " 143,\n",
              " 143,\n",
              " 143,\n",
              " 143,\n",
              " 143,\n",
              " 143,\n",
              " 143,\n",
              " 143,\n",
              " 143,\n",
              " 143,\n",
              " 143,\n",
              " 143,\n",
              " 143,\n",
              " 143,\n",
              " 143,\n",
              " 143,\n",
              " 143,\n",
              " 143,\n",
              " 143,\n",
              " 143,\n",
              " 143,\n",
              " 143,\n",
              " 143,\n",
              " 143,\n",
              " 143,\n",
              " 143,\n",
              " 143,\n",
              " 143,\n",
              " 143,\n",
              " 143,\n",
              " 143]"
            ]
          },
          "metadata": {},
          "execution_count": 51
        }
      ]
    },
    {
      "cell_type": "markdown",
      "source": [
        "## Prepare data for Bert"
      ],
      "metadata": {
        "id": "q4ShxPJUKN0Y"
      }
    },
    {
      "cell_type": "code",
      "source": [
        "pn_history=[]\n",
        "input_id_sequence = []\n",
        "attn_sequence = []\n",
        "Target_labels = []\n",
        "for pn in train.groupby('pn_num'):\n",
        "  # for loop to get encoding for each unique clinical note\n",
        "  # output is a tuple (pn_num, df)\n",
        "  df = pn[1] \n",
        "  #clinical note to be annotated\n",
        "  pn_history = df.iloc[0].pn_history\n",
        "  \n",
        "  # get encoding\n",
        "  encoding = tokenizer(pn_history, \n",
        "                       max_length=max_sequence_length,\n",
        "                       padding='max_length',#sentence max to save on computation\n",
        "                       truncation=False,\n",
        "                       return_offsets_mapping=True)\n",
        "  input_id = encoding['input_ids']\n",
        "  attn = encoding['attention_mask']\n",
        "  offset = encoding['offset_mapping']\n",
        "\n",
        "  # prepare target sequence\n",
        "  # First, create a target_entity_sequence same length as encoding and fill by default 'O'\n",
        "  Target_label = [EMPTY_idx]*len(offset)\n",
        "  # Next, iterate through rows in df to compare start/end char with the offset_mapping position\n",
        "  for idx, row in df.iterrows(): \n",
        "    start = row.start_char\n",
        "    end = row.end_char\n",
        "    target = row.Target\n",
        "\n",
        "    for i, (pos_1, pos_2) in enumerate(offset):\n",
        "      if (pos_1 >= start) and (pos_2 <= end): #\n",
        "        Target_label[i] = target\n",
        "      else:\n",
        "        pass\n",
        "  Target_labels.append(Target_label)\n",
        "  input_id_sequence.append(input_id)\n",
        "  attn_sequence.append(attn)\n"
      ],
      "metadata": {
        "id": "2AsBdqu6YshJ"
      },
      "execution_count": 52,
      "outputs": []
    },
    {
      "cell_type": "code",
      "source": [
        "input_id_sequence = np.array(input_id_sequence).astype(np.int32)\n",
        "attn_sequence = np.array(attn_sequence).astype(np.int32)\n",
        "# the target class for each token will be one-hot encoded by an array [,144]\n",
        "Target_labels = np.array(tf.keras.utils.to_categorical(Target_labels,len(Label))).astype(np.uint8)"
      ],
      "metadata": {
        "id": "iapZCpkHRQge"
      },
      "execution_count": 53,
      "outputs": []
    },
    {
      "cell_type": "code",
      "source": [
        "Target_labels.shape"
      ],
      "metadata": {
        "colab": {
          "base_uri": "https://localhost:8080/"
        },
        "id": "JQ7MRZ5Czp8T",
        "outputId": "dc94f25b-38fe-474c-c856-73db1f637a27"
      },
      "execution_count": 54,
      "outputs": [
        {
          "output_type": "execute_result",
          "data": {
            "text/plain": [
              "(1000, 392, 144)"
            ]
          },
          "metadata": {},
          "execution_count": 54
        }
      ]
    },
    {
      "cell_type": "code",
      "source": [
        "print(len(input_id_sequence))\n",
        "print(len(attn_sequence))\n",
        "print(len(Target_labels))"
      ],
      "metadata": {
        "id": "PzXYGfEGm34Z",
        "colab": {
          "base_uri": "https://localhost:8080/"
        },
        "outputId": "528c6cad-41fb-47fb-b874-b1e4a6bd08c8"
      },
      "execution_count": 55,
      "outputs": [
        {
          "output_type": "stream",
          "name": "stdout",
          "text": [
            "1000\n",
            "1000\n",
            "1000\n"
          ]
        }
      ]
    },
    {
      "cell_type": "code",
      "source": [
        "print(len(input_id_sequence[0]))\n",
        "print(len(attn_sequence[0]))\n",
        "print(len(Target_labels[0])) # should match the max_sequence_length"
      ],
      "metadata": {
        "colab": {
          "base_uri": "https://localhost:8080/"
        },
        "id": "icsr1RVYCNF8",
        "outputId": "a9f3c98a-57bf-419e-e1a3-8273c646bbc9"
      },
      "execution_count": 56,
      "outputs": [
        {
          "output_type": "stream",
          "name": "stdout",
          "text": [
            "392\n",
            "392\n",
            "392\n"
          ]
        }
      ]
    },
    {
      "cell_type": "code",
      "source": [
        "pn_history"
      ],
      "metadata": {
        "colab": {
          "base_uri": "https://localhost:8080/",
          "height": 105
        },
        "id": "Z1Uwb0sxGgLo",
        "outputId": "dfe18a6a-d5a4-4362-9c83-07fd6051311b"
      },
      "execution_count": 57,
      "outputs": [
        {
          "output_type": "execute_result",
          "data": {
            "text/plain": [
              "'Stephanie madden is a 20 year old woman complaining of headache. Pain began yesterday morning and has been getting worse. Dull constant ache bilaterally, worse with walking, bending over, no alleviating factors. Did not respond to ibuprofen, Tylenol, or sleep. Complains of photobia, but not phonophobia, no aura. Subjective fever today. Neck stiffness. Nausea and vomiting. No dizzyness or lightheadedness, no weakness, no sick contacts.\\r\\nROS: otherwise negative\\r\\nPMH: none\\r\\nPSH: none\\r\\nHosp: none\\r\\nMed: Birth control pill\\r\\nAllergies: none\\r\\nSoc: works at sporting good store, lives with roomate, no tobacoo, etoh 2-3 drinks on weekends, marijuna 3-4 joints a week, sexually active and uses condoms'"
            ],
            "application/vnd.google.colaboratory.intrinsic+json": {
              "type": "string"
            }
          },
          "metadata": {},
          "execution_count": 57
        }
      ]
    },
    {
      "cell_type": "code",
      "source": [
        "np.array(input_id)"
      ],
      "metadata": {
        "colab": {
          "base_uri": "https://localhost:8080/"
        },
        "id": "wucrtSeUGpuA",
        "outputId": "7030b036-bf20-4562-b15b-f5605aec5e2d"
      },
      "execution_count": 58,
      "outputs": [
        {
          "output_type": "execute_result",
          "data": {
            "text/plain": [
              "array([    0, 25093,  4134,   324,   475, 23004,    16,    10,   291,\n",
              "          76,   793,   693, 13689,     9, 19344,     4, 23689,   880,\n",
              "        2350,   662,     8,    34,    57,   562,  3007,     4, 38776,\n",
              "        5891,  4285,   700,   741, 45931,     6,  3007,    19,  3051,\n",
              "           6, 33842,    81,     6,   117, 32216, 16158,  2433,     4,\n",
              "        6553,    45,  2519,     7, 34154,   658,  1001, 22132,     6,\n",
              "         255,  4360,   225,  1168,     6,    50,  3581,     4, 20722,\n",
              "        5069,     9, 17190, 33693,     6,    53,    45, 43676, 24938,\n",
              "           6,   117, 34705,     4, 36994,  2088, 11696,   452,     4,\n",
              "       33224, 37760,     4,   234, 17498,   102,     8, 23600,     4,\n",
              "         440, 24719,   219,  1825,    50,  1109, 19279,  1825,     6,\n",
              "         117,  8269,     6,   117,  4736,  9872,     4, 50121, 50118,\n",
              "         500,  3196,    35,  3680,  2430, 50121, 50118,  5683,   725,\n",
              "          35,  4146, 50121, 50118,  3888,   725,    35,  4146, 50121,\n",
              "       50118,   725, 16497,    35,  4146, 50121, 50118, 21243,    35,\n",
              "       27178,   797, 13106, 50121, 50118,  3684, 11249,   918,    35,\n",
              "        4146, 50121, 50118, 29971,    35,  1364,    23,  7798,   205,\n",
              "        1400,     6,  1074,    19,   929,   877,     6,   117, 45510,\n",
              "        1043,  3036,     6,  4400,  2678,   132,    12,   246,  6696,\n",
              "          15, 12729,     6,  4401,  2161,  4989,   155,    12,   306,\n",
              "       24944,    10,   186,     6,  5912,  2171,     8,  2939, 32528,\n",
              "           2,     1,     1,     1,     1,     1,     1,     1,     1,\n",
              "           1,     1,     1,     1,     1,     1,     1,     1,     1,\n",
              "           1,     1,     1,     1,     1,     1,     1,     1,     1,\n",
              "           1,     1,     1,     1,     1,     1,     1,     1,     1,\n",
              "           1,     1,     1,     1,     1,     1,     1,     1,     1,\n",
              "           1,     1,     1,     1,     1,     1,     1,     1,     1,\n",
              "           1,     1,     1,     1,     1,     1,     1,     1,     1,\n",
              "           1,     1,     1,     1,     1,     1,     1,     1,     1,\n",
              "           1,     1,     1,     1,     1,     1,     1,     1,     1,\n",
              "           1,     1,     1,     1,     1,     1,     1,     1,     1,\n",
              "           1,     1,     1,     1,     1,     1,     1,     1,     1,\n",
              "           1,     1,     1,     1,     1,     1,     1,     1,     1,\n",
              "           1,     1,     1,     1,     1,     1,     1,     1,     1,\n",
              "           1,     1,     1,     1,     1,     1,     1,     1,     1,\n",
              "           1,     1,     1,     1,     1,     1,     1,     1,     1,\n",
              "           1,     1,     1,     1,     1,     1,     1,     1,     1,\n",
              "           1,     1,     1,     1,     1,     1,     1,     1,     1,\n",
              "           1,     1,     1,     1,     1,     1,     1,     1,     1,\n",
              "           1,     1,     1,     1,     1,     1,     1,     1,     1,\n",
              "           1,     1,     1,     1,     1,     1,     1,     1,     1,\n",
              "           1,     1,     1,     1,     1,     1,     1,     1,     1,\n",
              "           1,     1,     1,     1,     1,     1,     1,     1,     1,\n",
              "           1,     1,     1,     1,     1])"
            ]
          },
          "metadata": {},
          "execution_count": 58
        }
      ]
    },
    {
      "cell_type": "code",
      "source": [
        "np.array(attn)"
      ],
      "metadata": {
        "colab": {
          "base_uri": "https://localhost:8080/"
        },
        "id": "on6i8N-MGwCY",
        "outputId": "c7e07858-dca7-4842-f0ff-47c8ac8de5de"
      },
      "execution_count": 59,
      "outputs": [
        {
          "output_type": "execute_result",
          "data": {
            "text/plain": [
              "array([1, 1, 1, 1, 1, 1, 1, 1, 1, 1, 1, 1, 1, 1, 1, 1, 1, 1, 1, 1, 1, 1,\n",
              "       1, 1, 1, 1, 1, 1, 1, 1, 1, 1, 1, 1, 1, 1, 1, 1, 1, 1, 1, 1, 1, 1,\n",
              "       1, 1, 1, 1, 1, 1, 1, 1, 1, 1, 1, 1, 1, 1, 1, 1, 1, 1, 1, 1, 1, 1,\n",
              "       1, 1, 1, 1, 1, 1, 1, 1, 1, 1, 1, 1, 1, 1, 1, 1, 1, 1, 1, 1, 1, 1,\n",
              "       1, 1, 1, 1, 1, 1, 1, 1, 1, 1, 1, 1, 1, 1, 1, 1, 1, 1, 1, 1, 1, 1,\n",
              "       1, 1, 1, 1, 1, 1, 1, 1, 1, 1, 1, 1, 1, 1, 1, 1, 1, 1, 1, 1, 1, 1,\n",
              "       1, 1, 1, 1, 1, 1, 1, 1, 1, 1, 1, 1, 1, 1, 1, 1, 1, 1, 1, 1, 1, 1,\n",
              "       1, 1, 1, 1, 1, 1, 1, 1, 1, 1, 1, 1, 1, 1, 1, 1, 1, 1, 1, 1, 1, 1,\n",
              "       1, 1, 1, 1, 1, 1, 1, 1, 1, 1, 1, 1, 1, 1, 0, 0, 0, 0, 0, 0, 0, 0,\n",
              "       0, 0, 0, 0, 0, 0, 0, 0, 0, 0, 0, 0, 0, 0, 0, 0, 0, 0, 0, 0, 0, 0,\n",
              "       0, 0, 0, 0, 0, 0, 0, 0, 0, 0, 0, 0, 0, 0, 0, 0, 0, 0, 0, 0, 0, 0,\n",
              "       0, 0, 0, 0, 0, 0, 0, 0, 0, 0, 0, 0, 0, 0, 0, 0, 0, 0, 0, 0, 0, 0,\n",
              "       0, 0, 0, 0, 0, 0, 0, 0, 0, 0, 0, 0, 0, 0, 0, 0, 0, 0, 0, 0, 0, 0,\n",
              "       0, 0, 0, 0, 0, 0, 0, 0, 0, 0, 0, 0, 0, 0, 0, 0, 0, 0, 0, 0, 0, 0,\n",
              "       0, 0, 0, 0, 0, 0, 0, 0, 0, 0, 0, 0, 0, 0, 0, 0, 0, 0, 0, 0, 0, 0,\n",
              "       0, 0, 0, 0, 0, 0, 0, 0, 0, 0, 0, 0, 0, 0, 0, 0, 0, 0, 0, 0, 0, 0,\n",
              "       0, 0, 0, 0, 0, 0, 0, 0, 0, 0, 0, 0, 0, 0, 0, 0, 0, 0, 0, 0, 0, 0,\n",
              "       0, 0, 0, 0, 0, 0, 0, 0, 0, 0, 0, 0, 0, 0, 0, 0, 0, 0])"
            ]
          },
          "metadata": {},
          "execution_count": 59
        }
      ]
    },
    {
      "cell_type": "code",
      "source": [
        "type(np.array(input_id)[0])"
      ],
      "metadata": {
        "colab": {
          "base_uri": "https://localhost:8080/"
        },
        "id": "8iSgkN0RXeLG",
        "outputId": "e89376da-3ab0-4074-d783-1da76874f7a3"
      },
      "execution_count": 60,
      "outputs": [
        {
          "output_type": "execute_result",
          "data": {
            "text/plain": [
              "numpy.int64"
            ]
          },
          "metadata": {},
          "execution_count": 60
        }
      ]
    },
    {
      "cell_type": "code",
      "source": [
        "np.array(Target_label)"
      ],
      "metadata": {
        "colab": {
          "base_uri": "https://localhost:8080/"
        },
        "id": "Eq2rniQ8JN_D",
        "outputId": "a86f3d8a-1228-42b8-e791-45dffc69a9fb"
      },
      "execution_count": 61,
      "outputs": [
        {
          "output_type": "execute_result",
          "data": {
            "text/plain": [
              "array([143, 143, 143, 143, 143, 143, 143, 143, 127, 127, 127, 143, 143,\n",
              "       143, 143, 143, 143, 143, 128, 143, 143, 143, 143, 143, 143, 143,\n",
              "       143, 143, 143, 143, 143, 143, 143, 143, 143, 143, 143, 143, 143,\n",
              "       143, 143, 143, 143, 143, 143, 143, 143, 143, 143, 143, 143, 143,\n",
              "       143, 143, 143, 143, 143, 143, 143, 143, 143, 143, 143, 143, 143,\n",
              "       140, 140, 143, 143, 143, 143, 143, 143, 143, 143, 143, 142, 142,\n",
              "       142, 143, 143, 131, 131, 143, 134, 134, 134, 143, 132, 143, 143,\n",
              "       143, 143, 143, 143, 143, 143, 143, 143, 143, 143, 143, 141, 141,\n",
              "       141, 143, 143, 143, 143, 143, 143, 143, 143, 143, 143, 143, 143,\n",
              "       143, 143, 143, 143, 143, 143, 143, 143, 143, 143, 143, 143, 143,\n",
              "       143, 143, 143, 143, 143, 143, 143, 143, 143, 143, 143, 143, 143,\n",
              "       143, 143, 143, 143, 143, 143, 143, 143, 143, 143, 143, 143, 136,\n",
              "       136, 136, 136, 143, 143, 143, 143, 143, 143, 143, 143, 143, 143,\n",
              "       143, 143, 143, 143, 143, 143, 143, 143, 143, 143, 143, 143, 143,\n",
              "       143, 143, 143, 143, 143, 143, 143, 143, 143, 143, 143, 143, 143,\n",
              "       143, 143, 143, 143, 143, 143, 143, 143, 143, 143, 143, 143, 143,\n",
              "       143, 143, 143, 143, 143, 143, 143, 143, 143, 143, 143, 143, 143,\n",
              "       143, 143, 143, 143, 143, 143, 143, 143, 143, 143, 143, 143, 143,\n",
              "       143, 143, 143, 143, 143, 143, 143, 143, 143, 143, 143, 143, 143,\n",
              "       143, 143, 143, 143, 143, 143, 143, 143, 143, 143, 143, 143, 143,\n",
              "       143, 143, 143, 143, 143, 143, 143, 143, 143, 143, 143, 143, 143,\n",
              "       143, 143, 143, 143, 143, 143, 143, 143, 143, 143, 143, 143, 143,\n",
              "       143, 143, 143, 143, 143, 143, 143, 143, 143, 143, 143, 143, 143,\n",
              "       143, 143, 143, 143, 143, 143, 143, 143, 143, 143, 143, 143, 143,\n",
              "       143, 143, 143, 143, 143, 143, 143, 143, 143, 143, 143, 143, 143,\n",
              "       143, 143, 143, 143, 143, 143, 143, 143, 143, 143, 143, 143, 143,\n",
              "       143, 143, 143, 143, 143, 143, 143, 143, 143, 143, 143, 143, 143,\n",
              "       143, 143, 143, 143, 143, 143, 143, 143, 143, 143, 143, 143, 143,\n",
              "       143, 143, 143, 143, 143, 143, 143, 143, 143, 143, 143, 143, 143,\n",
              "       143, 143, 143, 143, 143, 143, 143, 143, 143, 143, 143, 143, 143,\n",
              "       143, 143])"
            ]
          },
          "metadata": {},
          "execution_count": 61
        }
      ]
    },
    {
      "cell_type": "markdown",
      "source": [
        "## Prepare tf datasets"
      ],
      "metadata": {
        "id": "fy7kTp_0Q6RQ"
      }
    },
    {
      "cell_type": "code",
      "source": [
        "print(len(input_id_sequence))\n",
        "print(len(attn_sequence))\n",
        "print(len(Target_labels))"
      ],
      "metadata": {
        "colab": {
          "base_uri": "https://localhost:8080/"
        },
        "id": "3gbDeL0wDvmQ",
        "outputId": "bbb94818-4c14-4477-c2e8-a1c892bd3acf"
      },
      "execution_count": 62,
      "outputs": [
        {
          "output_type": "stream",
          "name": "stdout",
          "text": [
            "1000\n",
            "1000\n",
            "1000\n"
          ]
        }
      ]
    },
    {
      "cell_type": "code",
      "source": [
        "train_dataset = tf.data.Dataset.from_tensor_slices(((input_id_sequence, attn_sequence),Target_labels)) "
      ],
      "metadata": {
        "id": "mOcBd3sv9jNo"
      },
      "execution_count": 63,
      "outputs": []
    },
    {
      "cell_type": "code",
      "source": [
        "train_dataset"
      ],
      "metadata": {
        "colab": {
          "base_uri": "https://localhost:8080/"
        },
        "id": "A5hVc9Y4uRJs",
        "outputId": "fbd904ae-8cd3-4e75-da60-cf889988a70e"
      },
      "execution_count": 64,
      "outputs": [
        {
          "output_type": "execute_result",
          "data": {
            "text/plain": [
              "<_TensorSliceDataset element_spec=((TensorSpec(shape=(392,), dtype=tf.int32, name=None), TensorSpec(shape=(392,), dtype=tf.int32, name=None)), TensorSpec(shape=(392, 144), dtype=tf.uint8, name=None))>"
            ]
          },
          "metadata": {},
          "execution_count": 64
        }
      ]
    },
    {
      "cell_type": "markdown",
      "source": [
        "Perform a 80-20 split into train and validation datasets "
      ],
      "metadata": {
        "id": "xKX26HJtECh2"
      }
    },
    {
      "cell_type": "code",
      "source": [
        "train_size = len(input_id_sequence)\n",
        "train_size"
      ],
      "metadata": {
        "colab": {
          "base_uri": "https://localhost:8080/"
        },
        "id": "5JjPVzqjTtTT",
        "outputId": "e3909691-1f42-4811-f86c-f7328d8a6e81"
      },
      "execution_count": 65,
      "outputs": [
        {
          "output_type": "execute_result",
          "data": {
            "text/plain": [
              "1000"
            ]
          },
          "metadata": {},
          "execution_count": 65
        }
      ]
    },
    {
      "cell_type": "code",
      "source": [
        "train_size = len(input_id_sequence)\n",
        "train_dataset = train_dataset.shuffle(1000)\n",
        "ds_train = train_dataset.take(int(0.8*train_size))\n",
        "ds_val = train_dataset.skip(int(0.8*train_size))\n",
        "\n",
        "print(len(list(ds_train)), len(list(ds_val)))"
      ],
      "metadata": {
        "colab": {
          "base_uri": "https://localhost:8080/"
        },
        "id": "e7c-AQyAEXbZ",
        "outputId": "5e6283e0-85e2-44b5-8e4b-38cecf27b172"
      },
      "execution_count": 66,
      "outputs": [
        {
          "output_type": "stream",
          "name": "stdout",
          "text": [
            "800 200\n"
          ]
        }
      ]
    },
    {
      "cell_type": "code",
      "source": [
        "ds_train"
      ],
      "metadata": {
        "colab": {
          "base_uri": "https://localhost:8080/"
        },
        "id": "FzgcbtSJT8cu",
        "outputId": "78086331-c01e-463a-ac08-cf2e1a34dee4"
      },
      "execution_count": 67,
      "outputs": [
        {
          "output_type": "execute_result",
          "data": {
            "text/plain": [
              "<_TakeDataset element_spec=((TensorSpec(shape=(392,), dtype=tf.int32, name=None), TensorSpec(shape=(392,), dtype=tf.int32, name=None)), TensorSpec(shape=(392, 144), dtype=tf.uint8, name=None))>"
            ]
          },
          "metadata": {},
          "execution_count": 67
        }
      ]
    },
    {
      "cell_type": "code",
      "source": [
        "ds_val"
      ],
      "metadata": {
        "colab": {
          "base_uri": "https://localhost:8080/"
        },
        "id": "YncPBem5UB48",
        "outputId": "bc0de85a-ce99-4ed5-e506-66d5b8fbeee6"
      },
      "execution_count": 68,
      "outputs": [
        {
          "output_type": "execute_result",
          "data": {
            "text/plain": [
              "<_SkipDataset element_spec=((TensorSpec(shape=(392,), dtype=tf.int32, name=None), TensorSpec(shape=(392,), dtype=tf.int32, name=None)), TensorSpec(shape=(392, 144), dtype=tf.uint8, name=None))>"
            ]
          },
          "metadata": {},
          "execution_count": 68
        }
      ]
    },
    {
      "cell_type": "code",
      "source": [
        "batch_size = 5\n",
        "ds_train = ds_train.batch(batch_size)\n",
        "ds_val = ds_val.batch(batch_size)"
      ],
      "metadata": {
        "id": "b3m3sfL0UpPX"
      },
      "execution_count": 69,
      "outputs": []
    },
    {
      "cell_type": "code",
      "source": [
        "len(list(ds_train.as_numpy_iterator()))"
      ],
      "metadata": {
        "colab": {
          "base_uri": "https://localhost:8080/"
        },
        "id": "XLNLcRIPtVEV",
        "outputId": "353f6a88-a8a4-4b22-b8ff-579b9b3923b2"
      },
      "execution_count": 70,
      "outputs": [
        {
          "output_type": "execute_result",
          "data": {
            "text/plain": [
              "160"
            ]
          },
          "metadata": {},
          "execution_count": 70
        }
      ]
    },
    {
      "cell_type": "code",
      "source": [
        "list(ds_train.as_numpy_iterator())[0][1]"
      ],
      "metadata": {
        "colab": {
          "base_uri": "https://localhost:8080/"
        },
        "id": "WFbazLm8srEh",
        "outputId": "187c6ade-2666-4728-c318-bd8b0be1c71b"
      },
      "execution_count": 71,
      "outputs": [
        {
          "output_type": "execute_result",
          "data": {
            "text/plain": [
              "array([[[0, 0, 0, ..., 0, 0, 0],\n",
              "        [0, 0, 0, ..., 0, 0, 0],\n",
              "        [0, 0, 0, ..., 0, 0, 0],\n",
              "        ...,\n",
              "        [0, 0, 0, ..., 0, 0, 0],\n",
              "        [0, 0, 0, ..., 0, 0, 0],\n",
              "        [0, 0, 0, ..., 0, 0, 0]],\n",
              "\n",
              "       [[0, 0, 0, ..., 0, 0, 1],\n",
              "        [0, 0, 0, ..., 0, 0, 1],\n",
              "        [0, 0, 0, ..., 0, 0, 1],\n",
              "        ...,\n",
              "        [0, 0, 0, ..., 0, 0, 1],\n",
              "        [0, 0, 0, ..., 0, 0, 1],\n",
              "        [0, 0, 0, ..., 0, 0, 1]],\n",
              "\n",
              "       [[0, 0, 0, ..., 0, 0, 1],\n",
              "        [0, 0, 0, ..., 0, 0, 1],\n",
              "        [0, 0, 0, ..., 0, 0, 1],\n",
              "        ...,\n",
              "        [0, 0, 0, ..., 0, 0, 1],\n",
              "        [0, 0, 0, ..., 0, 0, 1],\n",
              "        [0, 0, 0, ..., 0, 0, 1]],\n",
              "\n",
              "       [[0, 0, 0, ..., 0, 0, 1],\n",
              "        [0, 0, 0, ..., 0, 0, 1],\n",
              "        [0, 0, 0, ..., 0, 0, 1],\n",
              "        ...,\n",
              "        [0, 0, 0, ..., 0, 0, 1],\n",
              "        [0, 0, 0, ..., 0, 0, 1],\n",
              "        [0, 0, 0, ..., 0, 0, 1]],\n",
              "\n",
              "       [[0, 0, 0, ..., 0, 0, 0],\n",
              "        [0, 0, 0, ..., 0, 0, 0],\n",
              "        [0, 0, 0, ..., 0, 0, 0],\n",
              "        ...,\n",
              "        [0, 0, 0, ..., 0, 0, 0],\n",
              "        [0, 0, 0, ..., 0, 0, 0],\n",
              "        [0, 0, 0, ..., 0, 0, 0]]], dtype=uint8)"
            ]
          },
          "metadata": {},
          "execution_count": 71
        }
      ]
    },
    {
      "cell_type": "code",
      "source": [
        "list(ds_train.as_numpy_iterator())[0][0]"
      ],
      "metadata": {
        "colab": {
          "base_uri": "https://localhost:8080/"
        },
        "id": "XEDcMwOAs_P-",
        "outputId": "69f08ad8-169a-4efd-a68a-bcf6a823a5fd"
      },
      "execution_count": 72,
      "outputs": [
        {
          "output_type": "execute_result",
          "data": {
            "text/plain": [
              "(array([[    0, 13123,   255, ...,     1,     1,     1],\n",
              "        [    0,  1898, 25610, ...,     1,     1,     1],\n",
              "        [    0,   725, 11337, ...,     1,     1,     1],\n",
              "        [    0,   725, 11337, ...,     1,     1,     1],\n",
              "        [    0,   725, 11337, ...,     1,     1,     1]], dtype=int32),\n",
              " array([[1, 1, 1, ..., 0, 0, 0],\n",
              "        [1, 1, 1, ..., 0, 0, 0],\n",
              "        [1, 1, 1, ..., 0, 0, 0],\n",
              "        [1, 1, 1, ..., 0, 0, 0],\n",
              "        [1, 1, 1, ..., 0, 0, 0]], dtype=int32))"
            ]
          },
          "metadata": {},
          "execution_count": 72
        }
      ]
    },
    {
      "cell_type": "code",
      "source": [
        "len(list(ds_train.as_numpy_iterator())[0][0][0][0])"
      ],
      "metadata": {
        "colab": {
          "base_uri": "https://localhost:8080/"
        },
        "id": "QuQv-eANtKhs",
        "outputId": "a4f9e2c9-346b-41d7-ad2a-ab85ab0aafca"
      },
      "execution_count": 73,
      "outputs": [
        {
          "output_type": "execute_result",
          "data": {
            "text/plain": [
              "392"
            ]
          },
          "metadata": {},
          "execution_count": 73
        }
      ]
    },
    {
      "cell_type": "code",
      "source": [
        "len(list(ds_train.as_numpy_iterator())[0][1])"
      ],
      "metadata": {
        "colab": {
          "base_uri": "https://localhost:8080/"
        },
        "id": "fH3qC5uctEQF",
        "outputId": "88efb531-b4e0-4df5-8096-ecd13e9ed8c3"
      },
      "execution_count": 74,
      "outputs": [
        {
          "output_type": "execute_result",
          "data": {
            "text/plain": [
              "5"
            ]
          },
          "metadata": {},
          "execution_count": 74
        }
      ]
    },
    {
      "cell_type": "code",
      "source": [
        "len(list(ds_train.as_numpy_iterator())[0][1][0])"
      ],
      "metadata": {
        "colab": {
          "base_uri": "https://localhost:8080/"
        },
        "id": "YMSnkIO4tmIi",
        "outputId": "dc10fcd9-6586-4dbe-f736-dcb4629054e8"
      },
      "execution_count": 75,
      "outputs": [
        {
          "output_type": "execute_result",
          "data": {
            "text/plain": [
              "392"
            ]
          },
          "metadata": {},
          "execution_count": 75
        }
      ]
    },
    {
      "cell_type": "markdown",
      "source": [
        "# Model training"
      ],
      "metadata": {
        "id": "IYbrl3ymE0el"
      }
    },
    {
      "cell_type": "code",
      "source": [
        "SEED = 123\n",
        "random.seed(SEED)\n",
        "np.random.seed(SEED)\n",
        "tf.random.set_seed(SEED)"
      ],
      "metadata": {
        "id": "V05dQ1uET7oL"
      },
      "execution_count": 76,
      "outputs": []
    },
    {
      "cell_type": "code",
      "source": [
        "# review model architecture\n",
        "# baseline model"
      ],
      "metadata": {
        "id": "JBHHe1rHEzH3"
      },
      "execution_count": 50,
      "outputs": []
    },
    {
      "cell_type": "code",
      "source": [
        "# visualize model architecture\n",
        "config = AutoConfig.from_pretrained(MODEL_NAME)\n",
        "config"
      ],
      "metadata": {
        "colab": {
          "base_uri": "https://localhost:8080/"
        },
        "id": "Dphm77HXALMt",
        "outputId": "222967d7-e4b0-4bcb-9fbd-87b0160cae40"
      },
      "execution_count": 77,
      "outputs": [
        {
          "output_type": "execute_result",
          "data": {
            "text/plain": [
              "RobertaConfig {\n",
              "  \"_name_or_path\": \"roberta-base\",\n",
              "  \"architectures\": [\n",
              "    \"RobertaForMaskedLM\"\n",
              "  ],\n",
              "  \"attention_probs_dropout_prob\": 0.1,\n",
              "  \"bos_token_id\": 0,\n",
              "  \"classifier_dropout\": null,\n",
              "  \"eos_token_id\": 2,\n",
              "  \"hidden_act\": \"gelu\",\n",
              "  \"hidden_dropout_prob\": 0.1,\n",
              "  \"hidden_size\": 768,\n",
              "  \"initializer_range\": 0.02,\n",
              "  \"intermediate_size\": 3072,\n",
              "  \"layer_norm_eps\": 1e-05,\n",
              "  \"max_position_embeddings\": 514,\n",
              "  \"model_type\": \"roberta\",\n",
              "  \"num_attention_heads\": 12,\n",
              "  \"num_hidden_layers\": 12,\n",
              "  \"pad_token_id\": 1,\n",
              "  \"position_embedding_type\": \"absolute\",\n",
              "  \"transformers_version\": \"4.27.4\",\n",
              "  \"type_vocab_size\": 1,\n",
              "  \"use_cache\": true,\n",
              "  \"vocab_size\": 50265\n",
              "}"
            ]
          },
          "metadata": {},
          "execution_count": 77
        }
      ]
    },
    {
      "cell_type": "code",
      "source": [
        "len(input_id_sequence)"
      ],
      "metadata": {
        "colab": {
          "base_uri": "https://localhost:8080/"
        },
        "id": "HLrL1bLvs-bN",
        "outputId": "64a9b0cb-f7db-4964-a65e-f516bd627a54"
      },
      "execution_count": 78,
      "outputs": [
        {
          "output_type": "execute_result",
          "data": {
            "text/plain": [
              "1000"
            ]
          },
          "metadata": {},
          "execution_count": 78
        }
      ]
    },
    {
      "cell_type": "code",
      "source": [
        "!pip install tensorflow_addons"
      ],
      "metadata": {
        "colab": {
          "base_uri": "https://localhost:8080/"
        },
        "id": "NggyBYkQY8Xb",
        "outputId": "87727728-b113-4868-efda-775b23f2389a"
      },
      "execution_count": 79,
      "outputs": [
        {
          "output_type": "stream",
          "name": "stdout",
          "text": [
            "Looking in indexes: https://pypi.org/simple, https://us-python.pkg.dev/colab-wheels/public/simple/\n",
            "Collecting tensorflow_addons\n",
            "  Downloading tensorflow_addons-0.19.0-cp39-cp39-manylinux_2_17_x86_64.manylinux2014_x86_64.whl (1.1 MB)\n",
            "\u001b[2K     \u001b[90m━━━━━━━━━━━━━━━━━━━━━━━━━━━━━━━━━━━━━━━━\u001b[0m \u001b[32m1.1/1.1 MB\u001b[0m \u001b[31m51.9 MB/s\u001b[0m eta \u001b[36m0:00:00\u001b[0m\n",
            "\u001b[?25hCollecting typeguard>=2.7\n",
            "  Downloading typeguard-3.0.2-py3-none-any.whl (30 kB)\n",
            "Requirement already satisfied: packaging in /usr/local/lib/python3.9/dist-packages (from tensorflow_addons) (23.0)\n",
            "Requirement already satisfied: importlib-metadata>=3.6 in /usr/local/lib/python3.9/dist-packages (from typeguard>=2.7->tensorflow_addons) (6.1.0)\n",
            "Requirement already satisfied: typing-extensions>=4.4.0 in /usr/local/lib/python3.9/dist-packages (from typeguard>=2.7->tensorflow_addons) (4.5.0)\n",
            "Requirement already satisfied: zipp>=0.5 in /usr/local/lib/python3.9/dist-packages (from importlib-metadata>=3.6->typeguard>=2.7->tensorflow_addons) (3.15.0)\n",
            "Installing collected packages: typeguard, tensorflow_addons\n",
            "Successfully installed tensorflow_addons-0.19.0 typeguard-3.0.2\n"
          ]
        }
      ]
    },
    {
      "cell_type": "code",
      "source": [
        "import tensorflow_addons as tfa"
      ],
      "metadata": {
        "colab": {
          "base_uri": "https://localhost:8080/"
        },
        "id": "ZvZ3Dc-DX9lT",
        "outputId": "8a517e53-e95c-429c-ac03-d525ae380532"
      },
      "execution_count": 80,
      "outputs": [
        {
          "output_type": "stream",
          "name": "stderr",
          "text": [
            "/usr/local/lib/python3.9/dist-packages/tensorflow_addons/utils/ensure_tf_install.py:53: UserWarning: Tensorflow Addons supports using Python ops for all Tensorflow versions above or equal to 2.9.0 and strictly below 2.12.0 (nightly versions are not supported). \n",
            " The versions of TensorFlow you are currently using is 2.12.0 and is not supported. \n",
            "Some things might work, some things might not.\n",
            "If you were to encounter a bug, do not file an issue.\n",
            "If you want to make sure you're using a tested and supported configuration, either change the TensorFlow version or the TensorFlow Addons's version. \n",
            "You can find the compatibility matrix in TensorFlow Addon's readme:\n",
            "https://github.com/tensorflow/addons\n",
            "  warnings.warn(\n"
          ]
        }
      ]
    },
    {
      "cell_type": "code",
      "source": [
        "max_sequence_length"
      ],
      "metadata": {
        "colab": {
          "base_uri": "https://localhost:8080/"
        },
        "id": "tHUlyhVMalcj",
        "outputId": "eaf004b7-aa24-4ea1-9259-58993f542863"
      },
      "execution_count": 81,
      "outputs": [
        {
          "output_type": "execute_result",
          "data": {
            "text/plain": [
              "392"
            ]
          },
          "metadata": {},
          "execution_count": 81
        }
      ]
    },
    {
      "cell_type": "code",
      "source": [
        "def build_model(config):\n",
        "  # Input Layers:\n",
        "  tokens = tf.keras.layers.Input(shape=(max_sequence_length,), name = 'tokens', dtype=tf.int32)\n",
        "  attention = tf.keras.layers.Input(shape=(max_sequence_length,), name = 'attention', dtype=tf.int32)\n",
        "  base_model = TFAutoModel.from_pretrained(MODEL_NAME, config=config)\n",
        "  # Output Layers:\n",
        "  out = base_model(tokens, attention_mask=attention)[0]\n",
        "  #out = tf.keras.layers.Dropout(0.2)(out)\n",
        "  out = tf.keras.layers.Dense(len(Label), activation='softmax')(out) \n",
        "\n",
        "  model = tf.keras.Model(inputs=(tokens, attention), outputs=out)\n",
        "  #opt = keras.optimizers.Adam(learning_rate=0.00001)0.00005\n",
        "  model.compile(\n",
        "        optimizer=tf.keras.optimizers.Adam(5e-5),\n",
        "        loss='categorical_crossentropy',\n",
        "        #loss=tf.keras.losses.categorical_crossentropy,\n",
        "        metrics=[tfa.metrics.F1Score(len(Label), average='micro')])\n",
        "  return model"
      ],
      "metadata": {
        "id": "GJPxPJS9VQT2"
      },
      "execution_count": 82,
      "outputs": []
    },
    {
      "cell_type": "markdown",
      "source": [
        "64 or 32? https://stackoverflow.com/questions/43816698/tensorflow-difference-in-performance-of-gather-for-int32-and-int64-indices-on-g"
      ],
      "metadata": {
        "id": "u5FFnsdgbMxD"
      }
    },
    {
      "cell_type": "code",
      "source": [
        "model = build_model(config)"
      ],
      "metadata": {
        "colab": {
          "base_uri": "https://localhost:8080/",
          "height": 156,
          "referenced_widgets": [
            "809501a67ee04b5ea688e6380e8a5039",
            "d02d180562d5450caecec775c27aff72",
            "ee4cdf82c0384dc68da130aac86c00ea",
            "e08d7758c3eb4097941b901e36d9d66c",
            "0ebe4962cab842888bd1f7ca7cbbc306",
            "94b596f100104a91abbdcf980773b8ae",
            "df4a1e9946164e97b6ca8c655c62c769",
            "38cafe7b28bb4f7fb901e1bb5978d1e3",
            "92fe4e3d771645a7a8475f5a8e3f06ce",
            "92d6bf00381a4808ad93ec6258fb65cc",
            "0f9667d8fa7e4920a5e5613d72950cb4"
          ]
        },
        "id": "BLAWQ9lcuSSN",
        "outputId": "5dbc4ede-1d8e-4faa-dfcd-b152d1ca4076"
      },
      "execution_count": 83,
      "outputs": [
        {
          "output_type": "display_data",
          "data": {
            "text/plain": [
              "Downloading tf_model.h5:   0%|          | 0.00/657M [00:00<?, ?B/s]"
            ],
            "application/vnd.jupyter.widget-view+json": {
              "version_major": 2,
              "version_minor": 0,
              "model_id": "809501a67ee04b5ea688e6380e8a5039"
            }
          },
          "metadata": {}
        },
        {
          "output_type": "stream",
          "name": "stderr",
          "text": [
            "Some layers from the model checkpoint at roberta-base were not used when initializing TFRobertaModel: ['lm_head']\n",
            "- This IS expected if you are initializing TFRobertaModel from the checkpoint of a model trained on another task or with another architecture (e.g. initializing a BertForSequenceClassification model from a BertForPreTraining model).\n",
            "- This IS NOT expected if you are initializing TFRobertaModel from the checkpoint of a model that you expect to be exactly identical (initializing a BertForSequenceClassification model from a BertForSequenceClassification model).\n",
            "All the layers of TFRobertaModel were initialized from the model checkpoint at roberta-base.\n",
            "If your task is similar to the task the model of the checkpoint was trained on, you can already use TFRobertaModel for predictions without further training.\n"
          ]
        }
      ]
    },
    {
      "cell_type": "code",
      "source": [
        "for layer in model.layers:\n",
        "  print(layer.output_shape)"
      ],
      "metadata": {
        "colab": {
          "base_uri": "https://localhost:8080/"
        },
        "id": "InayXDa4yBPL",
        "outputId": "4b34dbc1-e4c9-4af5-a9f7-2426325130a1"
      },
      "execution_count": 84,
      "outputs": [
        {
          "output_type": "stream",
          "name": "stdout",
          "text": [
            "[(None, 392)]\n",
            "[(None, 392)]\n",
            "TFBaseModelOutputWithPoolingAndCrossAttentions(last_hidden_state=(None, 392, 768), pooler_output=(None, 768), past_key_values=None, hidden_states=None, attentions=None, cross_attentions=None)\n",
            "(None, 392, 144)\n"
          ]
        }
      ]
    },
    {
      "cell_type": "code",
      "source": [
        "def fit_model(model, train_ds, val_ds, epochs=10):\n",
        "    \n",
        "    # Fits the model\n",
        "    history = model.fit(\n",
        "        train_ds,\n",
        "        validation_data=val_ds,\n",
        "        epochs=epochs\n",
        "        )\n",
        "\n",
        "    return model, history"
      ],
      "metadata": {
        "id": "P-UgmuhabvCh"
      },
      "execution_count": 85,
      "outputs": []
    },
    {
      "cell_type": "code",
      "source": [
        "model, history = fit_model(model, ds_train, ds_val, 10)"
      ],
      "metadata": {
        "colab": {
          "base_uri": "https://localhost:8080/",
          "height": 1000
        },
        "id": "HIBc8Hy-wt1s",
        "outputId": "a0870d19-ce48-4916-d9ff-7bf692d34659"
      },
      "execution_count": 86,
      "outputs": [
        {
          "output_type": "stream",
          "name": "stdout",
          "text": [
            "Epoch 1/10\n"
          ]
        },
        {
          "output_type": "stream",
          "name": "stderr",
          "text": [
            "WARNING:tensorflow:Gradients do not exist for variables ['tf_roberta_model/roberta/pooler/dense/kernel:0', 'tf_roberta_model/roberta/pooler/dense/bias:0'] when minimizing the loss. If you're using `model.compile()`, did you forget to provide a `loss` argument?\n",
            "WARNING:tensorflow:Gradients do not exist for variables ['tf_roberta_model/roberta/pooler/dense/kernel:0', 'tf_roberta_model/roberta/pooler/dense/bias:0'] when minimizing the loss. If you're using `model.compile()`, did you forget to provide a `loss` argument?\n",
            "WARNING:tensorflow:Gradients do not exist for variables ['tf_roberta_model/roberta/pooler/dense/kernel:0', 'tf_roberta_model/roberta/pooler/dense/bias:0'] when minimizing the loss. If you're using `model.compile()`, did you forget to provide a `loss` argument?\n",
            "WARNING:tensorflow:Gradients do not exist for variables ['tf_roberta_model/roberta/pooler/dense/kernel:0', 'tf_roberta_model/roberta/pooler/dense/bias:0'] when minimizing the loss. If you're using `model.compile()`, did you forget to provide a `loss` argument?\n"
          ]
        },
        {
          "output_type": "error",
          "ename": "InternalError",
          "evalue": "ignored",
          "traceback": [
            "\u001b[0;31m---------------------------------------------------------------------------\u001b[0m",
            "\u001b[0;31mInternalError\u001b[0m                             Traceback (most recent call last)",
            "\u001b[0;32m<ipython-input-86-98df3bb4c31c>\u001b[0m in \u001b[0;36m<cell line: 1>\u001b[0;34m()\u001b[0m\n\u001b[0;32m----> 1\u001b[0;31m \u001b[0mmodel\u001b[0m\u001b[0;34m,\u001b[0m \u001b[0mhistory\u001b[0m \u001b[0;34m=\u001b[0m \u001b[0mfit_model\u001b[0m\u001b[0;34m(\u001b[0m\u001b[0mmodel\u001b[0m\u001b[0;34m,\u001b[0m \u001b[0mds_train\u001b[0m\u001b[0;34m,\u001b[0m \u001b[0mds_val\u001b[0m\u001b[0;34m,\u001b[0m \u001b[0;36m10\u001b[0m\u001b[0;34m)\u001b[0m\u001b[0;34m\u001b[0m\u001b[0;34m\u001b[0m\u001b[0m\n\u001b[0m",
            "\u001b[0;32m<ipython-input-85-3a5ba5ff0b1f>\u001b[0m in \u001b[0;36mfit_model\u001b[0;34m(model, train_ds, val_ds, epochs)\u001b[0m\n\u001b[1;32m      2\u001b[0m \u001b[0;34m\u001b[0m\u001b[0m\n\u001b[1;32m      3\u001b[0m     \u001b[0;31m# Fits the model\u001b[0m\u001b[0;34m\u001b[0m\u001b[0;34m\u001b[0m\u001b[0m\n\u001b[0;32m----> 4\u001b[0;31m     history = model.fit(\n\u001b[0m\u001b[1;32m      5\u001b[0m         \u001b[0mtrain_ds\u001b[0m\u001b[0;34m,\u001b[0m\u001b[0;34m\u001b[0m\u001b[0;34m\u001b[0m\u001b[0m\n\u001b[1;32m      6\u001b[0m         \u001b[0mvalidation_data\u001b[0m\u001b[0;34m=\u001b[0m\u001b[0mval_ds\u001b[0m\u001b[0;34m,\u001b[0m\u001b[0;34m\u001b[0m\u001b[0;34m\u001b[0m\u001b[0m\n",
            "\u001b[0;32m/usr/local/lib/python3.9/dist-packages/keras/utils/traceback_utils.py\u001b[0m in \u001b[0;36merror_handler\u001b[0;34m(*args, **kwargs)\u001b[0m\n\u001b[1;32m     68\u001b[0m             \u001b[0;31m# To get the full stack trace, call:\u001b[0m\u001b[0;34m\u001b[0m\u001b[0;34m\u001b[0m\u001b[0m\n\u001b[1;32m     69\u001b[0m             \u001b[0;31m# `tf.debugging.disable_traceback_filtering()`\u001b[0m\u001b[0;34m\u001b[0m\u001b[0;34m\u001b[0m\u001b[0m\n\u001b[0;32m---> 70\u001b[0;31m             \u001b[0;32mraise\u001b[0m \u001b[0me\u001b[0m\u001b[0;34m.\u001b[0m\u001b[0mwith_traceback\u001b[0m\u001b[0;34m(\u001b[0m\u001b[0mfiltered_tb\u001b[0m\u001b[0;34m)\u001b[0m \u001b[0;32mfrom\u001b[0m \u001b[0;32mNone\u001b[0m\u001b[0;34m\u001b[0m\u001b[0;34m\u001b[0m\u001b[0m\n\u001b[0m\u001b[1;32m     71\u001b[0m         \u001b[0;32mfinally\u001b[0m\u001b[0;34m:\u001b[0m\u001b[0;34m\u001b[0m\u001b[0;34m\u001b[0m\u001b[0m\n\u001b[1;32m     72\u001b[0m             \u001b[0;32mdel\u001b[0m \u001b[0mfiltered_tb\u001b[0m\u001b[0;34m\u001b[0m\u001b[0;34m\u001b[0m\u001b[0m\n",
            "\u001b[0;32m/usr/local/lib/python3.9/dist-packages/tensorflow/python/eager/execute.py\u001b[0m in \u001b[0;36mquick_execute\u001b[0;34m(op_name, num_outputs, inputs, attrs, ctx, name)\u001b[0m\n\u001b[1;32m     50\u001b[0m   \u001b[0;32mtry\u001b[0m\u001b[0;34m:\u001b[0m\u001b[0;34m\u001b[0m\u001b[0;34m\u001b[0m\u001b[0m\n\u001b[1;32m     51\u001b[0m     \u001b[0mctx\u001b[0m\u001b[0;34m.\u001b[0m\u001b[0mensure_initialized\u001b[0m\u001b[0;34m(\u001b[0m\u001b[0;34m)\u001b[0m\u001b[0;34m\u001b[0m\u001b[0;34m\u001b[0m\u001b[0m\n\u001b[0;32m---> 52\u001b[0;31m     tensors = pywrap_tfe.TFE_Py_Execute(ctx._handle, device_name, op_name,\n\u001b[0m\u001b[1;32m     53\u001b[0m                                         inputs, attrs, num_outputs)\n\u001b[1;32m     54\u001b[0m   \u001b[0;32mexcept\u001b[0m \u001b[0mcore\u001b[0m\u001b[0;34m.\u001b[0m\u001b[0m_NotOkStatusException\u001b[0m \u001b[0;32mas\u001b[0m \u001b[0me\u001b[0m\u001b[0;34m:\u001b[0m\u001b[0;34m\u001b[0m\u001b[0;34m\u001b[0m\u001b[0m\n",
            "\u001b[0;31mInternalError\u001b[0m: Graph execution error:\n\nDetected at node 'StatefulPartitionedCall_198' defined at (most recent call last):\n    File \"/usr/lib/python3.9/runpy.py\", line 197, in _run_module_as_main\n      return _run_code(code, main_globals, None,\n    File \"/usr/lib/python3.9/runpy.py\", line 87, in _run_code\n      exec(code, run_globals)\n    File \"/usr/local/lib/python3.9/dist-packages/ipykernel_launcher.py\", line 16, in <module>\n      app.launch_new_instance()\n    File \"/usr/local/lib/python3.9/dist-packages/traitlets/config/application.py\", line 992, in launch_instance\n      app.start()\n    File \"/usr/local/lib/python3.9/dist-packages/ipykernel/kernelapp.py\", line 619, in start\n      self.io_loop.start()\n    File \"/usr/local/lib/python3.9/dist-packages/tornado/platform/asyncio.py\", line 215, in start\n      self.asyncio_loop.run_forever()\n    File \"/usr/lib/python3.9/asyncio/base_events.py\", line 601, in run_forever\n      self._run_once()\n    File \"/usr/lib/python3.9/asyncio/base_events.py\", line 1905, in _run_once\n      handle._run()\n    File \"/usr/lib/python3.9/asyncio/events.py\", line 80, in _run\n      self._context.run(self._callback, *self._args)\n    File \"/usr/local/lib/python3.9/dist-packages/tornado/ioloop.py\", line 687, in <lambda>\n      lambda f: self._run_callback(functools.partial(callback, future))\n    File \"/usr/local/lib/python3.9/dist-packages/tornado/ioloop.py\", line 740, in _run_callback\n      ret = callback()\n    File \"/usr/local/lib/python3.9/dist-packages/tornado/gen.py\", line 821, in inner\n      self.ctx_run(self.run)\n    File \"/usr/local/lib/python3.9/dist-packages/tornado/gen.py\", line 782, in run\n      yielded = self.gen.send(value)\n    File \"/usr/local/lib/python3.9/dist-packages/ipykernel/kernelbase.py\", line 361, in process_one\n      yield gen.maybe_future(dispatch(*args))\n    File \"/usr/local/lib/python3.9/dist-packages/tornado/gen.py\", line 234, in wrapper\n      yielded = ctx_run(next, result)\n    File \"/usr/local/lib/python3.9/dist-packages/ipykernel/kernelbase.py\", line 261, in dispatch_shell\n      yield gen.maybe_future(handler(stream, idents, msg))\n    File \"/usr/local/lib/python3.9/dist-packages/tornado/gen.py\", line 234, in wrapper\n      yielded = ctx_run(next, result)\n    File \"/usr/local/lib/python3.9/dist-packages/ipykernel/kernelbase.py\", line 539, in execute_request\n      self.do_execute(\n    File \"/usr/local/lib/python3.9/dist-packages/tornado/gen.py\", line 234, in wrapper\n      yielded = ctx_run(next, result)\n    File \"/usr/local/lib/python3.9/dist-packages/ipykernel/ipkernel.py\", line 302, in do_execute\n      res = shell.run_cell(code, store_history=store_history, silent=silent)\n    File \"/usr/local/lib/python3.9/dist-packages/ipykernel/zmqshell.py\", line 539, in run_cell\n      return super(ZMQInteractiveShell, self).run_cell(*args, **kwargs)\n    File \"/usr/local/lib/python3.9/dist-packages/IPython/core/interactiveshell.py\", line 2975, in run_cell\n      result = self._run_cell(\n    File \"/usr/local/lib/python3.9/dist-packages/IPython/core/interactiveshell.py\", line 3030, in _run_cell\n      return runner(coro)\n    File \"/usr/local/lib/python3.9/dist-packages/IPython/core/async_helpers.py\", line 78, in _pseudo_sync_runner\n      coro.send(None)\n    File \"/usr/local/lib/python3.9/dist-packages/IPython/core/interactiveshell.py\", line 3257, in run_cell_async\n      has_raised = await self.run_ast_nodes(code_ast.body, cell_name,\n    File \"/usr/local/lib/python3.9/dist-packages/IPython/core/interactiveshell.py\", line 3473, in run_ast_nodes\n      if (await self.run_code(code, result,  async_=asy)):\n    File \"/usr/local/lib/python3.9/dist-packages/IPython/core/interactiveshell.py\", line 3553, in run_code\n      exec(code_obj, self.user_global_ns, self.user_ns)\n    File \"<ipython-input-86-98df3bb4c31c>\", line 1, in <cell line: 1>\n      model, history = fit_model(model, ds_train, ds_val, 10)\n    File \"<ipython-input-85-3a5ba5ff0b1f>\", line 4, in fit_model\n      history = model.fit(\n    File \"/usr/local/lib/python3.9/dist-packages/keras/utils/traceback_utils.py\", line 65, in error_handler\n      return fn(*args, **kwargs)\n    File \"/usr/local/lib/python3.9/dist-packages/keras/engine/training.py\", line 1685, in fit\n      tmp_logs = self.train_function(iterator)\n    File \"/usr/local/lib/python3.9/dist-packages/keras/engine/training.py\", line 1284, in train_function\n      return step_function(self, iterator)\n    File \"/usr/local/lib/python3.9/dist-packages/keras/engine/training.py\", line 1268, in step_function\n      outputs = model.distribute_strategy.run(run_step, args=(data,))\n    File \"/usr/local/lib/python3.9/dist-packages/keras/engine/training.py\", line 1249, in run_step\n      outputs = model.train_step(data)\n    File \"/usr/local/lib/python3.9/dist-packages/keras/engine/training.py\", line 1054, in train_step\n      self.optimizer.minimize(loss, self.trainable_variables, tape=tape)\n    File \"/usr/local/lib/python3.9/dist-packages/keras/optimizers/optimizer.py\", line 543, in minimize\n      self.apply_gradients(grads_and_vars)\n    File \"/usr/local/lib/python3.9/dist-packages/keras/optimizers/optimizer.py\", line 1174, in apply_gradients\n      return super().apply_gradients(grads_and_vars, name=name)\n    File \"/usr/local/lib/python3.9/dist-packages/keras/optimizers/optimizer.py\", line 650, in apply_gradients\n      iteration = self._internal_apply_gradients(grads_and_vars)\n    File \"/usr/local/lib/python3.9/dist-packages/keras/optimizers/optimizer.py\", line 1200, in _internal_apply_gradients\n      return tf.__internal__.distribute.interim.maybe_merge_call(\n    File \"/usr/local/lib/python3.9/dist-packages/keras/optimizers/optimizer.py\", line 1250, in _distributed_apply_gradients_fn\n      distribution.extended.update(\n    File \"/usr/local/lib/python3.9/dist-packages/keras/optimizers/optimizer.py\", line 1245, in apply_grad_to_update_var\n      return self._update_step_xla(grad, var, id(self._var_key(var)))\nNode: 'StatefulPartitionedCall_198'\nRET_CHECK failure (tensorflow/compiler/xla/service/gpu/gpu_compiler.cc:618) dnn != nullptr \n\t [[{{node StatefulPartitionedCall_198}}]] [Op:__inference_train_function_43697]"
          ]
        }
      ]
    },
    {
      "cell_type": "code",
      "source": [
        "# def train_evaluate_model(train, val, model, epoch): \n",
        "#   \"\"\"\n",
        "#   Model training and evaluation\n",
        "#   \"\"\"\n",
        "#   accuracy = []\n",
        "#   loss = []\n",
        "#   learning_curve_data = pd.DataFrame()\n",
        "\n",
        "#   history = model.fit(train, validation_data=val, epochs=epoch)\n",
        "#   #plot learning curve for train/val loss and accuracy\n",
        "#   print('Training Learning Curve')\n",
        "#   pd.DataFrame(history.history).plot(figsize = (15,10))\n",
        "  \n",
        "\n",
        "#   # evaluate model on test data \n",
        "#   accuracy.append(model.evaluate(test)[1])\n",
        "#   loss.append(model.evaluate(test)[0])\n",
        "\n",
        "#   # confusion matrix for each flower class\n",
        "#   # predictions = np.array([]) \n",
        "#   # labels = np.array([])\n",
        "#   # for x, y in val: #store predictions and labels in 1d array\n",
        "#   #   predictions = np.concatenate([predictions, np.argmax(model.predict(x), axis = -1)])\n",
        "#   #   labels = np.concatenate([labels, y])\n",
        "#   # print('Confusion Matrix')\n",
        "#   # disp = ConfusionMatrixDisplay.from_predictions(labels, \n",
        "#   #                                              predictions, \n",
        "#   #                                              display_labels = target_labels, \n",
        "#   #                                              normalize='true', \n",
        "#   #                                              cmap=plt.cm.Blues)\n",
        "\n",
        "#   # print(classification_report(labels, predictions, target_names = target_labels))\n",
        "\n",
        "#   return model, loss, accuracy\n"
      ],
      "metadata": {
        "id": "16rVDM08cBq5"
      },
      "execution_count": 57,
      "outputs": []
    },
    {
      "cell_type": "code",
      "source": [
        "model, loss, accuracy = train_evaluate_model(ds_train, ds_val, model, 10)"
      ],
      "metadata": {
        "colab": {
          "base_uri": "https://localhost:8080/",
          "height": 165
        },
        "id": "iNkjykLVeQoZ",
        "outputId": "b0cdcdf7-aeb7-4d8c-e2cc-7491834557dc"
      },
      "execution_count": 105,
      "outputs": [
        {
          "output_type": "error",
          "ename": "NameError",
          "evalue": "ignored",
          "traceback": [
            "\u001b[0;31m---------------------------------------------------------------------------\u001b[0m",
            "\u001b[0;31mNameError\u001b[0m                                 Traceback (most recent call last)",
            "\u001b[0;32m<ipython-input-105-0f2de1404a6c>\u001b[0m in \u001b[0;36m<cell line: 1>\u001b[0;34m()\u001b[0m\n\u001b[0;32m----> 1\u001b[0;31m \u001b[0mmodel\u001b[0m\u001b[0;34m,\u001b[0m \u001b[0mloss\u001b[0m\u001b[0;34m,\u001b[0m \u001b[0maccuracy\u001b[0m \u001b[0;34m=\u001b[0m \u001b[0mtrain_evaluate_model\u001b[0m\u001b[0;34m(\u001b[0m\u001b[0mds_train\u001b[0m\u001b[0;34m,\u001b[0m \u001b[0mds_val\u001b[0m\u001b[0;34m,\u001b[0m \u001b[0mmodel\u001b[0m\u001b[0;34m,\u001b[0m \u001b[0;36m10\u001b[0m\u001b[0;34m)\u001b[0m\u001b[0;34m\u001b[0m\u001b[0;34m\u001b[0m\u001b[0m\n\u001b[0m",
            "\u001b[0;31mNameError\u001b[0m: name 'train_evaluate_model' is not defined"
          ]
        }
      ]
    },
    {
      "cell_type": "code",
      "source": [
        "#model.save"
      ],
      "metadata": {
        "id": "6XzIcOPXwbhj"
      },
      "execution_count": null,
      "outputs": []
    }
  ]
}