{
 "cells": [
  {
   "cell_type": "markdown",
   "id": "2323401c",
   "metadata": {},
   "source": [
    "# 01-NBME-Data-Exploration\n",
    "\n",
    "Background: https://www.kaggle.com/competitions/nbme-score-clinical-patient-notes\n",
    "\n",
    "Objectives: \n",
    "1. identify if clinical concepts as specified in 'features' are captured for each clinical case\n",
    "2. extract the texts (start_char, end_char) in clinical notes 'patient_notes' that correspond to the clinical concepts"
   ]
  },
  {
   "cell_type": "code",
   "execution_count": 42,
   "id": "ce5b52b7",
   "metadata": {},
   "outputs": [],
   "source": [
    "# import libraries\n",
    "\n",
    "import numpy as np\n",
    "import pandas as pd\n",
    "import os\n",
    "from ast import literal_eval"
   ]
  },
  {
   "cell_type": "markdown",
   "id": "22bd8d1e",
   "metadata": {},
   "source": [
    "1. Data Overview"
   ]
  },
  {
   "cell_type": "code",
   "execution_count": 2,
   "id": "44707e52",
   "metadata": {},
   "outputs": [],
   "source": [
    "df_notes = pd.read_csv('patient_notes.csv')\n",
    "df_feature = pd.read_csv('features.csv')\n",
    "df_train = pd.read_csv('train.csv')"
   ]
  },
  {
   "cell_type": "code",
   "execution_count": 3,
   "id": "51045d47",
   "metadata": {},
   "outputs": [
    {
     "data": {
      "text/plain": [
       "Index(['pn_num', 'case_num', 'pn_history'], dtype='object')"
      ]
     },
     "execution_count": 3,
     "metadata": {},
     "output_type": "execute_result"
    }
   ],
   "source": [
    "df_notes.columns"
   ]
  },
  {
   "cell_type": "code",
   "execution_count": 4,
   "id": "7025dfc7",
   "metadata": {},
   "outputs": [
    {
     "name": "stdout",
     "output_type": "stream",
     "text": [
      "unique pn_num: 42146\n",
      "unique case_num: 10\n",
      "unique pn_history: 42146\n"
     ]
    }
   ],
   "source": [
    "print('unique pn_num:', df_notes['pn_num'].nunique())\n",
    "print('unique case_num:', df_notes['case_num'].nunique())\n",
    "print('unique pn_history:', df_notes['pn_history'].nunique())"
   ]
  },
  {
   "cell_type": "code",
   "execution_count": 5,
   "id": "5b96c446",
   "metadata": {},
   "outputs": [
    {
     "name": "stdout",
     "output_type": "stream",
     "text": [
      "unique records per case:\n"
     ]
    },
    {
     "data": {
      "text/plain": [
       "case_num\n",
       "0    2268\n",
       "1     808\n",
       "2    1958\n",
       "3    9753\n",
       "4    5405\n",
       "5    6909\n",
       "6    1597\n",
       "7    4101\n",
       "8    4196\n",
       "9    5151\n",
       "Name: pn_num, dtype: int64"
      ]
     },
     "execution_count": 5,
     "metadata": {},
     "output_type": "execute_result"
    }
   ],
   "source": [
    "print('unique records per case:')\n",
    "df_notes.groupby('case_num')['pn_num'].nunique()"
   ]
  },
  {
   "cell_type": "code",
   "execution_count": 15,
   "id": "4eafb26d",
   "metadata": {},
   "outputs": [
    {
     "name": "stdout",
     "output_type": "stream",
     "text": [
      "#feature_num:  143\n",
      "#feature_txt:  131\n"
     ]
    }
   ],
   "source": [
    "print('#feature_num: ', df_feature.feature_num.nunique())\n",
    "print('#feature_txt: ', df_feature.feature_text.nunique()) "
   ]
  },
  {
   "cell_type": "code",
   "execution_count": 16,
   "id": "809a00b0",
   "metadata": {},
   "outputs": [
    {
     "name": "stdout",
     "output_type": "stream",
     "text": [
      "--------------------------------------- \n",
      "\n",
      "feature_num : \n",
      "0      1\n",
      "611    1\n",
      "605    1\n",
      "606    1\n",
      "607    1\n",
      "      ..\n",
      "305    1\n",
      "306    1\n",
      "307    1\n",
      "308    1\n",
      "916    1\n",
      "Name: feature_num, Length: 143, dtype: int64\n",
      "--------------------------------------- \n",
      "\n",
      "case_num : \n",
      "5    18\n",
      "8    18\n",
      "2    17\n",
      "9    17\n",
      "3    16\n",
      "0    13\n",
      "1    13\n",
      "6    12\n",
      "4    10\n",
      "7     9\n",
      "Name: case_num, dtype: int64\n",
      "--------------------------------------- \n",
      "\n",
      "feature_text : \n",
      "Female                                   7\n",
      "Male                                     3\n",
      "20-year                                  2\n",
      "Nausea                                   2\n",
      "35-year                                  2\n",
      "                                        ..\n",
      "44-year                                  1\n",
      "Sleep-disturbance-OR-Early-awakenings    1\n",
      "Heavy-sweating                           1\n",
      "Onset-3-years-ago                        1\n",
      "Subjective-fever                         1\n",
      "Name: feature_text, Length: 131, dtype: int64\n"
     ]
    }
   ],
   "source": [
    "for col in df_feature.columns:\n",
    "    print('---------------------------------------','\\n')\n",
    "    print(col, ': ')\n",
    "    print(df_feature[col].value_counts())\n",
    "    "
   ]
  },
  {
   "cell_type": "code",
   "execution_count": 17,
   "id": "f6cf0ecf",
   "metadata": {},
   "outputs": [
    {
     "data": {
      "text/html": [
       "<div>\n",
       "<style scoped>\n",
       "    .dataframe tbody tr th:only-of-type {\n",
       "        vertical-align: middle;\n",
       "    }\n",
       "\n",
       "    .dataframe tbody tr th {\n",
       "        vertical-align: top;\n",
       "    }\n",
       "\n",
       "    .dataframe thead th {\n",
       "        text-align: right;\n",
       "    }\n",
       "</style>\n",
       "<table border=\"1\" class=\"dataframe\">\n",
       "  <thead>\n",
       "    <tr style=\"text-align: right;\">\n",
       "      <th></th>\n",
       "      <th>feature_num</th>\n",
       "      <th>case_num</th>\n",
       "      <th>feature_text</th>\n",
       "    </tr>\n",
       "  </thead>\n",
       "  <tbody>\n",
       "    <tr>\n",
       "      <th>25</th>\n",
       "      <td>112</td>\n",
       "      <td>1</td>\n",
       "      <td>Female</td>\n",
       "    </tr>\n",
       "    <tr>\n",
       "      <th>34</th>\n",
       "      <td>208</td>\n",
       "      <td>2</td>\n",
       "      <td>Female</td>\n",
       "    </tr>\n",
       "    <tr>\n",
       "      <th>66</th>\n",
       "      <td>407</td>\n",
       "      <td>4</td>\n",
       "      <td>Female</td>\n",
       "    </tr>\n",
       "    <tr>\n",
       "      <th>70</th>\n",
       "      <td>501</td>\n",
       "      <td>5</td>\n",
       "      <td>Female</td>\n",
       "    </tr>\n",
       "    <tr>\n",
       "      <th>99</th>\n",
       "      <td>700</td>\n",
       "      <td>7</td>\n",
       "      <td>Female</td>\n",
       "    </tr>\n",
       "    <tr>\n",
       "      <th>110</th>\n",
       "      <td>802</td>\n",
       "      <td>8</td>\n",
       "      <td>Female</td>\n",
       "    </tr>\n",
       "    <tr>\n",
       "      <th>139</th>\n",
       "      <td>913</td>\n",
       "      <td>9</td>\n",
       "      <td>Female</td>\n",
       "    </tr>\n",
       "  </tbody>\n",
       "</table>\n",
       "</div>"
      ],
      "text/plain": [
       "     feature_num  case_num feature_text\n",
       "25           112         1       Female\n",
       "34           208         2       Female\n",
       "66           407         4       Female\n",
       "70           501         5       Female\n",
       "99           700         7       Female\n",
       "110          802         8       Female\n",
       "139          913         9       Female"
      ]
     },
     "execution_count": 17,
     "metadata": {},
     "output_type": "execute_result"
    }
   ],
   "source": [
    "# a few feature entities (feature_text) are shared by multiple cases and take on a unique feature_num\n",
    "# an example below:\n",
    "df_feature[df_feature['feature_text']=='Female']"
   ]
  },
  {
   "cell_type": "code",
   "execution_count": 18,
   "id": "461e7590",
   "metadata": {},
   "outputs": [
    {
     "name": "stdout",
     "output_type": "stream",
     "text": [
      "# of unique feature entities to be mapped out for each case: \n"
     ]
    },
    {
     "data": {
      "text/plain": [
       "case_num\n",
       "0    13\n",
       "1    13\n",
       "2    17\n",
       "3    16\n",
       "4    10\n",
       "5    18\n",
       "6    12\n",
       "7     9\n",
       "8    18\n",
       "9    17\n",
       "Name: feature_text, dtype: int64"
      ]
     },
     "execution_count": 18,
     "metadata": {},
     "output_type": "execute_result"
    }
   ],
   "source": [
    "print('# of unique feature entities to be mapped out for each case: ')\n",
    "df_feature.groupby(['case_num'])['feature_text'].count()"
   ]
  },
  {
   "cell_type": "markdown",
   "id": "b2291b3f",
   "metadata": {},
   "source": [
    "2. Train data: a subset of clinical notes are provided as train data where annotation and location are given for each feature entities"
   ]
  },
  {
   "cell_type": "code",
   "execution_count": 7,
   "id": "5d526d64",
   "metadata": {},
   "outputs": [
    {
     "data": {
      "text/plain": [
       "(14300, 6)"
      ]
     },
     "execution_count": 7,
     "metadata": {},
     "output_type": "execute_result"
    }
   ],
   "source": [
    "df_train.shape"
   ]
  },
  {
   "cell_type": "code",
   "execution_count": 6,
   "id": "79ecf86e",
   "metadata": {},
   "outputs": [
    {
     "data": {
      "text/html": [
       "<div>\n",
       "<style scoped>\n",
       "    .dataframe tbody tr th:only-of-type {\n",
       "        vertical-align: middle;\n",
       "    }\n",
       "\n",
       "    .dataframe tbody tr th {\n",
       "        vertical-align: top;\n",
       "    }\n",
       "\n",
       "    .dataframe thead th {\n",
       "        text-align: right;\n",
       "    }\n",
       "</style>\n",
       "<table border=\"1\" class=\"dataframe\">\n",
       "  <thead>\n",
       "    <tr style=\"text-align: right;\">\n",
       "      <th></th>\n",
       "      <th>id</th>\n",
       "      <th>case_num</th>\n",
       "      <th>pn_num</th>\n",
       "      <th>feature_num</th>\n",
       "      <th>annotation</th>\n",
       "      <th>location</th>\n",
       "    </tr>\n",
       "  </thead>\n",
       "  <tbody>\n",
       "    <tr>\n",
       "      <th>0</th>\n",
       "      <td>00016_000</td>\n",
       "      <td>0</td>\n",
       "      <td>16</td>\n",
       "      <td>0</td>\n",
       "      <td>['dad with recent heart attcak']</td>\n",
       "      <td>['696 724']</td>\n",
       "    </tr>\n",
       "    <tr>\n",
       "      <th>1</th>\n",
       "      <td>00016_001</td>\n",
       "      <td>0</td>\n",
       "      <td>16</td>\n",
       "      <td>1</td>\n",
       "      <td>['mom with \"thyroid disease']</td>\n",
       "      <td>['668 693']</td>\n",
       "    </tr>\n",
       "    <tr>\n",
       "      <th>2</th>\n",
       "      <td>00016_002</td>\n",
       "      <td>0</td>\n",
       "      <td>16</td>\n",
       "      <td>2</td>\n",
       "      <td>['chest pressure']</td>\n",
       "      <td>['203 217']</td>\n",
       "    </tr>\n",
       "    <tr>\n",
       "      <th>3</th>\n",
       "      <td>00016_003</td>\n",
       "      <td>0</td>\n",
       "      <td>16</td>\n",
       "      <td>3</td>\n",
       "      <td>['intermittent episodes', 'episode']</td>\n",
       "      <td>['70 91', '176 183']</td>\n",
       "    </tr>\n",
       "    <tr>\n",
       "      <th>4</th>\n",
       "      <td>00016_004</td>\n",
       "      <td>0</td>\n",
       "      <td>16</td>\n",
       "      <td>4</td>\n",
       "      <td>['felt as if he were going to pass out']</td>\n",
       "      <td>['222 258']</td>\n",
       "    </tr>\n",
       "  </tbody>\n",
       "</table>\n",
       "</div>"
      ],
      "text/plain": [
       "          id  case_num  pn_num  feature_num  \\\n",
       "0  00016_000         0      16            0   \n",
       "1  00016_001         0      16            1   \n",
       "2  00016_002         0      16            2   \n",
       "3  00016_003         0      16            3   \n",
       "4  00016_004         0      16            4   \n",
       "\n",
       "                                 annotation              location  \n",
       "0          ['dad with recent heart attcak']           ['696 724']  \n",
       "1             ['mom with \"thyroid disease']           ['668 693']  \n",
       "2                        ['chest pressure']           ['203 217']  \n",
       "3      ['intermittent episodes', 'episode']  ['70 91', '176 183']  \n",
       "4  ['felt as if he were going to pass out']           ['222 258']  "
      ]
     },
     "execution_count": 6,
     "metadata": {},
     "output_type": "execute_result"
    }
   ],
   "source": [
    "df_train.head()"
   ]
  },
  {
   "cell_type": "code",
   "execution_count": 14,
   "id": "10558c6c",
   "metadata": {},
   "outputs": [
    {
     "data": {
      "text/plain": [
       "(14300, 7)"
      ]
     },
     "execution_count": 14,
     "metadata": {},
     "output_type": "execute_result"
    }
   ],
   "source": [
    "df_train_w_notes = pd.merge(df_train, df_notes, how='left', left_on = ['case_num','pn_num'], right_on=['case_num','pn_num'])\n",
    "df_train_w_notes.shape"
   ]
  },
  {
   "cell_type": "code",
   "execution_count": 19,
   "id": "57cb8ef8",
   "metadata": {},
   "outputs": [
    {
     "data": {
      "text/plain": [
       "(14300, 8)"
      ]
     },
     "execution_count": 19,
     "metadata": {},
     "output_type": "execute_result"
    }
   ],
   "source": [
    "data = pd.merge(df_train_w_notes, df_feature, how='left', left_on = ['case_num','feature_num'], right_on=['case_num','feature_num'])\n",
    "\n",
    "data.shape"
   ]
  },
  {
   "cell_type": "code",
   "execution_count": 20,
   "id": "2dc2c67d",
   "metadata": {},
   "outputs": [
    {
     "data": {
      "text/html": [
       "<div>\n",
       "<style scoped>\n",
       "    .dataframe tbody tr th:only-of-type {\n",
       "        vertical-align: middle;\n",
       "    }\n",
       "\n",
       "    .dataframe tbody tr th {\n",
       "        vertical-align: top;\n",
       "    }\n",
       "\n",
       "    .dataframe thead th {\n",
       "        text-align: right;\n",
       "    }\n",
       "</style>\n",
       "<table border=\"1\" class=\"dataframe\">\n",
       "  <thead>\n",
       "    <tr style=\"text-align: right;\">\n",
       "      <th></th>\n",
       "      <th>id</th>\n",
       "      <th>case_num</th>\n",
       "      <th>pn_num</th>\n",
       "      <th>feature_num</th>\n",
       "      <th>annotation</th>\n",
       "      <th>location</th>\n",
       "      <th>pn_history</th>\n",
       "      <th>feature_text</th>\n",
       "    </tr>\n",
       "  </thead>\n",
       "  <tbody>\n",
       "    <tr>\n",
       "      <th>0</th>\n",
       "      <td>00016_000</td>\n",
       "      <td>0</td>\n",
       "      <td>16</td>\n",
       "      <td>0</td>\n",
       "      <td>['dad with recent heart attcak']</td>\n",
       "      <td>['696 724']</td>\n",
       "      <td>HPI: 17yo M presents with palpitations. Patien...</td>\n",
       "      <td>Family-history-of-MI-OR-Family-history-of-myoc...</td>\n",
       "    </tr>\n",
       "    <tr>\n",
       "      <th>1</th>\n",
       "      <td>00016_001</td>\n",
       "      <td>0</td>\n",
       "      <td>16</td>\n",
       "      <td>1</td>\n",
       "      <td>['mom with \"thyroid disease']</td>\n",
       "      <td>['668 693']</td>\n",
       "      <td>HPI: 17yo M presents with palpitations. Patien...</td>\n",
       "      <td>Family-history-of-thyroid-disorder</td>\n",
       "    </tr>\n",
       "    <tr>\n",
       "      <th>2</th>\n",
       "      <td>00016_002</td>\n",
       "      <td>0</td>\n",
       "      <td>16</td>\n",
       "      <td>2</td>\n",
       "      <td>['chest pressure']</td>\n",
       "      <td>['203 217']</td>\n",
       "      <td>HPI: 17yo M presents with palpitations. Patien...</td>\n",
       "      <td>Chest-pressure</td>\n",
       "    </tr>\n",
       "    <tr>\n",
       "      <th>3</th>\n",
       "      <td>00016_003</td>\n",
       "      <td>0</td>\n",
       "      <td>16</td>\n",
       "      <td>3</td>\n",
       "      <td>['intermittent episodes', 'episode']</td>\n",
       "      <td>['70 91', '176 183']</td>\n",
       "      <td>HPI: 17yo M presents with palpitations. Patien...</td>\n",
       "      <td>Intermittent-symptoms</td>\n",
       "    </tr>\n",
       "    <tr>\n",
       "      <th>4</th>\n",
       "      <td>00016_004</td>\n",
       "      <td>0</td>\n",
       "      <td>16</td>\n",
       "      <td>4</td>\n",
       "      <td>['felt as if he were going to pass out']</td>\n",
       "      <td>['222 258']</td>\n",
       "      <td>HPI: 17yo M presents with palpitations. Patien...</td>\n",
       "      <td>Lightheaded</td>\n",
       "    </tr>\n",
       "  </tbody>\n",
       "</table>\n",
       "</div>"
      ],
      "text/plain": [
       "          id  case_num  pn_num  feature_num  \\\n",
       "0  00016_000         0      16            0   \n",
       "1  00016_001         0      16            1   \n",
       "2  00016_002         0      16            2   \n",
       "3  00016_003         0      16            3   \n",
       "4  00016_004         0      16            4   \n",
       "\n",
       "                                 annotation              location  \\\n",
       "0          ['dad with recent heart attcak']           ['696 724']   \n",
       "1             ['mom with \"thyroid disease']           ['668 693']   \n",
       "2                        ['chest pressure']           ['203 217']   \n",
       "3      ['intermittent episodes', 'episode']  ['70 91', '176 183']   \n",
       "4  ['felt as if he were going to pass out']           ['222 258']   \n",
       "\n",
       "                                          pn_history  \\\n",
       "0  HPI: 17yo M presents with palpitations. Patien...   \n",
       "1  HPI: 17yo M presents with palpitations. Patien...   \n",
       "2  HPI: 17yo M presents with palpitations. Patien...   \n",
       "3  HPI: 17yo M presents with palpitations. Patien...   \n",
       "4  HPI: 17yo M presents with palpitations. Patien...   \n",
       "\n",
       "                                        feature_text  \n",
       "0  Family-history-of-MI-OR-Family-history-of-myoc...  \n",
       "1                 Family-history-of-thyroid-disorder  \n",
       "2                                     Chest-pressure  \n",
       "3                              Intermittent-symptoms  \n",
       "4                                        Lightheaded  "
      ]
     },
     "execution_count": 20,
     "metadata": {},
     "output_type": "execute_result"
    }
   ],
   "source": [
    "data.head()"
   ]
  },
  {
   "cell_type": "code",
   "execution_count": 35,
   "id": "339faa36",
   "metadata": {},
   "outputs": [
    {
     "name": "stdout",
     "output_type": "stream",
     "text": [
      "total # of cases in train:  10\n"
     ]
    }
   ],
   "source": [
    "print('total # of cases in train: ', data['case_num'].nunique())\n",
    "print('total # of clinical notes per case: ')"
   ]
  },
  {
   "cell_type": "code",
   "execution_count": 39,
   "id": "9f3f6e49",
   "metadata": {},
   "outputs": [
    {
     "name": "stdout",
     "output_type": "stream",
     "text": [
      "# of notes for each case in train: \n",
      "0 :  100\n",
      "1 :  100\n",
      "2 :  100\n",
      "3 :  100\n",
      "4 :  100\n",
      "5 :  100\n",
      "6 :  100\n",
      "7 :  100\n",
      "8 :  100\n",
      "9 :  100\n"
     ]
    }
   ],
   "source": [
    "print('# of notes for each case in train: ')\n",
    "for i in data['case_num'].unique():\n",
    "    print(i, ': ', data[data['case_num']==i]['pn_num'].nunique())"
   ]
  },
  {
   "cell_type": "code",
   "execution_count": 40,
   "id": "6af63d5c",
   "metadata": {},
   "outputs": [
    {
     "name": "stdout",
     "output_type": "stream",
     "text": [
      "Feature Entities in Training Data: \n",
      "\n",
      "#feature_num:  143\n",
      "#feature_txt:  131\n"
     ]
    }
   ],
   "source": [
    "print('Feature Entities in Training Data:','\\n')\n",
    "print('#feature_num: ', data.feature_num.nunique())\n",
    "print('#feature_txt: ', data.feature_text.nunique())    "
   ]
  },
  {
   "cell_type": "code",
   "execution_count": 46,
   "id": "60d39ec6",
   "metadata": {},
   "outputs": [
    {
     "name": "stdout",
     "output_type": "stream",
     "text": [
      "Features captured per case in training data:\n"
     ]
    },
    {
     "data": {
      "text/html": [
       "<div>\n",
       "<style scoped>\n",
       "    .dataframe tbody tr th:only-of-type {\n",
       "        vertical-align: middle;\n",
       "    }\n",
       "\n",
       "    .dataframe tbody tr th {\n",
       "        vertical-align: top;\n",
       "    }\n",
       "\n",
       "    .dataframe thead th {\n",
       "        text-align: right;\n",
       "    }\n",
       "</style>\n",
       "<table border=\"1\" class=\"dataframe\">\n",
       "  <thead>\n",
       "    <tr style=\"text-align: right;\">\n",
       "      <th></th>\n",
       "      <th>Avg_feature_captured</th>\n",
       "      <th>total_feature_count_per_case</th>\n",
       "      <th>Avg_percent_captured</th>\n",
       "    </tr>\n",
       "    <tr>\n",
       "      <th>case_num</th>\n",
       "      <th></th>\n",
       "      <th></th>\n",
       "      <th></th>\n",
       "    </tr>\n",
       "  </thead>\n",
       "  <tbody>\n",
       "    <tr>\n",
       "      <th>0</th>\n",
       "      <td>9.98</td>\n",
       "      <td>13</td>\n",
       "      <td>76.769231</td>\n",
       "    </tr>\n",
       "    <tr>\n",
       "      <th>1</th>\n",
       "      <td>9.42</td>\n",
       "      <td>13</td>\n",
       "      <td>72.461538</td>\n",
       "    </tr>\n",
       "    <tr>\n",
       "      <th>2</th>\n",
       "      <td>9.98</td>\n",
       "      <td>17</td>\n",
       "      <td>58.705882</td>\n",
       "    </tr>\n",
       "    <tr>\n",
       "      <th>3</th>\n",
       "      <td>11.98</td>\n",
       "      <td>16</td>\n",
       "      <td>74.875000</td>\n",
       "    </tr>\n",
       "    <tr>\n",
       "      <th>4</th>\n",
       "      <td>7.46</td>\n",
       "      <td>10</td>\n",
       "      <td>74.600000</td>\n",
       "    </tr>\n",
       "    <tr>\n",
       "      <th>5</th>\n",
       "      <td>11.74</td>\n",
       "      <td>18</td>\n",
       "      <td>65.222222</td>\n",
       "    </tr>\n",
       "    <tr>\n",
       "      <th>6</th>\n",
       "      <td>9.71</td>\n",
       "      <td>12</td>\n",
       "      <td>80.916667</td>\n",
       "    </tr>\n",
       "    <tr>\n",
       "      <th>7</th>\n",
       "      <td>6.92</td>\n",
       "      <td>9</td>\n",
       "      <td>76.888889</td>\n",
       "    </tr>\n",
       "    <tr>\n",
       "      <th>8</th>\n",
       "      <td>11.90</td>\n",
       "      <td>18</td>\n",
       "      <td>66.111111</td>\n",
       "    </tr>\n",
       "    <tr>\n",
       "      <th>9</th>\n",
       "      <td>9.92</td>\n",
       "      <td>17</td>\n",
       "      <td>58.352941</td>\n",
       "    </tr>\n",
       "  </tbody>\n",
       "</table>\n",
       "</div>"
      ],
      "text/plain": [
       "          Avg_feature_captured  total_feature_count_per_case  \\\n",
       "case_num                                                       \n",
       "0                         9.98                            13   \n",
       "1                         9.42                            13   \n",
       "2                         9.98                            17   \n",
       "3                        11.98                            16   \n",
       "4                         7.46                            10   \n",
       "5                        11.74                            18   \n",
       "6                         9.71                            12   \n",
       "7                         6.92                             9   \n",
       "8                        11.90                            18   \n",
       "9                         9.92                            17   \n",
       "\n",
       "          Avg_percent_captured  \n",
       "case_num                        \n",
       "0                    76.769231  \n",
       "1                    72.461538  \n",
       "2                    58.705882  \n",
       "3                    74.875000  \n",
       "4                    74.600000  \n",
       "5                    65.222222  \n",
       "6                    80.916667  \n",
       "7                    76.888889  \n",
       "8                    66.111111  \n",
       "9                    58.352941  "
      ]
     },
     "execution_count": 46,
     "metadata": {},
     "output_type": "execute_result"
    }
   ],
   "source": [
    "print('Features captured per case in training data:')\n",
    "average_feature_captured = data[data['annot_count']!=0].groupby(['case_num','pn_num'])['feature_num'].nunique().groupby(['case_num']).mean()\n",
    "total_feature_count = df_feature.groupby(['case_num'])['feature_text'].count()\n",
    "\n",
    "pd.DataFrame({'Avg_feature_captured':average_feature_captured,\n",
    "             'total_feature_count_per_case':total_feature_count,\n",
    "             'Avg_percent_captured': 100*average_feature_captured/total_feature_count})\n"
   ]
  },
  {
   "cell_type": "code",
   "execution_count": 47,
   "id": "d0dc06af",
   "metadata": {},
   "outputs": [],
   "source": [
    "# annotation and location for the mapped feature entities are stored as lists in the df\n",
    "# each feature can have multiple sentence segments that are separated by comma\n",
    "data['annot_count'] = data['annotation'].apply(lambda x: len(literal_eval(x)))\n",
    "data['loc_count'] = data['location'].apply(lambda x: len(literal_eval(x)))"
   ]
  },
  {
   "cell_type": "code",
   "execution_count": 48,
   "id": "9fb9dd7c",
   "metadata": {},
   "outputs": [
    {
     "data": {
      "text/plain": [
       "annot_count  loc_count\n",
       "1            1            8181\n",
       "0            0            4399\n",
       "2            2            1296\n",
       "3            3             287\n",
       "4            4              99\n",
       "5            5              27\n",
       "6            6               9\n",
       "7            7               1\n",
       "8            8               1\n",
       "dtype: int64"
      ]
     },
     "execution_count": 48,
     "metadata": {},
     "output_type": "execute_result"
    }
   ],
   "source": [
    "data[['annot_count', 'loc_count']].value_counts()"
   ]
  },
  {
   "cell_type": "code",
   "execution_count": 49,
   "id": "46dd62fd",
   "metadata": {},
   "outputs": [
    {
     "data": {
      "text/html": [
       "<div>\n",
       "<style scoped>\n",
       "    .dataframe tbody tr th:only-of-type {\n",
       "        vertical-align: middle;\n",
       "    }\n",
       "\n",
       "    .dataframe tbody tr th {\n",
       "        vertical-align: top;\n",
       "    }\n",
       "\n",
       "    .dataframe thead th {\n",
       "        text-align: right;\n",
       "    }\n",
       "</style>\n",
       "<table border=\"1\" class=\"dataframe\">\n",
       "  <thead>\n",
       "    <tr style=\"text-align: right;\">\n",
       "      <th></th>\n",
       "      <th>id</th>\n",
       "      <th>case_num</th>\n",
       "      <th>pn_num</th>\n",
       "      <th>feature_num</th>\n",
       "      <th>annotation</th>\n",
       "      <th>location</th>\n",
       "      <th>pn_history</th>\n",
       "      <th>feature_text</th>\n",
       "      <th>annot_count</th>\n",
       "      <th>loc_count</th>\n",
       "    </tr>\n",
       "  </thead>\n",
       "  <tbody>\n",
       "  </tbody>\n",
       "</table>\n",
       "</div>"
      ],
      "text/plain": [
       "Empty DataFrame\n",
       "Columns: [id, case_num, pn_num, feature_num, annotation, location, pn_history, feature_text, annot_count, loc_count]\n",
       "Index: []"
      ]
     },
     "execution_count": 49,
     "metadata": {},
     "output_type": "execute_result"
    }
   ],
   "source": [
    "data[data['annot_count']!=data['loc_count']]"
   ]
  },
  {
   "cell_type": "code",
   "execution_count": 50,
   "id": "0cff770b",
   "metadata": {},
   "outputs": [
    {
     "data": {
      "text/html": [
       "<div>\n",
       "<style scoped>\n",
       "    .dataframe tbody tr th:only-of-type {\n",
       "        vertical-align: middle;\n",
       "    }\n",
       "\n",
       "    .dataframe tbody tr th {\n",
       "        vertical-align: top;\n",
       "    }\n",
       "\n",
       "    .dataframe thead th {\n",
       "        text-align: right;\n",
       "    }\n",
       "</style>\n",
       "<table border=\"1\" class=\"dataframe\">\n",
       "  <thead>\n",
       "    <tr style=\"text-align: right;\">\n",
       "      <th></th>\n",
       "      <th>id</th>\n",
       "      <th>case_num</th>\n",
       "      <th>pn_num</th>\n",
       "      <th>feature_num</th>\n",
       "      <th>annotation</th>\n",
       "      <th>location</th>\n",
       "      <th>pn_history</th>\n",
       "      <th>feature_text</th>\n",
       "      <th>annot_count</th>\n",
       "      <th>loc_count</th>\n",
       "    </tr>\n",
       "  </thead>\n",
       "  <tbody>\n",
       "    <tr>\n",
       "      <th>5</th>\n",
       "      <td>00016_005</td>\n",
       "      <td>0</td>\n",
       "      <td>16</td>\n",
       "      <td>5</td>\n",
       "      <td>[]</td>\n",
       "      <td>[]</td>\n",
       "      <td>HPI: 17yo M presents with palpitations. Patien...</td>\n",
       "      <td>No-hair-changes-OR-no-nail-changes-OR-no-tempe...</td>\n",
       "      <td>0</td>\n",
       "      <td>0</td>\n",
       "    </tr>\n",
       "    <tr>\n",
       "      <th>7</th>\n",
       "      <td>00016_007</td>\n",
       "      <td>0</td>\n",
       "      <td>16</td>\n",
       "      <td>7</td>\n",
       "      <td>[]</td>\n",
       "      <td>[]</td>\n",
       "      <td>HPI: 17yo M presents with palpitations. Patien...</td>\n",
       "      <td>Shortness-of-breath</td>\n",
       "      <td>0</td>\n",
       "      <td>0</td>\n",
       "    </tr>\n",
       "    <tr>\n",
       "      <th>8</th>\n",
       "      <td>00016_008</td>\n",
       "      <td>0</td>\n",
       "      <td>16</td>\n",
       "      <td>8</td>\n",
       "      <td>[]</td>\n",
       "      <td>[]</td>\n",
       "      <td>HPI: 17yo M presents with palpitations. Patien...</td>\n",
       "      <td>Caffeine-use</td>\n",
       "      <td>0</td>\n",
       "      <td>0</td>\n",
       "    </tr>\n",
       "    <tr>\n",
       "      <th>13</th>\n",
       "      <td>00041_000</td>\n",
       "      <td>0</td>\n",
       "      <td>41</td>\n",
       "      <td>0</td>\n",
       "      <td>[]</td>\n",
       "      <td>[]</td>\n",
       "      <td>17 Y/O M CAME TO THE CLINIC C/O HEART POUNDING...</td>\n",
       "      <td>Family-history-of-MI-OR-Family-history-of-myoc...</td>\n",
       "      <td>0</td>\n",
       "      <td>0</td>\n",
       "    </tr>\n",
       "    <tr>\n",
       "      <th>17</th>\n",
       "      <td>00041_004</td>\n",
       "      <td>0</td>\n",
       "      <td>41</td>\n",
       "      <td>4</td>\n",
       "      <td>[]</td>\n",
       "      <td>[]</td>\n",
       "      <td>17 Y/O M CAME TO THE CLINIC C/O HEART POUNDING...</td>\n",
       "      <td>Lightheaded</td>\n",
       "      <td>0</td>\n",
       "      <td>0</td>\n",
       "    </tr>\n",
       "  </tbody>\n",
       "</table>\n",
       "</div>"
      ],
      "text/plain": [
       "           id  case_num  pn_num  feature_num annotation location  \\\n",
       "5   00016_005         0      16            5         []       []   \n",
       "7   00016_007         0      16            7         []       []   \n",
       "8   00016_008         0      16            8         []       []   \n",
       "13  00041_000         0      41            0         []       []   \n",
       "17  00041_004         0      41            4         []       []   \n",
       "\n",
       "                                           pn_history  \\\n",
       "5   HPI: 17yo M presents with palpitations. Patien...   \n",
       "7   HPI: 17yo M presents with palpitations. Patien...   \n",
       "8   HPI: 17yo M presents with palpitations. Patien...   \n",
       "13  17 Y/O M CAME TO THE CLINIC C/O HEART POUNDING...   \n",
       "17  17 Y/O M CAME TO THE CLINIC C/O HEART POUNDING...   \n",
       "\n",
       "                                         feature_text  annot_count  loc_count  \n",
       "5   No-hair-changes-OR-no-nail-changes-OR-no-tempe...            0          0  \n",
       "7                                 Shortness-of-breath            0          0  \n",
       "8                                        Caffeine-use            0          0  \n",
       "13  Family-history-of-MI-OR-Family-history-of-myoc...            0          0  \n",
       "17                                        Lightheaded            0          0  "
      ]
     },
     "execution_count": 50,
     "metadata": {},
     "output_type": "execute_result"
    }
   ],
   "source": [
    "data[data['annot_count']==0].head()"
   ]
  },
  {
   "cell_type": "code",
   "execution_count": 66,
   "id": "e48479a3",
   "metadata": {},
   "outputs": [],
   "source": [
    "data['is_annotated']=data['annot_count'].apply(lambda x: 0 if x==0 else 1)"
   ]
  },
  {
   "cell_type": "code",
   "execution_count": 67,
   "id": "3c904c14",
   "metadata": {},
   "outputs": [
    {
     "data": {
      "text/plain": [
       "<AxesSubplot: >"
      ]
     },
     "execution_count": 67,
     "metadata": {},
     "output_type": "execute_result"
    },
    {
     "data": {
      "image/png": "[encoded data removed]",
      "text/plain": [
       "<Figure size 432x288 with 1 Axes>"
      ]
     },
     "metadata": {
      "needs_background": "light"
     },
     "output_type": "display_data"
    }
   ],
   "source": [
    "data.groupby(['feature_num'])['is_annotated'].agg('sum').hist()"
   ]
  },
  {
   "cell_type": "code",
   "execution_count": 71,
   "id": "9eac1519",
   "metadata": {},
   "outputs": [
    {
     "data": {
      "text/plain": [
       "<AxesSubplot: >"
      ]
     },
     "execution_count": 71,
     "metadata": {},
     "output_type": "execute_result"
    },
    {
     "data": {
      "image/png": "[encoded data removed]",
      "text/plain": [
       "<Figure size 432x288 with 1 Axes>"
      ]
     },
     "metadata": {
      "needs_background": "light"
     },
     "output_type": "display_data"
    }
   ],
   "source": [
    "data.groupby(['feature_num'])['is_annotated'].agg('sum').plot.box()"
   ]
  },
  {
   "cell_type": "code",
   "execution_count": 72,
   "id": "f29056ba",
   "metadata": {},
   "outputs": [],
   "source": [
    "feature_summary_train = data.groupby(['feature_num'])['is_annotated'].agg('sum')"
   ]
  },
  {
   "cell_type": "code",
   "execution_count": 78,
   "id": "1b990c81",
   "metadata": {},
   "outputs": [
    {
     "data": {
      "text/plain": [
       "count    143.000000\n",
       "mean      69.237762\n",
       "std       26.783419\n",
       "min        1.000000\n",
       "25%       53.000000\n",
       "50%       76.000000\n",
       "75%       91.000000\n",
       "max      100.000000\n",
       "Name: is_annotated, dtype: float64"
      ]
     },
     "execution_count": 78,
     "metadata": {},
     "output_type": "execute_result"
    }
   ],
   "source": [
    "feature_summary_train.describe()"
   ]
  },
  {
   "cell_type": "code",
   "execution_count": 79,
   "id": "aa6baadb",
   "metadata": {},
   "outputs": [
    {
     "data": {
      "text/plain": [
       "feature_num\n",
       "209    1\n",
       "807    1\n",
       "809    7\n",
       "911    2\n",
       "Name: is_annotated, dtype: int64"
      ]
     },
     "execution_count": 79,
     "metadata": {},
     "output_type": "execute_result"
    }
   ],
   "source": [
    "feature_summary_train[feature_summary_train<=10]"
   ]
  },
  {
   "cell_type": "code",
   "execution_count": 89,
   "id": "9a571a3f",
   "metadata": {},
   "outputs": [
    {
     "data": {
      "text/plain": [
       "array([2, 8, 9], dtype=int64)"
      ]
     },
     "execution_count": 89,
     "metadata": {},
     "output_type": "execute_result"
    }
   ],
   "source": [
    "data[data['feature_num'].isin([209,807,809,911])]['case_num'].unique()"
   ]
  },
  {
   "cell_type": "markdown",
   "id": "cecbd0e9",
   "metadata": {},
   "source": [
    "Features in train:\n",
    "* 50% of the features are annotated in 80% of the notes\n",
    "* 25% of the features are annotated in 50% of the notes\n",
    "* 4 features (209, 807, 809, 911) from 3 cases are found annotated in very few notes (<10%)"
   ]
  },
  {
   "cell_type": "code",
   "execution_count": 145,
   "id": "4323d2a0",
   "metadata": {},
   "outputs": [],
   "source": [
    "annotation_abnormaly = data[data['location'].str.contains(';')]"
   ]
  },
  {
   "cell_type": "code",
   "execution_count": 146,
   "id": "d4b17f26",
   "metadata": {},
   "outputs": [
    {
     "name": "stdout",
     "output_type": "stream",
     "text": [
      "# of rows with ; in annotation text:  1650\n",
      "cases with this issue:  [0 1 2 3 4 5 6 7 8 9]\n",
      "cases with this issue:  737\n"
     ]
    }
   ],
   "source": [
    "print('# of rows with ; in annotation text: ', annotation_abnormaly.shape[0])\n",
    "print('cases with this issue: ', annotation_abnormaly['case_num'].unique())\n",
    "print('cases with this issue: ', annotation_abnormaly['pn_num'].nunique())"
   ]
  },
  {
   "cell_type": "code",
   "execution_count": 147,
   "id": "3a29a752",
   "metadata": {},
   "outputs": [
    {
     "data": {
      "text/html": [
       "<div>\n",
       "<style scoped>\n",
       "    .dataframe tbody tr th:only-of-type {\n",
       "        vertical-align: middle;\n",
       "    }\n",
       "\n",
       "    .dataframe tbody tr th {\n",
       "        vertical-align: top;\n",
       "    }\n",
       "\n",
       "    .dataframe thead th {\n",
       "        text-align: right;\n",
       "    }\n",
       "</style>\n",
       "<table border=\"1\" class=\"dataframe\">\n",
       "  <thead>\n",
       "    <tr style=\"text-align: right;\">\n",
       "      <th></th>\n",
       "      <th>id</th>\n",
       "      <th>case_num</th>\n",
       "      <th>pn_num</th>\n",
       "      <th>feature_num</th>\n",
       "      <th>annotation</th>\n",
       "      <th>location</th>\n",
       "      <th>pn_history</th>\n",
       "      <th>feature_text</th>\n",
       "      <th>annot_count</th>\n",
       "      <th>loc_count</th>\n",
       "      <th>annotated</th>\n",
       "      <th>is_annotated</th>\n",
       "    </tr>\n",
       "  </thead>\n",
       "  <tbody>\n",
       "    <tr>\n",
       "      <th>6906</th>\n",
       "      <td>50072_506</td>\n",
       "      <td>5</td>\n",
       "      <td>50072</td>\n",
       "      <td>506</td>\n",
       "      <td>['No CP']</td>\n",
       "      <td>['426 428;437 439']</td>\n",
       "      <td>Ms. Whelan is a 26 yo F with a 6 mo hx of hear...</td>\n",
       "      <td>No-chest-pain</td>\n",
       "      <td>1</td>\n",
       "      <td>1</td>\n",
       "      <td>1</td>\n",
       "      <td>1</td>\n",
       "    </tr>\n",
       "    <tr>\n",
       "      <th>6907</th>\n",
       "      <td>50072_507</td>\n",
       "      <td>5</td>\n",
       "      <td>50072</td>\n",
       "      <td>507</td>\n",
       "      <td>['No drug use']</td>\n",
       "      <td>['721 723;744 752']</td>\n",
       "      <td>Ms. Whelan is a 26 yo F with a 6 mo hx of hear...</td>\n",
       "      <td>No-illicit-drug-use</td>\n",
       "      <td>1</td>\n",
       "      <td>1</td>\n",
       "      <td>1</td>\n",
       "      <td>1</td>\n",
       "    </tr>\n",
       "    <tr>\n",
       "      <th>6914</th>\n",
       "      <td>50072_514</td>\n",
       "      <td>5</td>\n",
       "      <td>50072</td>\n",
       "      <td>514</td>\n",
       "      <td>['numbness of fingertips', 'numbness of hands']</td>\n",
       "      <td>['357 379', '357 368;388 393']</td>\n",
       "      <td>Ms. Whelan is a 26 yo F with a 6 mo hx of hear...</td>\n",
       "      <td>Episode-of-hand-numbness-OR-Episode-of-finger-...</td>\n",
       "      <td>2</td>\n",
       "      <td>2</td>\n",
       "      <td>1</td>\n",
       "      <td>1</td>\n",
       "    </tr>\n",
       "    <tr>\n",
       "      <th>6922</th>\n",
       "      <td>50199_504</td>\n",
       "      <td>5</td>\n",
       "      <td>50199</td>\n",
       "      <td>504</td>\n",
       "      <td>['palpitations', 'heart racing']</td>\n",
       "      <td>['65 77', '107 112;129 135']</td>\n",
       "      <td>Ms. Whelan is a 26y/o F presenting to f/u from...</td>\n",
       "      <td>Episodes-of-heart-racing</td>\n",
       "      <td>2</td>\n",
       "      <td>2</td>\n",
       "      <td>1</td>\n",
       "      <td>1</td>\n",
       "    </tr>\n",
       "    <tr>\n",
       "      <th>6943</th>\n",
       "      <td>50375_507</td>\n",
       "      <td>5</td>\n",
       "      <td>50375</td>\n",
       "      <td>507</td>\n",
       "      <td>['Denies durg use']</td>\n",
       "      <td>['773 779;798 806']</td>\n",
       "      <td>Edie Whelan is a 26 year old female who presen...</td>\n",
       "      <td>No-illicit-drug-use</td>\n",
       "      <td>1</td>\n",
       "      <td>1</td>\n",
       "      <td>1</td>\n",
       "      <td>1</td>\n",
       "    </tr>\n",
       "  </tbody>\n",
       "</table>\n",
       "</div>"
      ],
      "text/plain": [
       "             id  case_num  pn_num  feature_num  \\\n",
       "6906  50072_506         5   50072          506   \n",
       "6907  50072_507         5   50072          507   \n",
       "6914  50072_514         5   50072          514   \n",
       "6922  50199_504         5   50199          504   \n",
       "6943  50375_507         5   50375          507   \n",
       "\n",
       "                                           annotation  \\\n",
       "6906                                        ['No CP']   \n",
       "6907                                  ['No drug use']   \n",
       "6914  ['numbness of fingertips', 'numbness of hands']   \n",
       "6922                 ['palpitations', 'heart racing']   \n",
       "6943                              ['Denies durg use']   \n",
       "\n",
       "                            location  \\\n",
       "6906             ['426 428;437 439']   \n",
       "6907             ['721 723;744 752']   \n",
       "6914  ['357 379', '357 368;388 393']   \n",
       "6922    ['65 77', '107 112;129 135']   \n",
       "6943             ['773 779;798 806']   \n",
       "\n",
       "                                             pn_history  \\\n",
       "6906  Ms. Whelan is a 26 yo F with a 6 mo hx of hear...   \n",
       "6907  Ms. Whelan is a 26 yo F with a 6 mo hx of hear...   \n",
       "6914  Ms. Whelan is a 26 yo F with a 6 mo hx of hear...   \n",
       "6922  Ms. Whelan is a 26y/o F presenting to f/u from...   \n",
       "6943  Edie Whelan is a 26 year old female who presen...   \n",
       "\n",
       "                                           feature_text  annot_count  \\\n",
       "6906                                      No-chest-pain            1   \n",
       "6907                                No-illicit-drug-use            1   \n",
       "6914  Episode-of-hand-numbness-OR-Episode-of-finger-...            2   \n",
       "6922                           Episodes-of-heart-racing            2   \n",
       "6943                                No-illicit-drug-use            1   \n",
       "\n",
       "      loc_count  annotated  is_annotated  \n",
       "6906          1          1             1  \n",
       "6907          1          1             1  \n",
       "6914          2          1             1  \n",
       "6922          2          1             1  \n",
       "6943          1          1             1  "
      ]
     },
     "execution_count": 147,
     "metadata": {},
     "output_type": "execute_result"
    }
   ],
   "source": [
    "annotation_abnormaly[(annotation_abnormaly['case_num']==5)].head()"
   ]
  },
  {
   "cell_type": "code",
   "execution_count": 148,
   "id": "1fad8ec4",
   "metadata": {},
   "outputs": [
    {
     "data": {
      "text/plain": [
       "'Ms. Whelan is a 26 yo F with a 6 mo hx of heart palpitations that have been increasing in freq in the past 2 weeks. She was seen 2 weeks ago for similar symptoms with a w/u WNL. \\r\\n-The events last 12-30 min, are not assoc with anything particular, no alleviating or aggrevating factors. \\r\\n-She has assoc SOB, hot and then cold and clamy skin\\r\\n-Recently had numbness of fingertips on both hands during palpitation event \\r\\nROS: No dyspne, CP, skin, hair or wt changes. \\r\\nPMH: none\\r\\nPSH: None \\r\\nMeds: none \\r\\nAllergies: NKD\\r\\nFH: non contributory \\r\\nSH: 2 months unemployed, recently purchased a condo but is optomistic about her financial and occupational situation. Lives alone, sexual active with one partner, uses condoms. No alcohol, tobacco or drug use.'"
      ]
     },
     "execution_count": 148,
     "metadata": {},
     "output_type": "execute_result"
    }
   ],
   "source": [
    "pn_50072 = annotation_abnormaly[(annotation_abnormaly['case_num']==5) & (annotation_abnormaly['pn_num']==50072)].iloc[0].pn_history\n",
    "pn_50072"
   ]
  },
  {
   "cell_type": "code",
   "execution_count": 149,
   "id": "718d736a",
   "metadata": {},
   "outputs": [
    {
     "data": {
      "text/plain": [
       "['N', 'o', ' ', 'd', 'y', 's', 'p', 'n', 'e', ',', ' ', 'C', 'P']"
      ]
     },
     "execution_count": 149,
     "metadata": {},
     "output_type": "execute_result"
    }
   ],
   "source": [
    "list(pn_50072)[426:439]"
   ]
  },
  {
   "cell_type": "markdown",
   "id": "69170f05",
   "metadata": {},
   "source": [
    "Annotations: \n",
    "1. There are 4399 records where no annotated texts are found; most of time feature_text is represented by a single text segment marked by a single pair of 'start end' indices, but can also be described by separate text segments. \n",
    "2. Number of annotations for each matches the number of location (start, end) \n",
    "3. Case_num 2 and 9 have the lowest numbers of features captured (below 60%)\n",
    "4. 1650 records contain ; in location column and requires further cleaning"
   ]
  },
  {
   "cell_type": "code",
   "execution_count": 65,
   "id": "d3f3293e",
   "metadata": {},
   "outputs": [],
   "source": [
    "#visualize the annotation\n",
    "#length of the annotation"
   ]
  },
  {
   "cell_type": "code",
   "execution_count": 91,
   "id": "652714a8",
   "metadata": {},
   "outputs": [],
   "source": [
    "data.to_csv('data.csv', index=False)"
   ]
  }
 ],
 "metadata": {
  "kernelspec": {
   "display_name": "Python 3 (ipykernel)",
   "language": "python",
   "name": "python3"
  },
  "language_info": {
   "codemirror_mode": {
    "name": "ipython",
    "version": 3
   },
   "file_extension": ".py",
   "mimetype": "text/x-python",
   "name": "python",
   "nbconvert_exporter": "python",
   "pygments_lexer": "ipython3",
   "version": "3.9.12"
  }
 },
 "nbformat": 4,
 "nbformat_minor": 5
}
